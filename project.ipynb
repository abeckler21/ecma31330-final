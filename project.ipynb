{
 "cells": [
  {
   "cell_type": "markdown",
   "metadata": {},
   "source": [
    "# ECMA 31330 Final Project\n",
    "### Abby Beckler, Miles Brown"
   ]
  },
  {
   "cell_type": "code",
   "execution_count": 1,
   "metadata": {},
   "outputs": [],
   "source": [
    "# imports\n",
    "import os\n",
    "os.environ[\"KMP_DUPLICATE_LIB_OK\"] = \"TRUE\"\n",
    "import numpy as np\n",
    "import matplotlib.pyplot as plt\n",
    "import pandas as pd\n",
    "import statsmodels.api as sm\n",
    "import torch\n",
    "import torch.nn as nn\n",
    "import torch.optim as optim\n",
    "from torch.utils.data import DataLoader, Dataset\n",
    "from sklearn.impute import KNNImputer"
   ]
  },
  {
   "cell_type": "code",
   "execution_count": 2,
   "metadata": {},
   "outputs": [],
   "source": [
    "# load the data\n",
    "ANES = pd.read_csv('data/ANES.csv')\n",
    "\n",
    "# impute using k-nearest neighbors imputer\n",
    "imputer = KNNImputer(n_neighbors=5)\n",
    "ANES = pd.DataFrame(imputer.fit_transform(ANES), columns=ANES.columns)\n",
    "\n",
    "# add relevant columns 'pocketEval' and 'econEval'\n",
    "ANES['pocketEval'] = (ANES['pocket'] - 3) * (-1/2)\n",
    "ANES['econEval'] = (ANES['retro'] - 3) * (-1/2)"
   ]
  },
  {
   "cell_type": "markdown",
   "metadata": {},
   "source": [
    "## Perform Initial OLS Regressions (same as K&K)"
   ]
  },
  {
   "cell_type": "code",
   "execution_count": 3,
   "metadata": {},
   "outputs": [],
   "source": [
    "# regress 'pocketEval' on 'trumpft'\n",
    "X_pocket = ANES['pocketEval']\n",
    "X_pocket = sm.add_constant(X_pocket)\n",
    "y = ANES['trumpft']\n",
    "model_pocket = sm.OLS(y, X_pocket).fit()\n",
    "\n",
    "# regresss 'econEval' on 'trumpft'\n",
    "X_econ = ANES['econEval']\n",
    "X_econ = sm.add_constant(X_econ)\n",
    "model_econ = sm.OLS(y, X_econ).fit()"
   ]
  },
  {
   "cell_type": "markdown",
   "metadata": {},
   "source": [
    "## More Complex OLS Regressions (+ Covariates)"
   ]
  },
  {
   "cell_type": "markdown",
   "metadata": {},
   "source": [
    "## LASSO Regression"
   ]
  },
  {
   "cell_type": "markdown",
   "metadata": {},
   "source": [
    "## Random Forest"
   ]
  }
 ],
 "metadata": {
  "kernelspec": {
   "display_name": "base",
   "language": "python",
   "name": "python3"
  },
  "language_info": {
   "codemirror_mode": {
    "name": "ipython",
    "version": 3
   },
   "file_extension": ".py",
   "mimetype": "text/x-python",
   "name": "python",
   "nbconvert_exporter": "python",
   "pygments_lexer": "ipython3",
   "version": "3.12.7"
  }
 },
 "nbformat": 4,
 "nbformat_minor": 2
}
