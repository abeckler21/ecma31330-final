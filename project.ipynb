{
 "cells": [
  {
   "cell_type": "markdown",
   "metadata": {},
   "source": [
    "# ECMA 31330 Final Project\n",
    "### Abby Beckler, Miles Brown"
   ]
  },
  {
   "cell_type": "code",
   "execution_count": 103,
   "metadata": {},
   "outputs": [],
   "source": [
    "# imports\n",
    "import os\n",
    "os.environ[\"KMP_DUPLICATE_LIB_OK\"] = \"TRUE\"\n",
    "import numpy as np\n",
    "import matplotlib.pyplot as plt\n",
    "import pandas as pd\n",
    "import statsmodels.api as sm\n",
    "import torch\n",
    "import torch.nn as nn\n",
    "import torch.optim as optim\n",
    "from torch.utils.data import DataLoader, Dataset\n",
    "from sklearn.impute import KNNImputer\n",
    "from sklearn.linear_model import Lasso, LassoCV\n",
    "from sklearn.ensemble import RandomForestRegressor\n",
    "from sklearn.preprocessing import StandardScaler\n",
    "from sklearn.model_selection import train_test_split"
   ]
  },
  {
   "cell_type": "markdown",
   "metadata": {},
   "source": [
    "## Load Data + Use KNN to Impute Missing Values"
   ]
  },
  {
   "cell_type": "code",
   "execution_count": 104,
   "metadata": {},
   "outputs": [],
   "source": [
    "# set seed to ensure reproducibility\n",
    "np.random.seed(25)\n",
    "\n",
    "# load the data\n",
    "ANES = pd.read_csv('data/ANES.csv')\n",
    "\n",
    "# remove rows with missing 'pocket', 'retro', and 'trumpft' values\n",
    "ANES = ANES.dropna(subset=['pocket', 'retro', 'trumpft'])\n",
    "\n",
    "# impute using k-nearest neighbors imputer\n",
    "imputer = KNNImputer(n_neighbors=5)\n",
    "ANES = pd.DataFrame(imputer.fit_transform(ANES), columns=ANES.columns)\n",
    "\n",
    "# add relevant columns 'pocketEval' and 'econEval'\n",
    "ANES['pocketEval'] = (ANES['pocket'] - 3) * (-1/2)\n",
    "ANES['econEval'] = (ANES['retro'] - 3) * (-1/2)"
   ]
  },
  {
   "cell_type": "markdown",
   "metadata": {},
   "source": [
    "## Perform Initial OLS Regressions (same as K&K)"
   ]
  },
  {
   "cell_type": "code",
   "execution_count": 105,
   "metadata": {},
   "outputs": [
    {
     "name": "stdout",
     "output_type": "stream",
     "text": [
      "                            OLS Regression Results                            \n",
      "==============================================================================\n",
      "Dep. Variable:                trumpft   R-squared:                       0.327\n",
      "Model:                            OLS   Adj. R-squared:                  0.326\n",
      "Method:                 Least Squares   F-statistic:                     1939.\n",
      "Date:                Thu, 13 Mar 2025   Prob (F-statistic):               0.00\n",
      "Time:                        15:51:47   Log-Likelihood:                -39332.\n",
      "No. Observations:                7998   AIC:                         7.867e+04\n",
      "Df Residuals:                    7995   BIC:                         7.869e+04\n",
      "Df Model:                           2                                         \n",
      "Covariance Type:            nonrobust                                         \n",
      "==============================================================================\n",
      "                 coef    std err          t      P>|t|      [0.025      0.975]\n",
      "------------------------------------------------------------------------------\n",
      "const         52.5503      0.426    123.293      0.000      51.715      53.386\n",
      "pocketEval     5.3749      0.781      6.880      0.000       3.844       6.906\n",
      "econEval      33.8847      0.577     58.678      0.000      32.753      35.017\n",
      "==============================================================================\n",
      "Omnibus:                      283.666   Durbin-Watson:                   1.980\n",
      "Prob(Omnibus):                  0.000   Jarque-Bera (JB):              274.702\n",
      "Skew:                           0.413   Prob(JB):                     2.23e-60\n",
      "Kurtosis:                       2.621   Cond. No.                         2.41\n",
      "==============================================================================\n",
      "\n",
      "Notes:\n",
      "[1] Standard Errors assume that the covariance matrix of the errors is correctly specified.\n"
     ]
    }
   ],
   "source": [
    "# isolate the independent and dependent variables\n",
    "X_pocket = ANES[['pocketEval']]\n",
    "X_econ = ANES[['econEval']]\n",
    "X_ols = ANES[['pocketEval', 'econEval']]\n",
    "y = ANES['trumpft']\n",
    "\n",
    "# run the OLS regression for the pocket and econ evaluations\n",
    "X_ols = sm.add_constant(X_ols)\n",
    "model_ols = sm.OLS(y, X_ols).fit()\n",
    "print(model_ols.summary())\n",
    "\n",
    "# export the results to a .tex file\n",
    "with open('outputs/ols_results.tex', 'w') as tf:\n",
    "    tf.write(model_ols.summary().as_latex())\n"
   ]
  },
  {
   "cell_type": "markdown",
   "metadata": {},
   "source": [
    "## More Complex OLS Regressions (+ Covariates)"
   ]
  },
  {
   "cell_type": "code",
   "execution_count": 106,
   "metadata": {},
   "outputs": [
    {
     "name": "stdout",
     "output_type": "stream",
     "text": [
      "                            OLS Regression Results                            \n",
      "==============================================================================\n",
      "Dep. Variable:                trumpft   R-squared:                       0.874\n",
      "Model:                            OLS   Adj. R-squared:                  0.874\n",
      "Method:                 Least Squares   F-statistic:                     1153.\n",
      "Date:                Thu, 13 Mar 2025   Prob (F-statistic):               0.00\n",
      "Time:                        15:51:48   Log-Likelihood:                -32617.\n",
      "No. Observations:                7998   AIC:                         6.533e+04\n",
      "Df Residuals:                    7949   BIC:                         6.567e+04\n",
      "Df Model:                          48                                         \n",
      "Covariance Type:            nonrobust                                         \n",
      "========================================================================================\n",
      "                           coef    std err          t      P>|t|      [0.025      0.975]\n",
      "----------------------------------------------------------------------------------------\n",
      "const                   35.5316      2.232     15.919      0.000      31.156      39.907\n",
      "pocketEval               0.3642      0.356      1.022      0.307      -0.334       1.062\n",
      "econEval                43.4219      2.681     16.196      0.000      38.166      48.678\n",
      "mode                    -0.4723      0.381     -1.241      0.215      -1.218       0.274\n",
      "prepost                  0.8758      0.643      1.361      0.174      -0.386       2.137\n",
      "sp_serv                 -0.1628      0.136     -1.193      0.233      -0.430       0.105\n",
      "sp_serv_biden           -0.7088      0.114     -6.243      0.000      -0.931      -0.486\n",
      "sp_serv_trump            0.6436      0.112      5.743      0.000       0.424       0.863\n",
      "jobs_living              0.1109      0.123      0.900      0.368      -0.131       0.353\n",
      "jobs_living_biden       -0.2042      0.126     -1.621      0.105      -0.451       0.043\n",
      "jobs_living_trump       -0.1953      0.129     -1.514      0.130      -0.448       0.058\n",
      "envir_business           1.3809      0.128     10.811      0.000       1.130       1.631\n",
      "envir_business_biden    -0.2280      0.129     -1.774      0.076      -0.480       0.024\n",
      "envir_business_trump    -0.7760      0.130     -5.971      0.000      -1.031      -0.521\n",
      "abortion                -0.6234      0.188     -3.314      0.001      -0.992      -0.255\n",
      "abortion_salience        0.1242      0.132      0.944      0.345      -0.134       0.382\n",
      "abortion_biden          -0.7885      0.205     -3.843      0.000      -1.191      -0.386\n",
      "abortion_trump           0.4399      0.193      2.281      0.023       0.062       0.818\n",
      "bible                   -0.6253      0.322     -1.939      0.053      -1.257       0.007\n",
      "adjust_change           -0.1111      0.145     -0.764      0.445      -0.396       0.174\n",
      "family_ties             -0.0995      0.088     -1.127      0.260      -0.273       0.074\n",
      "covid_approval          -9.8876      0.248    -39.897      0.000     -10.373      -9.402\n",
      "covid_response_speed    -1.0427      0.236     -4.416      0.000      -1.506      -0.580\n",
      "mail_in_attitude         0.6811      0.101      6.721      0.000       0.482       0.880\n",
      "police_treat             1.3278      0.171      7.777      0.000       0.993       1.662\n",
      "repro                   19.7508      1.341     14.731      0.000      17.123      22.379\n",
      "turnout                 -4.6926      1.610     -2.915      0.004      -7.848      -1.537\n",
      "mail_in                 -0.5477      0.225     -2.438      0.015      -0.988      -0.107\n",
      "stateFIPS               -0.0114      0.010     -1.120      0.263      -0.031       0.009\n",
      "attention_poli          -0.5025      0.176     -2.862      0.004      -0.847      -0.158\n",
      "age                     -0.0369      0.012     -3.147      0.002      -0.060      -0.014\n",
      "marital                 -0.0693      0.095     -0.728      0.467      -0.256       0.117\n",
      "educ                    -0.4157      0.282     -1.477      0.140      -0.968       0.136\n",
      "educ5                    0.9405      0.519      1.811      0.070      -0.078       1.959\n",
      "race                     0.1217      0.136      0.893      0.372      -0.145       0.389\n",
      "gender                   0.6101      0.349      1.746      0.081      -0.075       1.295\n",
      "income                  -0.0361      0.030     -1.214      0.225      -0.094       0.022\n",
      "ideology                 2.4434      0.173     14.115      0.000       2.104       2.783\n",
      "religion                 0.3251      0.154      2.112      0.035       0.023       0.627\n",
      "union                   -0.4667      0.474     -0.984      0.325      -1.397       0.463\n",
      "trans                   -0.1062      0.111     -0.960      0.337      -0.323       0.111\n",
      "immigration             -9.6936      0.235    -41.198      0.000     -10.155      -9.232\n",
      "gun_diff                 1.6220      0.214      7.566      0.000       1.202       2.042\n",
      "offensive_language       0.6154      0.185      3.331      0.001       0.253       0.978\n",
      "harassment              -0.1704      0.221     -0.770      0.441      -0.604       0.263\n",
      "no_children             -0.3251      0.438     -0.742      0.458      -1.184       0.534\n",
      "arrested                -0.8247      0.443     -1.862      0.063      -1.693       0.043\n",
      "feminist                 0.3310      0.239      1.384      0.166      -0.138       0.800\n",
      "flag                    -1.0303      0.380     -2.710      0.007      -1.775      -0.285\n",
      "shark                    1.7255      2.270      0.760      0.447      -2.725       6.176\n",
      "family_importance       -0.0995      0.088     -1.127      0.260      -0.273       0.074\n",
      "==============================================================================\n",
      "Omnibus:                      605.120   Durbin-Watson:                   1.989\n",
      "Prob(Omnibus):                  0.000   Jarque-Bera (JB):             3091.112\n",
      "Skew:                           0.155   Prob(JB):                         0.00\n",
      "Kurtosis:                       6.030   Cond. No.                     1.03e+16\n",
      "==============================================================================\n",
      "\n",
      "Notes:\n",
      "[1] Standard Errors assume that the covariance matrix of the errors is correctly specified.\n",
      "[2] The smallest eigenvalue is 3.21e-25. This might indicate that there are\n",
      "strong multicollinearity problems or that the design matrix is singular.\n"
     ]
    }
   ],
   "source": [
    "# create list of covariate columns\n",
    "covariates = ANES.columns.tolist()\n",
    "removed = ['trumpft', 'trumpft_post', 'pocket', 'retro', 'pocketEval', 'econEval', 'votepres',\n",
    "           'bidenft', 'bidenft_post', 'pid_lean', 'pid_strong', 'pid3', 'pid7']\n",
    "for col in removed:\n",
    "    covariates.remove(col)\n",
    "\n",
    "# run the OLS regression for the simultaneous pocket and econ evaluations with covariates\n",
    "regression_cols = ['pocketEval', 'econEval'] + covariates\n",
    "X_ols_covs = ANES[regression_cols]\n",
    "X_ols_covs = sm.add_constant(X_ols_covs)\n",
    "model_ols_covs = sm.OLS(y, X_ols_covs).fit()\n",
    "print(model_ols_covs.summary())\n",
    "\n",
    "# export the results to a .tex file\n",
    "with open('outputs/ols_covs_results.tex', 'w') as tf:\n",
    "    tf.write(model_ols_covs.summary().as_latex())"
   ]
  },
  {
   "cell_type": "markdown",
   "metadata": {},
   "source": [
    "## Train/Test Split"
   ]
  },
  {
   "cell_type": "code",
   "execution_count": 107,
   "metadata": {},
   "outputs": [],
   "source": [
    "# train test split the pocket and econ + covariate data\n",
    "X_pocket_cov_train, X_pocket_cov_test, y_train_pocket, y_test_pocket = train_test_split(X_pocket_cov, y, test_size=0.2, random_state=25)\n",
    "X_econ_cov_train, X_econ_cov_test, y_train_econ, y_test_econ = train_test_split(X_econ_cov, y, test_size=0.2, random_state=25)\n",
    "\n",
    "# standardize the data\n",
    "scaler = StandardScaler()\n",
    "X_pocket_cov_train = scaler.fit_transform(X_pocket_cov_train)\n",
    "X_pocket_cov_test = scaler.transform(X_pocket_cov_test)\n",
    "X_econ_cov_train = scaler.fit_transform(X_econ_cov_train)\n",
    "X_econ_cov_test = scaler.transform(X_econ_cov_test)\n",
    "\n",
    "X_pocket_cov_train = pd.DataFrame(X_pocket_cov_train, columns=X_pocket_cov.columns)\n",
    "X_pocket_cov_test = pd.DataFrame(X_pocket_cov_test, columns=X_pocket_cov.columns)\n",
    "X_econ_cov_train = pd.DataFrame(X_econ_cov_train, columns=X_econ_cov.columns)\n",
    "X_econ_cov_test = pd.DataFrame(X_econ_cov_test, columns=X_econ_cov.columns)\n",
    "\n",
    "scaler_y = StandardScaler()\n",
    "y_train_pocket = scaler_y.fit_transform(y_train_pocket.values.reshape(-1, 1))\n",
    "y_test_pocket = scaler_y.transform(y_test_pocket.values.reshape(-1, 1))\n",
    "y_train_econ = scaler_y.fit_transform(y_train_econ.values.reshape(-1, 1))\n",
    "y_test_econ = scaler_y.transform(y_test_econ.values.reshape(-1, 1))\n",
    "\n",
    "y_train_pocket = pd.DataFrame(y_train_pocket, columns=['trumpft'])\n",
    "y_test_pocket = pd.DataFrame(y_test_pocket, columns=['trumpft'])\n",
    "y_train_econ = pd.DataFrame(y_train_econ, columns=['trumpft'])\n",
    "y_test_econ = pd.DataFrame(y_test_econ, columns=['trumpft'])\n",
    "#'''\n"
   ]
  },
  {
   "cell_type": "markdown",
   "metadata": {},
   "source": [
    "## LASSO Regression"
   ]
  },
  {
   "cell_type": "code",
   "execution_count": 108,
   "metadata": {},
   "outputs": [
    {
     "name": "stdout",
     "output_type": "stream",
     "text": [
      "Test accuracy for pocketEval model: 0.8115683140480326\n",
      "Test accuracy for econEval model: 0.8115686143743135\n",
      "Selected features for pocketEval model:\n",
      "Index(['covid_approval', 'ideology', 'immigration'], dtype='object')\n",
      "Number of selected features: 3\n",
      "Selected features for econEval model:\n",
      "Index(['covid_approval', 'ideology', 'immigration'], dtype='object')\n",
      "Number of selected features: 3\n"
     ]
    }
   ],
   "source": [
    "\n",
    "# fit LASSO models\n",
    "lasso_pocket = Lasso(alpha=0.2, random_state=25)\n",
    "lasso_pocket.fit(X_pocket_cov_train, y_train_pocket)\n",
    "\n",
    "lasso_econ = Lasso(alpha=0.2, random_state=25)\n",
    "lasso_econ.fit(X_econ_cov_train, y_train_econ)\n",
    "\n",
    "# compute test accuracy for the models\n",
    "print('Test accuracy for pocketEval model:', lasso_pocket.score(X_pocket_cov_test, y_test_pocket))\n",
    "print('Test accuracy for econEval model:', lasso_econ.score(X_econ_cov_test, y_test_econ))\n",
    "\n",
    "# compare the selected features for the two models\n",
    "print('Selected features for pocketEval model:')\n",
    "print(X_pocket_cov.columns[lasso_pocket.coef_ != 0])\n",
    "print('Number of selected features:', sum(lasso_pocket.coef_ != 0))\n",
    "\n",
    "print('Selected features for econEval model:')\n",
    "print(X_econ_cov.columns[lasso_econ.coef_ != 0])\n",
    "print('Number of selected features:', sum(lasso_econ.coef_ != 0))"
   ]
  },
  {
   "cell_type": "markdown",
   "metadata": {},
   "source": [
    "## Neural Network (?)"
   ]
  },
  {
   "cell_type": "code",
   "execution_count": 109,
   "metadata": {},
   "outputs": [
    {
     "name": "stdout",
     "output_type": "stream",
     "text": [
      "Epoch 1, Train Loss: 0.47981665685772895, Test Loss: 0.1512736627459526\n",
      "Epoch 2, Train Loss: 0.2642385382950306, Test Loss: 0.1389155837893486\n",
      "Epoch 3, Train Loss: 0.22376764945685865, Test Loss: 0.13510845899581908\n",
      "Epoch 4, Train Loss: 0.20262331388890742, Test Loss: 0.13267411082983016\n",
      "Epoch 5, Train Loss: 0.19339005440473556, Test Loss: 0.1334919935464859\n",
      "Epoch 6, Train Loss: 0.18676595322787762, Test Loss: 0.12692289113998412\n",
      "Epoch 7, Train Loss: 0.18515386916697024, Test Loss: 0.12677847892045974\n",
      "Epoch 8, Train Loss: 0.17958814904093742, Test Loss: 0.12648108065128327\n",
      "Epoch 9, Train Loss: 0.18114779628813266, Test Loss: 0.13044728666543962\n",
      "Epoch 10, Train Loss: 0.17287173464894295, Test Loss: 0.12641461253166197\n",
      "Epoch 11, Train Loss: 0.1750044310092926, Test Loss: 0.1313536658883095\n",
      "Epoch 12, Train Loss: 0.16872477903962135, Test Loss: 0.12497080504894256\n",
      "Epoch 13, Train Loss: 0.16804624050855638, Test Loss: 0.12363488137722016\n",
      "Epoch 14, Train Loss: 0.16689826920628548, Test Loss: 0.12357935011386871\n",
      "Epoch 15, Train Loss: 0.16551933698356153, Test Loss: 0.12255795180797577\n",
      "Epoch 16, Train Loss: 0.16196758672595024, Test Loss: 0.12082374215126038\n",
      "Epoch 17, Train Loss: 0.16022668465971945, Test Loss: 0.12116643399000168\n",
      "Epoch 18, Train Loss: 0.16412821285426615, Test Loss: 0.12206389725208283\n",
      "Epoch 19, Train Loss: 0.15908039607107638, Test Loss: 0.12188602060079574\n",
      "Epoch 20, Train Loss: 0.16067706234753132, Test Loss: 0.1197609356045723\n",
      "Epoch 21, Train Loss: 0.15889299623668193, Test Loss: 0.12255386918783188\n",
      "Epoch 22, Train Loss: 0.15731144651770593, Test Loss: 0.12614956587553025\n",
      "Epoch 23, Train Loss: 0.1568730064481497, Test Loss: 0.12519545793533327\n",
      "Epoch 24, Train Loss: 0.1646094588935375, Test Loss: 0.1199981114268303\n",
      "Epoch 25, Train Loss: 0.15132707685232163, Test Loss: 0.12115229085087777\n",
      "Epoch 26, Train Loss: 0.15358207046985625, Test Loss: 0.1268065756559372\n",
      "Epoch 27, Train Loss: 0.14933984078466891, Test Loss: 0.12156243741512299\n",
      "Epoch 28, Train Loss: 0.14794446483254434, Test Loss: 0.1251308438181877\n",
      "Epoch 29, Train Loss: 0.15083358190953733, Test Loss: 0.12257971107959748\n",
      "Epoch 30, Train Loss: 0.1579946109652519, Test Loss: 0.1215151995420456\n",
      "Epoch 31, Train Loss: 0.15719700932502748, Test Loss: 0.12063908994197846\n",
      "Epoch 32, Train Loss: 0.14575737290084362, Test Loss: 0.12258659720420838\n",
      "Epoch 33, Train Loss: 0.1526235716789961, Test Loss: 0.1216587945818901\n",
      "Epoch 34, Train Loss: 0.1438190733641386, Test Loss: 0.12161976724863052\n",
      "Epoch 35, Train Loss: 0.144538454413414, Test Loss: 0.1260820984840393\n",
      "Epoch 36, Train Loss: 0.14871155716478823, Test Loss: 0.12195142894983292\n",
      "Epoch 37, Train Loss: 0.14766835808753967, Test Loss: 0.12168004691600799\n",
      "Epoch 38, Train Loss: 0.1528809402883053, Test Loss: 0.12319718897342682\n",
      "Epoch 39, Train Loss: 0.1496683009713888, Test Loss: 0.12052692860364914\n",
      "Epoch 40, Train Loss: 0.14615324690937995, Test Loss: 0.12166951894760132\n",
      "Epoch 41, Train Loss: 0.14238653011620045, Test Loss: 0.1209844920039177\n",
      "Epoch 42, Train Loss: 0.14538345366716385, Test Loss: 0.1257883882522583\n",
      "Epoch 43, Train Loss: 0.1430206697434187, Test Loss: 0.12423785060644149\n",
      "Epoch 44, Train Loss: 0.15290520213544367, Test Loss: 0.12464782893657685\n",
      "Epoch 45, Train Loss: 0.1432813572138548, Test Loss: 0.11908328175544738\n",
      "Epoch 46, Train Loss: 0.14306739963591097, Test Loss: 0.12045903354883195\n",
      "Epoch 47, Train Loss: 0.13606902986764907, Test Loss: 0.11942816257476807\n",
      "Epoch 48, Train Loss: 0.14119258016347885, Test Loss: 0.12857840865850448\n",
      "Epoch 49, Train Loss: 0.14642236985266208, Test Loss: 0.12225429743528365\n",
      "Epoch 50, Train Loss: 0.13730712682008744, Test Loss: 0.12128464311361313\n"
     ]
    }
   ],
   "source": [
    "# train a neural network on pocketEval model\n",
    "class ANESDataset(Dataset):\n",
    "    def __init__(self, X, y):\n",
    "        self.X = torch.tensor(X.values, dtype=torch.float32)\n",
    "        self.y = torch.tensor(y.values, dtype=torch.float32).reshape(-1, 1)\n",
    "\n",
    "    def __len__(self):\n",
    "        return len(self.X)\n",
    "\n",
    "    def __getitem__(self, idx):\n",
    "        return self.X[idx], self.y[idx]\n",
    "\n",
    "class ANESNet(nn.Module):\n",
    "    def __init__(self, input_dim, hidden_dim, output_dim):\n",
    "        super(ANESNet, self).__init__()\n",
    "        self.fc1 = nn.Linear(input_dim, hidden_dim)\n",
    "        self.bn1 = nn.BatchNorm1d(hidden_dim)\n",
    "        self.fc2 = nn.Linear(hidden_dim, hidden_dim)\n",
    "        self.bn2 = nn.BatchNorm1d(hidden_dim)\n",
    "        self.fc3 = nn.Linear(hidden_dim, hidden_dim)\n",
    "        self.bn3 = nn.BatchNorm1d(hidden_dim)\n",
    "        self.fc4 = nn.Linear(hidden_dim, output_dim)\n",
    "        self.relu = nn.ReLU()\n",
    "        self.dropout = nn.Dropout(0.5)\n",
    "\n",
    "    def forward(self, x):\n",
    "        x = self.relu(self.bn1(self.fc1(x)))\n",
    "        x = self.dropout(x)\n",
    "        x = self.relu(self.bn2(self.fc2(x)))\n",
    "        x = self.dropout(x)\n",
    "        x = self.relu(self.bn3(self.fc3(x)))\n",
    "        x = self.dropout(x)\n",
    "        x = self.fc4(x)\n",
    "        return x\n",
    "\n",
    "input_dim = X_pocket_cov_train.shape[1]\n",
    "hidden_dim = 100\n",
    "output_dim = 1\n",
    "\n",
    "\n",
    "\n",
    "def train_model(X_train_model, y_train_model, X_test_model, y_test_model, input_dim, hidden_dim, output_dim, n_epochs=50):\n",
    "    anes_net = ANESNet(input_dim, hidden_dim, output_dim)\n",
    "\n",
    "    criterion = nn.MSELoss()\n",
    "    optimizer = optim.Adam(anes_net.parameters(), lr=0.001)\n",
    "\n",
    "    anes_train = ANESDataset(X_train_model, y_train_model)\n",
    "    anes_test = ANESDataset(X_test_model, y_test_model)\n",
    "\n",
    "    train_loader = DataLoader(anes_train, batch_size=64, shuffle=True)\n",
    "    test_loader = DataLoader(anes_test, batch_size=64, shuffle=False)\n",
    "\n",
    "\n",
    "    train_losses = []\n",
    "    test_losses = []\n",
    "    for epoch in range(n_epochs):\n",
    "        anes_net.train()\n",
    "        train_loss = 0\n",
    "        for X_batch, y_batch in train_loader:\n",
    "            optimizer.zero_grad()\n",
    "            output = anes_net(X_batch)\n",
    "            loss = criterion(output, y_batch)\n",
    "            loss.backward()\n",
    "            optimizer.step()\n",
    "            train_loss += loss.item()\n",
    "        train_losses.append(train_loss / len(train_loader))\n",
    "\n",
    "        anes_net.eval()\n",
    "        test_loss = 0\n",
    "        with torch.no_grad():\n",
    "            for X_batch, y_batch in test_loader:\n",
    "                output = anes_net(X_batch)\n",
    "                loss = criterion(output, y_batch)\n",
    "                test_loss += loss.item()\n",
    "            print(f'Epoch {epoch + 1}, Train Loss: {train_losses[-1]}, Test Loss: {test_loss / len(test_loader)}')\n",
    "            test_losses.append(test_loss / len(test_loader))\n",
    "    return anes_net, test_loader\n",
    "\n",
    "anes_net_pocket, anes_loader = train_model(X_pocket_cov_train, y_train_pocket, X_pocket_cov_test, y_test_pocket, input_dim, hidden_dim, output_dim)"
   ]
  },
  {
   "cell_type": "code",
   "execution_count": 110,
   "metadata": {},
   "outputs": [
    {
     "data": {
      "image/png": "[encoded data removed]",
      "text/plain": [
       "<Figure size 640x480 with 1 Axes>"
      ]
     },
     "metadata": {},
     "output_type": "display_data"
    }
   ],
   "source": [
    "anes_net_pocket.eval()\n",
    "pocket_predictions = []\n",
    "with torch.no_grad():\n",
    "    for X_batch, y_batch in anes_loader:\n",
    "        output = anes_net_pocket(X_batch)\n",
    "        pocket_predictions.extend(output.numpy().flatten())\n",
    "\n",
    "# plot the predictions vs. true values\n",
    "plt.scatter(y_test_pocket, pocket_predictions)\n",
    "plt.xlabel('True Values')\n",
    "plt.ylabel('Predictions')\n",
    "plt.title('Predictions vs. True Values')\n",
    "plt.show()\n"
   ]
  },
  {
   "cell_type": "code",
   "execution_count": 111,
   "metadata": {},
   "outputs": [
    {
     "name": "stdout",
     "output_type": "stream",
     "text": [
      "Epoch 1, Train Loss: 0.48159113809466364, Test Loss: 0.14828962594270706\n",
      "Epoch 2, Train Loss: 0.25605265811085703, Test Loss: 0.1374383759498596\n",
      "Epoch 3, Train Loss: 0.22393497660756112, Test Loss: 0.13709097534418105\n",
      "Epoch 4, Train Loss: 0.20212832272052764, Test Loss: 0.1294805786013603\n",
      "Epoch 5, Train Loss: 0.1947973595559597, Test Loss: 0.128986240029335\n",
      "Epoch 6, Train Loss: 0.18843756943941117, Test Loss: 0.129650319814682\n",
      "Epoch 7, Train Loss: 0.17839089170098305, Test Loss: 0.12699602484703065\n",
      "Epoch 8, Train Loss: 0.17884134724736214, Test Loss: 0.12645928353071212\n",
      "Epoch 9, Train Loss: 0.17617865227162838, Test Loss: 0.12712356209754944\n",
      "Epoch 10, Train Loss: 0.16790989957749844, Test Loss: 0.13083741039037705\n",
      "Epoch 11, Train Loss: 0.16811238542199136, Test Loss: 0.12323992013931274\n",
      "Epoch 12, Train Loss: 0.16784462481737136, Test Loss: 0.12416877031326294\n",
      "Epoch 13, Train Loss: 0.16524527467787264, Test Loss: 0.12778303384780884\n",
      "Epoch 14, Train Loss: 0.16610359624028206, Test Loss: 0.12270250767469407\n",
      "Epoch 15, Train Loss: 0.16534463472664357, Test Loss: 0.12408109724521638\n",
      "Epoch 16, Train Loss: 0.16132375538349153, Test Loss: 0.1256648200750351\n",
      "Epoch 17, Train Loss: 0.15825550824403764, Test Loss: 0.12388555258512497\n",
      "Epoch 18, Train Loss: 0.16086350344121456, Test Loss: 0.12072240859270096\n",
      "Epoch 19, Train Loss: 0.1623088376969099, Test Loss: 0.12831927627325057\n",
      "Epoch 20, Train Loss: 0.15956669963896275, Test Loss: 0.12322001218795776\n",
      "Epoch 21, Train Loss: 0.16222347803413867, Test Loss: 0.12350618481636047\n",
      "Epoch 22, Train Loss: 0.16287293523550034, Test Loss: 0.12735174030065535\n",
      "Epoch 23, Train Loss: 0.1564326551556587, Test Loss: 0.12046099424362183\n",
      "Epoch 24, Train Loss: 0.1518963151425123, Test Loss: 0.12544172495603562\n",
      "Epoch 25, Train Loss: 0.15712953925132753, Test Loss: 0.12029939383268357\n",
      "Epoch 26, Train Loss: 0.1606038825213909, Test Loss: 0.12092241019010544\n",
      "Epoch 27, Train Loss: 0.15147025540471076, Test Loss: 0.12327161014080047\n",
      "Epoch 28, Train Loss: 0.1514779034256935, Test Loss: 0.1273094406723976\n",
      "Epoch 29, Train Loss: 0.14678036101162434, Test Loss: 0.12287477105855941\n",
      "Epoch 30, Train Loss: 0.15552660696208476, Test Loss: 0.12393163442611695\n",
      "Epoch 31, Train Loss: 0.15132732953876257, Test Loss: 0.12263976126909255\n",
      "Epoch 32, Train Loss: 0.14879286631941796, Test Loss: 0.1249516037106514\n",
      "Epoch 33, Train Loss: 0.14561267346143722, Test Loss: 0.1357463565468788\n",
      "Epoch 34, Train Loss: 0.1505344271659851, Test Loss: 0.12414266109466553\n",
      "Epoch 35, Train Loss: 0.15678953550755978, Test Loss: 0.12311994805932044\n",
      "Epoch 36, Train Loss: 0.13962029300630094, Test Loss: 0.12157188653945923\n",
      "Epoch 37, Train Loss: 0.15497875832021235, Test Loss: 0.12755875051021576\n",
      "Epoch 38, Train Loss: 0.14288535267114638, Test Loss: 0.12066838920116424\n",
      "Epoch 39, Train Loss: 0.14353569582104683, Test Loss: 0.12127411812543869\n",
      "Epoch 40, Train Loss: 0.14694246247410775, Test Loss: 0.12166888445615769\n",
      "Epoch 41, Train Loss: 0.14645514909178017, Test Loss: 0.12111912935972213\n",
      "Epoch 42, Train Loss: 0.14668393716216088, Test Loss: 0.11958787590265274\n",
      "Epoch 43, Train Loss: 0.142447060495615, Test Loss: 0.12177028268575668\n",
      "Epoch 44, Train Loss: 0.1438903522491455, Test Loss: 0.11917363494634628\n",
      "Epoch 45, Train Loss: 0.1416942620277405, Test Loss: 0.12419023811817169\n",
      "Epoch 46, Train Loss: 0.14245850570499896, Test Loss: 0.12368358761072158\n",
      "Epoch 47, Train Loss: 0.14227353014051913, Test Loss: 0.12166486352682114\n",
      "Epoch 48, Train Loss: 0.13870032556355, Test Loss: 0.12082177698612213\n",
      "Epoch 49, Train Loss: 0.13980934262275696, Test Loss: 0.12448634594678878\n",
      "Epoch 50, Train Loss: 0.1382609546929598, Test Loss: 0.12081127345561982\n"
     ]
    }
   ],
   "source": [
    "# train a neural network on econEval model\n",
    "input_dim = X_econ_cov_train.shape[1]\n",
    "anes_net_econ, anes_loader = train_model(X_econ_cov_train, y_train_econ, X_econ_cov_test, y_test_econ, input_dim, hidden_dim, output_dim)"
   ]
  },
  {
   "cell_type": "code",
   "execution_count": 112,
   "metadata": {},
   "outputs": [
    {
     "data": {
      "image/png": "[encoded data removed]",
      "text/plain": [
       "<Figure size 640x480 with 1 Axes>"
      ]
     },
     "metadata": {},
     "output_type": "display_data"
    },
    {
     "name": "stdout",
     "output_type": "stream",
     "text": [
      "R^2 value for pocketEval model: 0.8790657541168202\n",
      "R^2 value for econEval model: 0.8795377548203356\n"
     ]
    }
   ],
   "source": [
    "anes_net_econ.eval()\n",
    "econ_predictions = []\n",
    "with torch.no_grad():\n",
    "    for X_batch, y_batch in anes_loader:\n",
    "        output = anes_net_econ(X_batch)\n",
    "        econ_predictions.extend(output.numpy().flatten())\n",
    "\n",
    "# plot the predictions vs. true values\n",
    "plt.scatter(y_test_econ, econ_predictions)\n",
    "plt.xlabel('True Values')\n",
    "plt.ylabel('Predictions')\n",
    "plt.title('Predictions vs. True Values Econmodel')\n",
    "plt.show()\n",
    "\n",
    "from sklearn.metrics import r2_score\n",
    "print('R^2 value for pocketEval model:', r2_score(y_test_pocket, pocket_predictions))\n",
    "print('R^2 value for econEval model:', r2_score(y_test_econ, econ_predictions))"
   ]
  },
  {
   "cell_type": "markdown",
   "metadata": {},
   "source": [
    "## Random Forest"
   ]
  },
  {
   "cell_type": "code",
   "execution_count": 113,
   "metadata": {},
   "outputs": [
    {
     "name": "stderr",
     "output_type": "stream",
     "text": [
      "c:\\Users\\miles\\anaconda3\\Lib\\site-packages\\sklearn\\base.py:1473: DataConversionWarning: A column-vector y was passed when a 1d array was expected. Please change the shape of y to (n_samples,), for example using ravel().\n",
      "  return fit_method(estimator, *args, **kwargs)\n"
     ]
    },
    {
     "name": "stdout",
     "output_type": "stream",
     "text": [
      "Random Forest accuracy on pocketEval model: 0.8849922445410766\n"
     ]
    }
   ],
   "source": [
    "# run a Random Forest on pocketEval test data and covariates\n",
    "rf_pocket = RandomForestRegressor(n_estimators=500, random_state=25)\n",
    "rf_pocket.fit(X_pocket_cov_train, y_train_pocket)\n",
    "\n",
    "feature_importance_pocket = pd.DataFrame({\n",
    "    \"Feature\": X_pocket_cov.columns,\n",
    "    \"Importance\": rf_pocket.feature_importances_\n",
    "}).sort_values(by=\"Importance\", ascending=False)\n",
    "feature_importance_pocket.head(10)\n",
    "\n",
    "# get random forest prediction accuracy on pocket test\n",
    "rf_pocket.score(X_pocket_cov_test, y_test_pocket)\n",
    "print('Random Forest accuracy on pocketEval model:', rf_pocket.score(X_pocket_cov_test, y_test_pocket))"
   ]
  },
  {
   "cell_type": "code",
   "execution_count": 114,
   "metadata": {},
   "outputs": [
    {
     "name": "stderr",
     "output_type": "stream",
     "text": [
      "c:\\Users\\miles\\anaconda3\\Lib\\site-packages\\sklearn\\base.py:1473: DataConversionWarning: A column-vector y was passed when a 1d array was expected. Please change the shape of y to (n_samples,), for example using ravel().\n",
      "  return fit_method(estimator, *args, **kwargs)\n"
     ]
    },
    {
     "name": "stdout",
     "output_type": "stream",
     "text": [
      "Random Forest accuracy on econEval model: 0.8855303052429827\n"
     ]
    }
   ],
   "source": [
    "# run a Random Forest on econEval and covariates\n",
    "rf_econ = RandomForestRegressor(n_estimators=500, random_state=25)\n",
    "rf_econ.fit(X_econ_cov_train, y_train_econ)\n",
    "\n",
    "feature_importance_econ = pd.DataFrame({\n",
    "    \"Feature\": X_econ_cov.columns,\n",
    "    \"Importance\": rf_econ.feature_importances_\n",
    "}).sort_values(by=\"Importance\", ascending=False)\n",
    "feature_importance_econ.head(10)\n",
    "\n",
    "# get random forest prediction accuracy on econ test\n",
    "rf_econ.score(X_econ_cov_test, y_test_econ)\n",
    "print('Random Forest accuracy on econEval model:', rf_econ.score(X_econ_cov_test, y_test_econ))"
   ]
  }
 ],
 "metadata": {
  "kernelspec": {
   "display_name": "Python 3",
   "language": "python",
   "name": "python3"
  },
  "language_info": {
   "codemirror_mode": {
    "name": "ipython",
    "version": 3
   },
   "file_extension": ".py",
   "mimetype": "text/x-python",
   "name": "python",
   "nbconvert_exporter": "python",
   "pygments_lexer": "ipython3",
   "version": "3.11.4"
  }
 },
 "nbformat": 4,
 "nbformat_minor": 2
}
