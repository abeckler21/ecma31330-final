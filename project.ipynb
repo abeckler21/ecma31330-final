{
 "cells": [
  {
   "cell_type": "markdown",
   "metadata": {},
   "source": [
    "# ECMA 31330 Final Project\n",
    "### Abby Beckler, Miles Brown"
   ]
  },
  {
   "cell_type": "code",
   "execution_count": 76,
   "metadata": {},
   "outputs": [],
   "source": [
    "# imports\n",
    "import os\n",
    "os.environ[\"KMP_DUPLICATE_LIB_OK\"] = \"TRUE\"\n",
    "import numpy as np\n",
    "import matplotlib.pyplot as plt\n",
    "import pandas as pd\n",
    "import statsmodels.api as sm\n",
    "import torch\n",
    "import torch.nn as nn\n",
    "import torch.optim as optim\n",
    "from torch.utils.data import DataLoader, Dataset\n",
    "from sklearn.impute import KNNImputer\n",
    "from sklearn.linear_model import Lasso, LassoCV\n",
    "from sklearn.ensemble import RandomForestRegressor\n",
    "from sklearn.preprocessing import StandardScaler, MinMaxScaler\n",
    "from sklearn.metrics import r2_score\n",
    "from sklearn.model_selection import train_test_split"
   ]
  },
  {
   "cell_type": "markdown",
   "metadata": {},
   "source": [
    "## Load Data + Use KNN to Impute Missing Values"
   ]
  },
  {
   "cell_type": "code",
   "execution_count": 77,
   "metadata": {},
   "outputs": [],
   "source": [
    "# set seed to ensure reproducibility\n",
    "np.random.seed(25)\n",
    "\n",
    "# load the data\n",
    "ANES = pd.read_csv('data/ANES.csv')\n",
    "\n",
    "# remove rows with missing 'pocket', 'retro', and 'trumpft' values\n",
    "ANES = ANES.dropna(subset=['pocket', 'retro', 'trumpft'])\n",
    "\n",
    "# impute using k-nearest neighbors imputer\n",
    "imputer = KNNImputer(n_neighbors=5)\n",
    "ANES = pd.DataFrame(imputer.fit_transform(ANES), columns=ANES.columns)\n",
    "\n",
    "# add relevant columns 'pocketEval' and 'econEval'\n",
    "ANES['pocketEval'] = (ANES['pocket'] - 3) * (-1/2)\n",
    "ANES['econEval'] = (ANES['retro'] - 3) * (-1/2)"
   ]
  },
  {
   "cell_type": "markdown",
   "metadata": {},
   "source": [
    "## Perform Initial OLS Regressions (same as K&K)"
   ]
  },
  {
   "cell_type": "code",
   "execution_count": null,
   "metadata": {},
   "outputs": [
    {
     "name": "stdout",
     "output_type": "stream",
     "text": [
      "            pocketEval  econEval\n",
      "pocketEval    1.000000  0.228858\n",
      "econEval      0.228858  1.000000\n",
      "                            OLS Regression Results                            \n",
      "==============================================================================\n",
      "Dep. Variable:                trumpft   R-squared:                       0.327\n",
      "Model:                            OLS   Adj. R-squared:                  0.326\n",
      "Method:                 Least Squares   F-statistic:                     1939.\n",
      "Date:                Sat, 15 Mar 2025   Prob (F-statistic):               0.00\n",
      "Time:                        15:03:57   Log-Likelihood:                -39332.\n",
      "No. Observations:                7998   AIC:                         7.867e+04\n",
      "Df Residuals:                    7995   BIC:                         7.869e+04\n",
      "Df Model:                           2                                         \n",
      "Covariance Type:            nonrobust                                         \n",
      "==============================================================================\n",
      "                 coef    std err          t      P>|t|      [0.025      0.975]\n",
      "------------------------------------------------------------------------------\n",
      "const         52.5503      0.426    123.293      0.000      51.715      53.386\n",
      "pocketEval     5.3749      0.781      6.880      0.000       3.844       6.906\n",
      "econEval      33.8847      0.577     58.678      0.000      32.753      35.017\n",
      "==============================================================================\n",
      "Omnibus:                      283.666   Durbin-Watson:                   1.980\n",
      "Prob(Omnibus):                  0.000   Jarque-Bera (JB):              274.702\n",
      "Skew:                           0.413   Prob(JB):                     2.23e-60\n",
      "Kurtosis:                       2.621   Cond. No.                         2.41\n",
      "==============================================================================\n",
      "\n",
      "Notes:\n",
      "[1] Standard Errors assume that the covariance matrix of the errors is correctly specified.\n"
     ]
    }
   ],
   "source": [
    "# isolate the independent and dependent variables\n",
    "X_pocket = ANES[['pocketEval']]\n",
    "X_econ = ANES[['econEval']]\n",
    "X_ols = ANES[['pocketEval', 'econEval']]\n",
    "\n",
    "# Quick correlation test between pocketEval and econEval\n",
    "correlation = ANES[['pocketEval', 'econEval']].corr()\n",
    "print(correlation) # Low positive correlation indicating they don't measure the same thing\n",
    "\n",
    "\n",
    "y = ANES['trumpft']\n",
    "\n",
    "# run the OLS regression for the pocket and econ evaluations\n",
    "X_ols = sm.add_constant(X_ols)\n",
    "model_ols = sm.OLS(y, X_ols).fit()\n",
    "print(model_ols.summary())\n",
    "\n",
    "# export the results to a .tex file\n",
    "with open('outputs/ols_results.tex', 'w') as tf:\n",
    "    tf.write(model_ols.summary().as_latex())\n"
   ]
  },
  {
   "cell_type": "markdown",
   "metadata": {},
   "source": [
    "## More Complex OLS Regressions (+ Covariates)"
   ]
  },
  {
   "cell_type": "code",
   "execution_count": 79,
   "metadata": {},
   "outputs": [
    {
     "name": "stdout",
     "output_type": "stream",
     "text": [
      "                            OLS Regression Results                            \n",
      "==============================================================================\n",
      "Dep. Variable:                trumpft   R-squared:                       0.874\n",
      "Model:                            OLS   Adj. R-squared:                  0.874\n",
      "Method:                 Least Squares   F-statistic:                     1153.\n",
      "Date:                Sat, 15 Mar 2025   Prob (F-statistic):               0.00\n",
      "Time:                        08:53:49   Log-Likelihood:                -32617.\n",
      "No. Observations:                7998   AIC:                         6.533e+04\n",
      "Df Residuals:                    7949   BIC:                         6.567e+04\n",
      "Df Model:                          48                                         \n",
      "Covariance Type:            nonrobust                                         \n",
      "========================================================================================\n",
      "                           coef    std err          t      P>|t|      [0.025      0.975]\n",
      "----------------------------------------------------------------------------------------\n",
      "const                   35.5316      2.232     15.919      0.000      31.156      39.907\n",
      "pocketEval               0.3642      0.356      1.022      0.307      -0.334       1.062\n",
      "econEval                43.4219      2.681     16.196      0.000      38.166      48.678\n",
      "mode                    -0.4723      0.381     -1.241      0.215      -1.218       0.274\n",
      "prepost                  0.8758      0.643      1.361      0.174      -0.386       2.137\n",
      "sp_serv                 -0.1628      0.136     -1.193      0.233      -0.430       0.105\n",
      "sp_serv_biden           -0.7088      0.114     -6.243      0.000      -0.931      -0.486\n",
      "sp_serv_trump            0.6436      0.112      5.743      0.000       0.424       0.863\n",
      "jobs_living              0.1109      0.123      0.900      0.368      -0.131       0.353\n",
      "jobs_living_biden       -0.2042      0.126     -1.621      0.105      -0.451       0.043\n",
      "jobs_living_trump       -0.1953      0.129     -1.514      0.130      -0.448       0.058\n",
      "envir_business           1.3809      0.128     10.811      0.000       1.130       1.631\n",
      "envir_business_biden    -0.2280      0.129     -1.774      0.076      -0.480       0.024\n",
      "envir_business_trump    -0.7760      0.130     -5.971      0.000      -1.031      -0.521\n",
      "abortion                -0.6234      0.188     -3.314      0.001      -0.992      -0.255\n",
      "abortion_salience        0.1242      0.132      0.944      0.345      -0.134       0.382\n",
      "abortion_biden          -0.7885      0.205     -3.843      0.000      -1.191      -0.386\n",
      "abortion_trump           0.4399      0.193      2.281      0.023       0.062       0.818\n",
      "bible                   -0.6253      0.322     -1.939      0.053      -1.257       0.007\n",
      "adjust_change           -0.1111      0.145     -0.764      0.445      -0.396       0.174\n",
      "family_ties             -0.0995      0.088     -1.127      0.260      -0.273       0.074\n",
      "covid_approval          -9.8876      0.248    -39.897      0.000     -10.373      -9.402\n",
      "covid_response_speed    -1.0427      0.236     -4.416      0.000      -1.506      -0.580\n",
      "mail_in_attitude         0.6811      0.101      6.721      0.000       0.482       0.880\n",
      "police_treat             1.3278      0.171      7.777      0.000       0.993       1.662\n",
      "repro                   19.7508      1.341     14.731      0.000      17.123      22.379\n",
      "turnout                 -4.6926      1.610     -2.915      0.004      -7.848      -1.537\n",
      "mail_in                 -0.5477      0.225     -2.438      0.015      -0.988      -0.107\n",
      "stateFIPS               -0.0114      0.010     -1.120      0.263      -0.031       0.009\n",
      "attention_poli          -0.5025      0.176     -2.862      0.004      -0.847      -0.158\n",
      "age                     -0.0369      0.012     -3.147      0.002      -0.060      -0.014\n",
      "marital                 -0.0693      0.095     -0.728      0.467      -0.256       0.117\n",
      "educ                    -0.4157      0.282     -1.477      0.140      -0.968       0.136\n",
      "educ5                    0.9405      0.519      1.811      0.070      -0.078       1.959\n",
      "race                     0.1217      0.136      0.893      0.372      -0.145       0.389\n",
      "gender                   0.6101      0.349      1.746      0.081      -0.075       1.295\n",
      "income                  -0.0361      0.030     -1.214      0.225      -0.094       0.022\n",
      "ideology                 2.4434      0.173     14.115      0.000       2.104       2.783\n",
      "religion                 0.3251      0.154      2.112      0.035       0.023       0.627\n",
      "union                   -0.4667      0.474     -0.984      0.325      -1.397       0.463\n",
      "trans                   -0.1062      0.111     -0.960      0.337      -0.323       0.111\n",
      "immigration             -9.6936      0.235    -41.198      0.000     -10.155      -9.232\n",
      "gun_diff                 1.6220      0.214      7.566      0.000       1.202       2.042\n",
      "offensive_language       0.6154      0.185      3.331      0.001       0.253       0.978\n",
      "harassment              -0.1704      0.221     -0.770      0.441      -0.604       0.263\n",
      "no_children             -0.3251      0.438     -0.742      0.458      -1.184       0.534\n",
      "arrested                -0.8247      0.443     -1.862      0.063      -1.693       0.043\n",
      "feminist                 0.3310      0.239      1.384      0.166      -0.138       0.800\n",
      "flag                    -1.0303      0.380     -2.710      0.007      -1.775      -0.285\n",
      "shark                    1.7255      2.270      0.760      0.447      -2.725       6.176\n",
      "family_importance       -0.0995      0.088     -1.127      0.260      -0.273       0.074\n",
      "==============================================================================\n",
      "Omnibus:                      605.120   Durbin-Watson:                   1.989\n",
      "Prob(Omnibus):                  0.000   Jarque-Bera (JB):             3091.112\n",
      "Skew:                           0.155   Prob(JB):                         0.00\n",
      "Kurtosis:                       6.030   Cond. No.                     1.03e+16\n",
      "==============================================================================\n",
      "\n",
      "Notes:\n",
      "[1] Standard Errors assume that the covariance matrix of the errors is correctly specified.\n",
      "[2] The smallest eigenvalue is 3.21e-25. This might indicate that there are\n",
      "strong multicollinearity problems or that the design matrix is singular.\n"
     ]
    }
   ],
   "source": [
    "# create list of covariate columns\n",
    "covariates = ANES.columns.tolist()\n",
    "removed = ['trumpft', 'trumpft_post', 'pocket', 'retro', 'pocketEval', 'econEval', 'votepres',\n",
    "           'bidenft', 'bidenft_post', 'pid_lean', 'pid_strong', 'pid3', 'pid7']\n",
    "for col in removed:\n",
    "    covariates.remove(col)\n",
    "\n",
    "# run the OLS regression for the simultaneous pocket and econ evaluations with covariates\n",
    "regression_cols = ['pocketEval', 'econEval'] + covariates\n",
    "X_ols_covs = ANES[regression_cols]\n",
    "X_ols_covs = sm.add_constant(X_ols_covs)\n",
    "model_ols_covs = sm.OLS(y, X_ols_covs).fit()\n",
    "print(model_ols_covs.summary())\n",
    "\n",
    "# export the results to a .tex file\n",
    "with open('outputs/ols_covs_results.tex', 'w') as tf:\n",
    "    tf.write(model_ols_covs.summary().as_latex())"
   ]
  },
  {
   "cell_type": "markdown",
   "metadata": {},
   "source": [
    "## Train/Test Split"
   ]
  },
  {
   "cell_type": "code",
   "execution_count": null,
   "metadata": {},
   "outputs": [
    {
     "name": "stdout",
     "output_type": "stream",
     "text": [
      "   pocketEval  mode  prepost   sp_serv  sp_serv_biden  sp_serv_trump  \\\n",
      "0         1.0   1.0      1.0  0.066667       1.000000       0.000000   \n",
      "1        -1.0   1.0     -1.0  0.600000       1.000000      -1.000000   \n",
      "2         0.0   1.0      1.0 -0.333333       1.000000      -0.666667   \n",
      "3         0.5   1.0      1.0  1.000000      -0.333333      -1.000000   \n",
      "4         1.0   1.0      1.0  0.333333       0.000000      -0.666667   \n",
      "\n",
      "   jobs_living  jobs_living_biden  jobs_living_trump  envir_business  ...  \\\n",
      "0     0.000000           0.000000           0.000000       -0.066667  ...   \n",
      "1     0.666667          -0.333333          -1.000000       -1.000000  ...   \n",
      "2     0.000000          -1.000000           0.666667        0.333333  ...   \n",
      "3     0.000000           0.000000           1.000000       -0.333333  ...   \n",
      "4    -0.666667           0.000000           0.666667       -1.000000  ...   \n",
      "\n",
      "   immigration  gun_diff  offensive_language  harassment  no_children  \\\n",
      "0    -1.000000       1.0            1.000000         1.0          1.0   \n",
      "1     1.000000      -0.2           -1.000000         0.6          0.6   \n",
      "2     0.333333      -1.0            1.000000        -1.0         -1.0   \n",
      "3     1.000000      -1.0           -0.333333         1.0          1.0   \n",
      "4     1.000000      -1.0           -0.333333         0.0          1.0   \n",
      "\n",
      "   arrested  feminist  flag  shark  family_importance  \n",
      "0       1.0       1.0  -1.0    1.0               -1.0  \n",
      "1       0.6      -0.2   0.6    1.0                0.3  \n",
      "2      -1.0       1.0   1.0    1.0                0.0  \n",
      "3       1.0       1.0   1.0    1.0                0.5  \n",
      "4       1.0      -1.0   1.0    1.0                1.0  \n",
      "\n",
      "[5 rows x 49 columns]\n",
      "now econ\n",
      "   econEval  mode  prepost   sp_serv  sp_serv_biden  sp_serv_trump  \\\n",
      "0      -0.5   1.0      1.0  0.066667       1.000000       0.000000   \n",
      "1      -1.0   1.0     -1.0  0.600000       1.000000      -1.000000   \n",
      "2      -1.0   1.0      1.0 -0.333333       1.000000      -0.666667   \n",
      "3      -1.0   1.0      1.0  1.000000      -0.333333      -1.000000   \n",
      "4      -1.0   1.0      1.0  0.333333       0.000000      -0.666667   \n",
      "\n",
      "   jobs_living  jobs_living_biden  jobs_living_trump  envir_business  ...  \\\n",
      "0     0.000000           0.000000           0.000000       -0.066667  ...   \n",
      "1     0.666667          -0.333333          -1.000000       -1.000000  ...   \n",
      "2     0.000000          -1.000000           0.666667        0.333333  ...   \n",
      "3     0.000000           0.000000           1.000000       -0.333333  ...   \n",
      "4    -0.666667           0.000000           0.666667       -1.000000  ...   \n",
      "\n",
      "   immigration  gun_diff  offensive_language  harassment  no_children  \\\n",
      "0    -1.000000       1.0            1.000000         1.0          1.0   \n",
      "1     1.000000      -0.2           -1.000000         0.6          0.6   \n",
      "2     0.333333      -1.0            1.000000        -1.0         -1.0   \n",
      "3     1.000000      -1.0           -0.333333         1.0          1.0   \n",
      "4     1.000000      -1.0           -0.333333         0.0          1.0   \n",
      "\n",
      "   arrested  feminist  flag  shark  family_importance  \n",
      "0       1.0       1.0  -1.0    1.0               -1.0  \n",
      "1       0.6      -0.2   0.6    1.0                0.3  \n",
      "2      -1.0       1.0   1.0    1.0                0.0  \n",
      "3       1.0       1.0   1.0    1.0                0.5  \n",
      "4       1.0      -1.0   1.0    1.0                1.0  \n",
      "\n",
      "[5 rows x 49 columns]\n"
     ]
    }
   ],
   "source": [
    "# define X pocket_cov and X econ_cov\n",
    "X_pocket_cov = ANES[['pocketEval'] + covariates]\n",
    "X_econ_cov = ANES[['econEval'] + covariates]\n",
    "\n",
    "# train test split the pocket and econ + covariate data\n",
    "X_pocket_cov_train, X_pocket_cov_test, y_train_pocket, y_test_pocket = train_test_split(X_pocket_cov, y, test_size=0.2, random_state=25)\n",
    "X_econ_cov_train, X_econ_cov_test, y_train_econ, y_test_econ = train_test_split(X_econ_cov, y, test_size=0.2, random_state=25)\n",
    "\n",
    "# standardize the data\n",
    "scaler = MinMaxScaler(feature_range=(-1, 1))\n",
    "X_pocket_cov_train = scaler.fit_transform(X_pocket_cov_train)\n",
    "X_pocket_cov_test = scaler.transform(X_pocket_cov_test)\n",
    "X_econ_cov_train = scaler.fit_transform(X_econ_cov_train)\n",
    "X_econ_cov_test = scaler.transform(X_econ_cov_test)\n",
    "\n",
    "# Put back into a pandas dataframe\n",
    "X_pocket_cov_train = pd.DataFrame(X_pocket_cov_train, columns=X_pocket_cov.columns)\n",
    "X_pocket_cov_test = pd.DataFrame(X_pocket_cov_test, columns=X_pocket_cov.columns)\n",
    "X_econ_cov_train = pd.DataFrame(X_econ_cov_train, columns=X_econ_cov.columns)\n",
    "X_econ_cov_test = pd.DataFrame(X_econ_cov_test, columns=X_econ_cov.columns)\n",
    "\n",
    "scaler_y = MinMaxScaler(feature_range=(-1, 1))\n",
    "y_train_pocket = scaler_y.fit_transform(y_train_pocket.values.reshape(-1, 1))\n",
    "y_test_pocket = scaler_y.transform(y_test_pocket.values.reshape(-1, 1))\n",
    "y_train_econ = scaler_y.fit_transform(y_train_econ.values.reshape(-1, 1))\n",
    "y_test_econ = scaler_y.transform(y_test_econ.values.reshape(-1, 1))\n",
    "\n",
    "y_train_pocket = pd.DataFrame(y_train_pocket, columns=['trumpft'])\n",
    "y_test_pocket = pd.DataFrame(y_test_pocket, columns=['trumpft'])\n",
    "y_train_econ = pd.DataFrame(y_train_econ, columns=['trumpft'])\n",
    "y_test_econ = pd.DataFrame(y_test_econ, columns=['trumpft'])\n",
    "#'''\n"
   ]
  },
  {
   "cell_type": "markdown",
   "metadata": {},
   "source": [
    "## LASSO Regression"
   ]
  },
  {
   "cell_type": "code",
   "execution_count": 81,
   "metadata": {},
   "outputs": [
    {
     "name": "stdout",
     "output_type": "stream",
     "text": [
      "Lasso Pocket Model:\n",
      "Intercept: [-0.02034677]\n",
      "Number of Nonzero Coefficients: 8\n",
      "Nonzero Coefficients: ['envir_business', 'covid_approval', 'mail_in_attitude', 'repro', 'ideology', 'trans', 'immigration', 'gun_diff']\n",
      "Accuracy: 0.8543858395871623\n",
      "\n",
      "Lasso Econ Model:\n",
      "Intercept: [-0.02031254]\n",
      "Number of Nonzero Coefficients: 9\n",
      "Nonzero Coefficients: ['econEval', 'envir_business', 'covid_approval', 'mail_in_attitude', 'repro', 'ideology', 'trans', 'immigration', 'gun_diff']\n",
      "Accuracy: 0.8543833698545613\n"
     ]
    }
   ],
   "source": [
    "\n",
    "# fit LASSO models\n",
    "lasso_pocket = Lasso(alpha=0.05, random_state=25)\n",
    "lasso_pocket.fit(X_pocket_cov_train, y_train_pocket)\n",
    "\n",
    "lasso_econ = Lasso(alpha=0.05, random_state=25)\n",
    "lasso_econ.fit(X_econ_cov_train, y_train_econ)\n",
    "\n",
    "# predict the test set\n",
    "y_pred_pocket = lasso_pocket.predict(X_pocket_cov_test)\n",
    "y_pred_econ = lasso_econ.predict(X_econ_cov_test)\n",
    "\n",
    "# print the intercept, number of nonzero coefficients, and the names of nonzero coefficients\n",
    "print('Lasso Pocket Model:')\n",
    "print('Intercept:', lasso_pocket.intercept_)\n",
    "print('Number of Nonzero Coefficients:', np.count_nonzero(lasso_pocket.coef_))\n",
    "print('Nonzero Coefficients:', X_pocket_cov.columns[lasso_pocket.coef_ != 0].tolist())\n",
    "print('Accuracy:', r2_score(y_test_pocket, y_pred_pocket))\n",
    "\n",
    "print('\\nLasso Econ Model:')\n",
    "print('Intercept:', lasso_econ.intercept_)\n",
    "print('Number of Nonzero Coefficients:', np.count_nonzero(lasso_econ.coef_))\n",
    "print('Nonzero Coefficients:', X_econ_cov.columns[lasso_econ.coef_ != 0].tolist())\n",
    "print('Accuracy:', r2_score(y_test_econ, y_pred_econ))\n",
    "\n",
    "\n"
   ]
  },
  {
   "cell_type": "markdown",
   "metadata": {},
   "source": [
    "## Neural Network (?)"
   ]
  },
  {
   "cell_type": "code",
   "execution_count": null,
   "metadata": {},
   "outputs": [
    {
     "name": "stdout",
     "output_type": "stream",
     "text": [
      "Epoch 1, Train Loss: 0.36216374501585963, Test Loss: 0.09906019642949104\n",
      "Epoch 2, Train Loss: 0.18514832891523839, Test Loss: 0.08883223429322243\n",
      "Epoch 3, Train Loss: 0.14560514606535435, Test Loss: 0.08565380424261093\n",
      "Epoch 4, Train Loss: 0.13480305217206479, Test Loss: 0.08887972757220268\n",
      "Epoch 5, Train Loss: 0.12991596691310406, Test Loss: 0.084662084877491\n",
      "Epoch 6, Train Loss: 0.12489189691841603, Test Loss: 0.08354506954550743\n",
      "Epoch 7, Train Loss: 0.11565675429999828, Test Loss: 0.08441833689808846\n",
      "Epoch 8, Train Loss: 0.11639485109597444, Test Loss: 0.0825653338432312\n",
      "Epoch 9, Train Loss: 0.1142275469750166, Test Loss: 0.0828628459572792\n",
      "Epoch 10, Train Loss: 0.11508764501661062, Test Loss: 0.0805444698035717\n",
      "Epoch 11, Train Loss: 0.10968847062438726, Test Loss: 0.08249082654714585\n",
      "Epoch 12, Train Loss: 0.10750316150486469, Test Loss: 0.08208474263548851\n",
      "Epoch 13, Train Loss: 0.10844067431986332, Test Loss: 0.08216192290186881\n",
      "Epoch 14, Train Loss: 0.1084319681674242, Test Loss: 0.0846622920036316\n",
      "Epoch 15, Train Loss: 0.11503387290984392, Test Loss: 0.0842622746527195\n",
      "Epoch 16, Train Loss: 0.1090526794269681, Test Loss: 0.08197080373764037\n",
      "Epoch 17, Train Loss: 0.10734030950814485, Test Loss: 0.07840984389185905\n",
      "Epoch 18, Train Loss: 0.11162905916571617, Test Loss: 0.07961180672049523\n",
      "Epoch 19, Train Loss: 0.10517732359468937, Test Loss: 0.08101381078362464\n",
      "Epoch 20, Train Loss: 0.10647104382514953, Test Loss: 0.08285939246416092\n",
      "Epoch 21, Train Loss: 0.10183756366372108, Test Loss: 0.08102870956063271\n",
      "Epoch 22, Train Loss: 0.10437033966183662, Test Loss: 0.07863365098834038\n",
      "Epoch 23, Train Loss: 0.10661816943436861, Test Loss: 0.08056510865688324\n",
      "Epoch 24, Train Loss: 0.09988430667668581, Test Loss: 0.07794210553169251\n",
      "Epoch 25, Train Loss: 0.10334437157958747, Test Loss: 0.077573973685503\n",
      "Epoch 26, Train Loss: 0.10110997837036848, Test Loss: 0.07912686109542846\n",
      "Epoch 27, Train Loss: 0.0964786384254694, Test Loss: 0.0855808824300766\n",
      "Epoch 28, Train Loss: 0.102468305490911, Test Loss: 0.08374137669801712\n",
      "Epoch 29, Train Loss: 0.1015181227400899, Test Loss: 0.08060389801859856\n",
      "Epoch 30, Train Loss: 0.10107995085418224, Test Loss: 0.08346275061368942\n",
      "Epoch 31, Train Loss: 0.09869076322764159, Test Loss: 0.07921688869595528\n",
      "Epoch 32, Train Loss: 0.0975093124806881, Test Loss: 0.08016440257430077\n",
      "Epoch 33, Train Loss: 0.09971165377646685, Test Loss: 0.07969064265489578\n",
      "Epoch 34, Train Loss: 0.09082298088818788, Test Loss: 0.07908569648861885\n",
      "Epoch 35, Train Loss: 0.0985693396627903, Test Loss: 0.0829299245774746\n",
      "Epoch 36, Train Loss: 0.0958457300812006, Test Loss: 0.07948775008320809\n",
      "Epoch 37, Train Loss: 0.10078251175582409, Test Loss: 0.08191924408078194\n",
      "Epoch 38, Train Loss: 0.09604491610080004, Test Loss: 0.07933860674500465\n",
      "Epoch 39, Train Loss: 0.09118557833135128, Test Loss: 0.08250494837760926\n",
      "Epoch 40, Train Loss: 0.09215156834572553, Test Loss: 0.08111373856663703\n",
      "Epoch 41, Train Loss: 0.09738594591617585, Test Loss: 0.07909576013684273\n",
      "Epoch 42, Train Loss: 0.0954025574401021, Test Loss: 0.07869661942124367\n",
      "Epoch 43, Train Loss: 0.09294241361320019, Test Loss: 0.07957901164889336\n",
      "Epoch 44, Train Loss: 0.09379699040204287, Test Loss: 0.07936803817749023\n",
      "Epoch 45, Train Loss: 0.09174748212099075, Test Loss: 0.07879607826471328\n",
      "Epoch 46, Train Loss: 0.08730804558843375, Test Loss: 0.0774387726187706\n",
      "Epoch 47, Train Loss: 0.09138001058250665, Test Loss: 0.07855225250124931\n",
      "Epoch 48, Train Loss: 0.09470538169145584, Test Loss: 0.08585130482912064\n",
      "Epoch 49, Train Loss: 0.0937408934906125, Test Loss: 0.07897481948137283\n",
      "Epoch 50, Train Loss: 0.09360512536019087, Test Loss: 0.08064676895737648\n"
     ]
    }
   ],
   "source": [
    "#\n",
    "class ANESDataset(Dataset):\n",
    "    '''Formats the dataset for the neural network'''\n",
    "    def __init__(self, X, y):\n",
    "        self.X = torch.tensor(X.values, dtype=torch.float32)\n",
    "        self.y = torch.tensor(y.values, dtype=torch.float32).reshape(-1, 1)\n",
    "\n",
    "    def __len__(self):\n",
    "        return len(self.X)\n",
    "\n",
    "    def __getitem__(self, idx):\n",
    "        return self.X[idx], self.y[idx]\n",
    "\n",
    "class ANESNet(nn.Module):\n",
    "    '''Creates a neural network model with 3 hidden layers'''\n",
    "    def __init__(self, input_dim, hidden_dim, output_dim):\n",
    "        super(ANESNet, self).__init__()\n",
    "        self.fc1 = nn.Linear(input_dim, hidden_dim)\n",
    "        self.bn1 = nn.BatchNorm1d(hidden_dim)\n",
    "        self.fc2 = nn.Linear(hidden_dim, hidden_dim)\n",
    "        self.bn2 = nn.BatchNorm1d(hidden_dim)\n",
    "        self.fc3 = nn.Linear(hidden_dim, hidden_dim)\n",
    "        self.bn3 = nn.BatchNorm1d(hidden_dim)\n",
    "        self.fc4 = nn.Linear(hidden_dim, output_dim)\n",
    "        self.relu = nn.ReLU()\n",
    "        self.dropout = nn.Dropout(0.5)\n",
    "\n",
    "    def forward(self, x):\n",
    "        x = self.relu(self.bn1(self.fc1(x)))\n",
    "        x = self.dropout(x)\n",
    "        x = self.relu(self.bn2(self.fc2(x)))\n",
    "        x = self.dropout(x)\n",
    "        x = self.relu(self.bn3(self.fc3(x)))\n",
    "        x = self.dropout(x)\n",
    "        x = self.fc4(x)\n",
    "        return x\n",
    "\n",
    "input_dim = X_pocket_cov_train.shape[1]\n",
    "hidden_dim = 100\n",
    "output_dim = 1\n",
    "\n",
    "\n",
    "\n",
    "def train_model(X_train_model, y_train_model, X_test_model, y_test_model, input_dim, hidden_dim, output_dim, n_epochs=50):\n",
    "    '''Creates and trains a neural network model given the data, the input and output dimensions, and the number of epochs'''\n",
    "    anes_net = ANESNet(input_dim, hidden_dim, output_dim)\n",
    "\n",
    "    criterion = nn.MSELoss()\n",
    "    optimizer = optim.Adam(anes_net.parameters(), lr=0.001)\n",
    "\n",
    "    anes_train = ANESDataset(X_train_model, y_train_model)\n",
    "    anes_test = ANESDataset(X_test_model, y_test_model)\n",
    "\n",
    "    train_loader = DataLoader(anes_train, batch_size=64, shuffle=True)\n",
    "    test_loader = DataLoader(anes_test, batch_size=64, shuffle=False)\n",
    "\n",
    "\n",
    "    train_losses = []\n",
    "    test_losses = []\n",
    "    for epoch in range(n_epochs):\n",
    "        anes_net.train()\n",
    "        train_loss = 0\n",
    "        for X_batch, y_batch in train_loader:\n",
    "            optimizer.zero_grad()\n",
    "            output = anes_net(X_batch)\n",
    "            loss = criterion(output, y_batch)\n",
    "            loss.backward()\n",
    "            optimizer.step()\n",
    "            train_loss += loss.item()\n",
    "        train_losses.append(train_loss / len(train_loader))\n",
    "\n",
    "        anes_net.eval()\n",
    "        test_loss = 0\n",
    "        with torch.no_grad():\n",
    "            for X_batch, y_batch in test_loader:\n",
    "                output = anes_net(X_batch)\n",
    "                loss = criterion(output, y_batch)\n",
    "                test_loss += loss.item()\n",
    "            print(f'Epoch {epoch + 1}, Train Loss: {train_losses[-1]}, Test Loss: {test_loss / len(test_loader)}')\n",
    "            test_losses.append(test_loss / len(test_loader))\n",
    "    return anes_net, test_loader\n",
    "\n",
    "\n",
    "# Train the pocket eval model\n",
    "input_dim = X_pocket_cov_train.shape[1]\n",
    "anes_net_pocket, anes_loader = train_model(X_pocket_cov_train, y_train_pocket, X_pocket_cov_test, y_test_pocket, input_dim, hidden_dim, output_dim)"
   ]
  },
  {
   "cell_type": "code",
   "execution_count": null,
   "metadata": {},
   "outputs": [
    {
     "data": {
      "image/png": "[encoded data removed]",
      "text/plain": [
       "<Figure size 640x480 with 1 Axes>"
      ]
     },
     "metadata": {},
     "output_type": "display_data"
    },
    {
     "name": "stdout",
     "output_type": "stream",
     "text": [
      "R^2 value for pocketEval model: 0.876169808343547\n",
      "MSE for pocketEval model: 0.08064676894025151\n"
     ]
    }
   ],
   "source": [
    "# Show the predictions and mean squared error\n",
    "anes_net_pocket.eval()\n",
    "pocket_predictions = []\n",
    "with torch.no_grad():\n",
    "    for X_batch, y_batch in anes_loader:\n",
    "        output = anes_net_pocket(X_batch)\n",
    "        pocket_predictions.extend(output.numpy().flatten())\n",
    "\n",
    "# plot the predictions vs. true values\n",
    "plt.scatter(y_test_pocket, pocket_predictions)\n",
    "plt.xlabel('True Values')\n",
    "plt.ylabel('Predictions')\n",
    "plt.title('PocketEval Predictions vs. True Values')\n",
    "plt.show()\n",
    "y_test_pocket_graph = np.array(y_test_pocket)\n",
    "pocket_predictions = np.array(pocket_predictions).reshape(-1, 1)\n",
    "print('R^2 value for pocketEval model:', r2_score(y_test_pocket_graph, pocket_predictions))\n",
    "print('MSE for pocketEval model:', np.mean((y_test_pocket_graph - pocket_predictions) ** 2))"
   ]
  },
  {
   "cell_type": "code",
   "execution_count": 84,
   "metadata": {},
   "outputs": [
    {
     "name": "stdout",
     "output_type": "stream",
     "text": [
      "Epoch 1, Train Loss: 0.3469270767271519, Test Loss: 0.10030564308166504\n",
      "Epoch 2, Train Loss: 0.17997010014951229, Test Loss: 0.08712983995676041\n",
      "Epoch 3, Train Loss: 0.15198576033115388, Test Loss: 0.08341733992099762\n",
      "Epoch 4, Train Loss: 0.13482025139033793, Test Loss: 0.08310599938035011\n",
      "Epoch 5, Train Loss: 0.12552092649042607, Test Loss: 0.08272758677601814\n",
      "Epoch 6, Train Loss: 0.12349803045392037, Test Loss: 0.08234989866614342\n",
      "Epoch 7, Train Loss: 0.1218177069723606, Test Loss: 0.08266423642635345\n",
      "Epoch 8, Train Loss: 0.11576435126364232, Test Loss: 0.08274264380335808\n",
      "Epoch 9, Train Loss: 0.1165694473311305, Test Loss: 0.08202478244900703\n",
      "Epoch 10, Train Loss: 0.11582900062203408, Test Loss: 0.08007183328270912\n",
      "Epoch 11, Train Loss: 0.11248910862952471, Test Loss: 0.08134490996599197\n",
      "Epoch 12, Train Loss: 0.11372827094048261, Test Loss: 0.08005132421851158\n",
      "Epoch 13, Train Loss: 0.1121009223535657, Test Loss: 0.08176085665822029\n",
      "Epoch 14, Train Loss: 0.11457684978842736, Test Loss: 0.08011554345488549\n",
      "Epoch 15, Train Loss: 0.11060840256512165, Test Loss: 0.08160634279251099\n",
      "Epoch 16, Train Loss: 0.10883763004094363, Test Loss: 0.07925774395465851\n",
      "Epoch 17, Train Loss: 0.10694537445902824, Test Loss: 0.08140686675906181\n",
      "Epoch 18, Train Loss: 0.10507152877748012, Test Loss: 0.08117703959345818\n",
      "Epoch 19, Train Loss: 0.10965251188725234, Test Loss: 0.08070600897073746\n",
      "Epoch 20, Train Loss: 0.10714768789708615, Test Loss: 0.07918019145727158\n",
      "Epoch 21, Train Loss: 0.10234097227454185, Test Loss: 0.07918969586491585\n",
      "Epoch 22, Train Loss: 0.10168105158954859, Test Loss: 0.0808108812570572\n",
      "Epoch 23, Train Loss: 0.10585488226264715, Test Loss: 0.07866465881466865\n",
      "Epoch 24, Train Loss: 0.1047523606941104, Test Loss: 0.08129474818706513\n",
      "Epoch 25, Train Loss: 0.10106523651629687, Test Loss: 0.07914051949977875\n",
      "Epoch 26, Train Loss: 0.10201732836663722, Test Loss: 0.07890702903270722\n",
      "Epoch 27, Train Loss: 0.10136285774409771, Test Loss: 0.08098208606243133\n",
      "Epoch 28, Train Loss: 0.09894013296812773, Test Loss: 0.07719268828630448\n",
      "Epoch 29, Train Loss: 0.09864721555262804, Test Loss: 0.07714271515607835\n",
      "Epoch 30, Train Loss: 0.10139653228223323, Test Loss: 0.08117175236344337\n",
      "Epoch 31, Train Loss: 0.10273396033793687, Test Loss: 0.08087361752986907\n",
      "Epoch 32, Train Loss: 0.0975123405829072, Test Loss: 0.08002554908394814\n",
      "Epoch 33, Train Loss: 0.1043900365754962, Test Loss: 0.07889270067214965\n",
      "Epoch 34, Train Loss: 0.09482858665287494, Test Loss: 0.08028220489621163\n",
      "Epoch 35, Train Loss: 0.09821288220584393, Test Loss: 0.07843325272202492\n",
      "Epoch 36, Train Loss: 0.09831063762307167, Test Loss: 0.07955136597156524\n",
      "Epoch 37, Train Loss: 0.09987898148596287, Test Loss: 0.08132716551423073\n",
      "Epoch 38, Train Loss: 0.1025928070396185, Test Loss: 0.0804360643029213\n",
      "Epoch 39, Train Loss: 0.10070449229329824, Test Loss: 0.07973993197083473\n",
      "Epoch 40, Train Loss: 0.09420935075730086, Test Loss: 0.0796019084751606\n",
      "Epoch 41, Train Loss: 0.09499126188457012, Test Loss: 0.07902064546942711\n",
      "Epoch 42, Train Loss: 0.09259686544537545, Test Loss: 0.07951024666428566\n",
      "Epoch 43, Train Loss: 0.09548477772623301, Test Loss: 0.08317648574709892\n",
      "Epoch 44, Train Loss: 0.09530524708330632, Test Loss: 0.08015418067574501\n",
      "Epoch 45, Train Loss: 0.09445519417524338, Test Loss: 0.085256786942482\n",
      "Epoch 46, Train Loss: 0.09609578844159841, Test Loss: 0.0810348592698574\n",
      "Epoch 47, Train Loss: 0.09532554812729359, Test Loss: 0.08091183245182038\n",
      "Epoch 48, Train Loss: 0.0916271836683154, Test Loss: 0.07819050297141075\n",
      "Epoch 49, Train Loss: 0.09606194835156202, Test Loss: 0.08130071401596069\n",
      "Epoch 50, Train Loss: 0.09419295120984315, Test Loss: 0.07980395510792732\n"
     ]
    }
   ],
   "source": [
    "# train a neural network on econEval model\n",
    "input_dim = X_econ_cov_train.shape[1]\n",
    "anes_net_econ, anes_loader = train_model(X_econ_cov_train, y_train_econ, X_econ_cov_test, y_test_econ, input_dim, hidden_dim, output_dim)"
   ]
  },
  {
   "cell_type": "code",
   "execution_count": null,
   "metadata": {},
   "outputs": [
    {
     "data": {
      "image/png": "[encoded data removed]",
      "text/plain": [
       "<Figure size 640x480 with 1 Axes>"
      ]
     },
     "metadata": {},
     "output_type": "display_data"
    },
    {
     "name": "stdout",
     "output_type": "stream",
     "text": [
      "R^2 value for econEval model: 0.8774639176507713\n",
      "MSE for econEval model: 0.07980395562560619\n"
     ]
    }
   ],
   "source": [
    "# Show the predictions and mean squared error for the econEval model\n",
    "anes_net_econ.eval()\n",
    "econ_predictions = []\n",
    "with torch.no_grad():\n",
    "    for X_batch, y_batch in anes_loader:\n",
    "        output = anes_net_econ(X_batch)\n",
    "        econ_predictions.extend(output.numpy().flatten())\n",
    "\n",
    "# plot the predictions vs. true values\n",
    "plt.scatter(y_test_econ, econ_predictions)\n",
    "plt.xlabel('True Values')\n",
    "plt.ylabel('Predictions')\n",
    "plt.title('EconEval Predictions vs. True Values')\n",
    "plt.show()\n",
    "\n",
    "y_test_econ = np.array(y_test_econ)\n",
    "econ_predictions = np.array(econ_predictions).reshape(-1, 1)\n"
   ]
  },
  {
   "cell_type": "code",
   "execution_count": 86,
   "metadata": {},
   "outputs": [
    {
     "name": "stdout",
     "output_type": "stream",
     "text": [
      "Epoch 1, Train Loss: 0.3452577641606331, Test Loss: 0.1024691715836525\n",
      "Epoch 2, Train Loss: 0.17829675890505314, Test Loss: 0.09009575068950654\n",
      "Epoch 3, Train Loss: 0.141436712667346, Test Loss: 0.08700345650315285\n",
      "Epoch 4, Train Loss: 0.13369923330843447, Test Loss: 0.08551765009760856\n",
      "Epoch 5, Train Loss: 0.12467245534062385, Test Loss: 0.08370337814092636\n",
      "Epoch 6, Train Loss: 0.12056069925427437, Test Loss: 0.08566628962755203\n",
      "Epoch 7, Train Loss: 0.11698762364685536, Test Loss: 0.08436761572957038\n",
      "Epoch 8, Train Loss: 0.11421333156526088, Test Loss: 0.08410162508487701\n",
      "Epoch 9, Train Loss: 0.11502498991787434, Test Loss: 0.08445032641291618\n",
      "Epoch 10, Train Loss: 0.11134620741009713, Test Loss: 0.0808247035741806\n",
      "Epoch 11, Train Loss: 0.11199456922709942, Test Loss: 0.08196459233760833\n",
      "Epoch 12, Train Loss: 0.11472051803022623, Test Loss: 0.08078118696808816\n",
      "Epoch 13, Train Loss: 0.1088213760778308, Test Loss: 0.08218538075685501\n",
      "Epoch 14, Train Loss: 0.10669862981885672, Test Loss: 0.07980751156806946\n",
      "Epoch 15, Train Loss: 0.10349975928664207, Test Loss: 0.08052522242069245\n",
      "Epoch 16, Train Loss: 0.10970408126711845, Test Loss: 0.08209618628025055\n",
      "Epoch 17, Train Loss: 0.11009533200412988, Test Loss: 0.08360927790403366\n",
      "Epoch 18, Train Loss: 0.10691175993531943, Test Loss: 0.07961039915680886\n",
      "Epoch 19, Train Loss: 0.10487058412283659, Test Loss: 0.0806847956776619\n",
      "Epoch 20, Train Loss: 0.10507371075451374, Test Loss: 0.08001700684428215\n",
      "Epoch 21, Train Loss: 0.10529255963861943, Test Loss: 0.0808929243683815\n",
      "Epoch 22, Train Loss: 0.10289343412965536, Test Loss: 0.08255382165312768\n",
      "Epoch 23, Train Loss: 0.10186693016439677, Test Loss: 0.07905103147029877\n",
      "Epoch 24, Train Loss: 0.09904747221618891, Test Loss: 0.07872894242405891\n",
      "Epoch 25, Train Loss: 0.09946352574974299, Test Loss: 0.08122862547636032\n",
      "Epoch 26, Train Loss: 0.10554304145276547, Test Loss: 0.08051914125680923\n",
      "Epoch 27, Train Loss: 0.10015703774988652, Test Loss: 0.07937360465526581\n",
      "Epoch 28, Train Loss: 0.10076990935951471, Test Loss: 0.08344959422945976\n",
      "Epoch 29, Train Loss: 0.10137059114873409, Test Loss: 0.08152641117572784\n",
      "Epoch 30, Train Loss: 0.10788897205144167, Test Loss: 0.08645442157983779\n",
      "Epoch 31, Train Loss: 0.10164766248315572, Test Loss: 0.0772459189593792\n",
      "Epoch 32, Train Loss: 0.09928541842848063, Test Loss: 0.07909680902957916\n",
      "Epoch 33, Train Loss: 0.09574797242879868, Test Loss: 0.08177260220050812\n",
      "Epoch 34, Train Loss: 0.10211830575019121, Test Loss: 0.07969040393829346\n",
      "Epoch 35, Train Loss: 0.10020364217460155, Test Loss: 0.08075856775045395\n",
      "Epoch 36, Train Loss: 0.09838830716907979, Test Loss: 0.0791614855825901\n",
      "Epoch 37, Train Loss: 0.0999165915325284, Test Loss: 0.0794634884595871\n",
      "Epoch 38, Train Loss: 0.09351227920502424, Test Loss: 0.07876931324601173\n",
      "Epoch 39, Train Loss: 0.0997898755595088, Test Loss: 0.08476820170879364\n",
      "Epoch 40, Train Loss: 0.09577547423541546, Test Loss: 0.08101003482937813\n",
      "Epoch 41, Train Loss: 0.09534018136560916, Test Loss: 0.07803143471479417\n",
      "Epoch 42, Train Loss: 0.09815382950007916, Test Loss: 0.08192735493183136\n",
      "Epoch 43, Train Loss: 0.0961804385855794, Test Loss: 0.08036303505301476\n",
      "Epoch 44, Train Loss: 0.09495049878954888, Test Loss: 0.0793216149508953\n",
      "Epoch 45, Train Loss: 0.09275832492858171, Test Loss: 0.07968423366546631\n",
      "Epoch 46, Train Loss: 0.08956691693514586, Test Loss: 0.08191928803920746\n",
      "Epoch 47, Train Loss: 0.09052871871739626, Test Loss: 0.08250163227319718\n",
      "Epoch 48, Train Loss: 0.09273387540131807, Test Loss: 0.07880731627345085\n",
      "Epoch 49, Train Loss: 0.09464547842741013, Test Loss: 0.08014455214142799\n",
      "Epoch 50, Train Loss: 0.09071372162550688, Test Loss: 0.07909431874752045\n"
     ]
    }
   ],
   "source": [
    "#train a neural network on model without pocketEval and econEval\n",
    "X_without_train = X_pocket_cov_train.drop(columns=['pocketEval'])\n",
    "input_dim = X_without_train.shape[1]\n",
    "X_without_test = X_pocket_cov_test.drop(columns=['pocketEval'])\n",
    "anes_net_without, anes_loader = train_model(X_without_train, y_train_pocket, X_without_test, y_test_pocket, input_dim, hidden_dim, output_dim)"
   ]
  },
  {
   "cell_type": "code",
   "execution_count": null,
   "metadata": {},
   "outputs": [
    {
     "data": {
      "image/png": "[encoded data removed]",
      "text/plain": [
       "<Figure size 640x480 with 1 Axes>"
      ]
     },
     "metadata": {},
     "output_type": "display_data"
    },
    {
     "name": "stdout",
     "output_type": "stream",
     "text": [
      "R^2 value for normal model: 0.8785535377924332\n",
      "MSE for normal model: 0.07909431977168578\n"
     ]
    }
   ],
   "source": [
    "# Show the predictions and mean squared error for the model without pocketEval and econEval\n",
    "anes_net_without.eval()\n",
    "econ_predictions = []\n",
    "with torch.no_grad():\n",
    "    for X_batch, y_batch in anes_loader:\n",
    "        output = anes_net_without(X_batch)\n",
    "        econ_predictions.extend(output.numpy().flatten())\n",
    "\n",
    "# plot the predictions vs. true values\n",
    "plt.scatter(y_test_econ, econ_predictions)\n",
    "plt.xlabel('True Values')\n",
    "plt.ylabel('Predictions')\n",
    "plt.title('EconEval Predictions vs. True Values')\n",
    "plt.show()\n",
    "\n",
    "y_test_graph = np.array(y_test_econ)\n",
    "econ_predictions = np.array(econ_predictions).reshape(-1, 1)\n",
    "print('R^2 value for normal model:', r2_score(y_test_graph, econ_predictions))\n",
    "print('MSE for normal model:', np.mean((y_test_graph - econ_predictions) ** 2))"
   ]
  },
  {
   "cell_type": "markdown",
   "metadata": {},
   "source": [
    "## Random Forest"
   ]
  },
  {
   "cell_type": "code",
   "execution_count": 88,
   "metadata": {},
   "outputs": [
    {
     "name": "stdout",
     "output_type": "stream",
     "text": [
      "Random Forest accuracy on pocketEval model: 0.8851968120802028\n"
     ]
    }
   ],
   "source": [
    "# run a Random Forest on pocketEval test data and covariates\n",
    "rf_pocket = RandomForestRegressor(n_estimators=500, random_state=25)\n",
    "y_train_pocket = y_train_pocket.values.ravel()\n",
    "rf_pocket.fit(X_pocket_cov_train, y_train_pocket)\n",
    "\n",
    "feature_importance_pocket = pd.DataFrame({\n",
    "    \"Feature\": X_pocket_cov.columns,\n",
    "    \"Importance\": rf_pocket.feature_importances_\n",
    "}).sort_values(by=\"Importance\", ascending=False)\n",
    "feature_importance_pocket.head(10)\n",
    "\n",
    "# get random forest prediction accuracy on pocket test\n",
    "rf_pocket.score(X_pocket_cov_test, y_test_pocket)\n",
    "print('Random Forest accuracy on pocketEval model:', rf_pocket.score(X_pocket_cov_test, y_test_pocket))"
   ]
  },
  {
   "cell_type": "code",
   "execution_count": 89,
   "metadata": {},
   "outputs": [
    {
     "name": "stdout",
     "output_type": "stream",
     "text": [
      "Random Forest accuracy on econEval model: 0.8853996721513752\n"
     ]
    }
   ],
   "source": [
    "# run a Random Forest on econEval and covariates\n",
    "rf_econ = RandomForestRegressor(n_estimators=500, random_state=25)\n",
    "y_train_econ = y_train_econ.values.ravel()\n",
    "rf_econ.fit(X_econ_cov_train, y_train_econ)\n",
    "\n",
    "feature_importance_econ = pd.DataFrame({\n",
    "    \"Feature\": X_econ_cov.columns,\n",
    "    \"Importance\": rf_econ.feature_importances_\n",
    "}).sort_values(by=\"Importance\", ascending=False)\n",
    "feature_importance_econ.head(10)\n",
    "\n",
    "# get random forest prediction accuracy on econ test\n",
    "rf_econ.score(X_econ_cov_test, y_test_econ)\n",
    "print('Random Forest accuracy on econEval model:', rf_econ.score(X_econ_cov_test, y_test_econ))"
   ]
  }
 ],
 "metadata": {
  "kernelspec": {
   "display_name": "Python 3",
   "language": "python",
   "name": "python3"
  },
  "language_info": {
   "codemirror_mode": {
    "name": "ipython",
    "version": 3
   },
   "file_extension": ".py",
   "mimetype": "text/x-python",
   "name": "python",
   "nbconvert_exporter": "python",
   "pygments_lexer": "ipython3",
   "version": "3.11.4"
  }
 },
 "nbformat": 4,
 "nbformat_minor": 2
}
