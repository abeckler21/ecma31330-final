{
 "cells": [
  {
   "cell_type": "markdown",
   "metadata": {},
   "source": [
    "# ECMA 31330 Final Project\n",
    "### Abby Beckler, Miles Brown"
   ]
  },
  {
   "cell_type": "code",
   "execution_count": 91,
   "metadata": {},
   "outputs": [],
   "source": [
    "# imports\n",
    "import os\n",
    "os.environ[\"KMP_DUPLICATE_LIB_OK\"] = \"TRUE\"\n",
    "import numpy as np\n",
    "import matplotlib.pyplot as plt\n",
    "import pandas as pd\n",
    "import statsmodels.api as sm\n",
    "import torch\n",
    "import torch.nn as nn\n",
    "import torch.optim as optim\n",
    "from torch.utils.data import DataLoader, Dataset\n",
    "from sklearn.impute import KNNImputer\n",
    "from sklearn.linear_model import Lasso, LassoCV\n",
    "from sklearn.ensemble import RandomForestRegressor\n",
    "from sklearn.preprocessing import StandardScaler, MinMaxScaler\n",
    "from sklearn.metrics import r2_score\n",
    "from sklearn.model_selection import train_test_split"
   ]
  },
  {
   "cell_type": "markdown",
   "metadata": {},
   "source": [
    "## Load Data + Use KNN to Impute Missing Values"
   ]
  },
  {
   "cell_type": "code",
   "execution_count": 92,
   "metadata": {},
   "outputs": [],
   "source": [
    "# set seed to ensure reproducibility\n",
    "np.random.seed(25)\n",
    "\n",
    "# load the data\n",
    "ANES = pd.read_csv('data/ANES.csv')\n",
    "\n",
    "# remove rows with missing 'pocket', 'retro', and 'trumpft' values\n",
    "ANES = ANES.dropna(subset=['pocket', 'retro', 'trumpft'])\n",
    "\n",
    "# impute using k-nearest neighbors imputer\n",
    "imputer = KNNImputer(n_neighbors=5)\n",
    "ANES = pd.DataFrame(imputer.fit_transform(ANES), columns=ANES.columns)\n",
    "\n",
    "# add relevant columns 'pocketEval' and 'econEval'\n",
    "ANES['pocketEval'] = (ANES['pocket'] - 3) * (-1/2)\n",
    "ANES['econEval'] = (ANES['retro'] - 3) * (-1/2)"
   ]
  },
  {
   "cell_type": "markdown",
   "metadata": {},
   "source": [
    "## Perform Initial OLS Regressions (same as K&K)"
   ]
  },
  {
   "cell_type": "code",
   "execution_count": 93,
   "metadata": {},
   "outputs": [
    {
     "name": "stdout",
     "output_type": "stream",
     "text": [
      "            pocketEval  econEval\n",
      "pocketEval    1.000000  0.228858\n",
      "econEval      0.228858  1.000000\n",
      "                            OLS Regression Results                            \n",
      "==============================================================================\n",
      "Dep. Variable:                trumpft   R-squared:                       0.327\n",
      "Model:                            OLS   Adj. R-squared:                  0.326\n",
      "Method:                 Least Squares   F-statistic:                     1939.\n",
      "Date:                Sat, 15 Mar 2025   Prob (F-statistic):               0.00\n",
      "Time:                        16:45:40   Log-Likelihood:                -39332.\n",
      "No. Observations:                7998   AIC:                         7.867e+04\n",
      "Df Residuals:                    7995   BIC:                         7.869e+04\n",
      "Df Model:                           2                                         \n",
      "Covariance Type:            nonrobust                                         \n",
      "==============================================================================\n",
      "                 coef    std err          t      P>|t|      [0.025      0.975]\n",
      "------------------------------------------------------------------------------\n",
      "const         52.5503      0.426    123.293      0.000      51.715      53.386\n",
      "pocketEval     5.3749      0.781      6.880      0.000       3.844       6.906\n",
      "econEval      33.8847      0.577     58.678      0.000      32.753      35.017\n",
      "==============================================================================\n",
      "Omnibus:                      283.666   Durbin-Watson:                   1.980\n",
      "Prob(Omnibus):                  0.000   Jarque-Bera (JB):              274.702\n",
      "Skew:                           0.413   Prob(JB):                     2.23e-60\n",
      "Kurtosis:                       2.621   Cond. No.                         2.41\n",
      "==============================================================================\n",
      "\n",
      "Notes:\n",
      "[1] Standard Errors assume that the covariance matrix of the errors is correctly specified.\n"
     ]
    }
   ],
   "source": [
    "# isolate the independent and dependent variables\n",
    "X_pocket = ANES[['pocketEval']]\n",
    "X_econ = ANES[['econEval']]\n",
    "X_ols = ANES[['pocketEval', 'econEval']]\n",
    "\n",
    "# Quick correlation test between pocketEval and econEval\n",
    "correlation = ANES[['pocketEval', 'econEval']].corr()\n",
    "print(correlation) # Low positive correlation indicating they don't measure the same thing\n",
    "\n",
    "\n",
    "y = ANES['trumpft']\n",
    "\n",
    "# run the OLS regression for the pocket and econ evaluations\n",
    "X_ols = sm.add_constant(X_ols)\n",
    "model_ols = sm.OLS(y, X_ols).fit()\n",
    "print(model_ols.summary())\n",
    "\n",
    "# export the results to a .tex file\n",
    "with open('outputs/ols_results.tex', 'w') as tf:\n",
    "    tf.write(model_ols.summary().as_latex())\n"
   ]
  },
  {
   "cell_type": "markdown",
   "metadata": {},
   "source": [
    "## More Complex OLS Regressions (+ Covariates)"
   ]
  },
  {
   "cell_type": "code",
   "execution_count": null,
   "metadata": {},
   "outputs": [
    {
     "name": "stdout",
     "output_type": "stream",
     "text": [
      "                            OLS Regression Results                            \n",
      "==============================================================================\n",
      "Dep. Variable:                trumpft   R-squared:                       0.874\n",
      "Model:                            OLS   Adj. R-squared:                  0.874\n",
      "Method:                 Least Squares   F-statistic:                     1153.\n",
      "Date:                Sat, 15 Mar 2025   Prob (F-statistic):               0.00\n",
      "Time:                        16:45:40   Log-Likelihood:                -32617.\n",
      "No. Observations:                7998   AIC:                         6.533e+04\n",
      "Df Residuals:                    7949   BIC:                         6.567e+04\n",
      "Df Model:                          48                                         \n",
      "Covariance Type:            nonrobust                                         \n",
      "========================================================================================\n",
      "                           coef    std err          t      P>|t|      [0.025      0.975]\n",
      "----------------------------------------------------------------------------------------\n",
      "const                   35.5316      2.232     15.919      0.000      31.156      39.907\n",
      "pocketEval               0.3642      0.356      1.022      0.307      -0.334       1.062\n",
      "econEval                43.4219      2.681     16.196      0.000      38.166      48.678\n",
      "mode                    -0.4723      0.381     -1.241      0.215      -1.218       0.274\n",
      "prepost                  0.8758      0.643      1.361      0.174      -0.386       2.137\n",
      "sp_serv                 -0.1628      0.136     -1.193      0.233      -0.430       0.105\n",
      "sp_serv_biden           -0.7088      0.114     -6.243      0.000      -0.931      -0.486\n",
      "sp_serv_trump            0.6436      0.112      5.743      0.000       0.424       0.863\n",
      "jobs_living              0.1109      0.123      0.900      0.368      -0.131       0.353\n",
      "jobs_living_biden       -0.2042      0.126     -1.621      0.105      -0.451       0.043\n",
      "jobs_living_trump       -0.1953      0.129     -1.514      0.130      -0.448       0.058\n",
      "envir_business           1.3809      0.128     10.811      0.000       1.130       1.631\n",
      "envir_business_biden    -0.2280      0.129     -1.774      0.076      -0.480       0.024\n",
      "envir_business_trump    -0.7760      0.130     -5.971      0.000      -1.031      -0.521\n",
      "abortion                -0.6234      0.188     -3.314      0.001      -0.992      -0.255\n",
      "abortion_salience        0.1242      0.132      0.944      0.345      -0.134       0.382\n",
      "abortion_biden          -0.7885      0.205     -3.843      0.000      -1.191      -0.386\n",
      "abortion_trump           0.4399      0.193      2.281      0.023       0.062       0.818\n",
      "bible                   -0.6253      0.322     -1.939      0.053      -1.257       0.007\n",
      "adjust_change           -0.1111      0.145     -0.764      0.445      -0.396       0.174\n",
      "family_ties             -0.0995      0.088     -1.127      0.260      -0.273       0.074\n",
      "covid_approval          -9.8876      0.248    -39.897      0.000     -10.373      -9.402\n",
      "covid_response_speed    -1.0427      0.236     -4.416      0.000      -1.506      -0.580\n",
      "mail_in_attitude         0.6811      0.101      6.721      0.000       0.482       0.880\n",
      "police_treat             1.3278      0.171      7.777      0.000       0.993       1.662\n",
      "repro                   19.7508      1.341     14.731      0.000      17.123      22.379\n",
      "turnout                 -4.6926      1.610     -2.915      0.004      -7.848      -1.537\n",
      "mail_in                 -0.5477      0.225     -2.438      0.015      -0.988      -0.107\n",
      "stateFIPS               -0.0114      0.010     -1.120      0.263      -0.031       0.009\n",
      "attention_poli          -0.5025      0.176     -2.862      0.004      -0.847      -0.158\n",
      "age                     -0.0369      0.012     -3.147      0.002      -0.060      -0.014\n",
      "marital                 -0.0693      0.095     -0.728      0.467      -0.256       0.117\n",
      "educ                    -0.4157      0.282     -1.477      0.140      -0.968       0.136\n",
      "educ5                    0.9405      0.519      1.811      0.070      -0.078       1.959\n",
      "race                     0.1217      0.136      0.893      0.372      -0.145       0.389\n",
      "gender                   0.6101      0.349      1.746      0.081      -0.075       1.295\n",
      "income                  -0.0361      0.030     -1.214      0.225      -0.094       0.022\n",
      "ideology                 2.4434      0.173     14.115      0.000       2.104       2.783\n",
      "religion                 0.3251      0.154      2.112      0.035       0.023       0.627\n",
      "union                   -0.4667      0.474     -0.984      0.325      -1.397       0.463\n",
      "trans                   -0.1062      0.111     -0.960      0.337      -0.323       0.111\n",
      "immigration             -9.6936      0.235    -41.198      0.000     -10.155      -9.232\n",
      "gun_diff                 1.6220      0.214      7.566      0.000       1.202       2.042\n",
      "offensive_language       0.6154      0.185      3.331      0.001       0.253       0.978\n",
      "harassment              -0.1704      0.221     -0.770      0.441      -0.604       0.263\n",
      "no_children             -0.3251      0.438     -0.742      0.458      -1.184       0.534\n",
      "arrested                -0.8247      0.443     -1.862      0.063      -1.693       0.043\n",
      "feminist                 0.3310      0.239      1.384      0.166      -0.138       0.800\n",
      "flag                    -1.0303      0.380     -2.710      0.007      -1.775      -0.285\n",
      "shark                    1.7255      2.270      0.760      0.447      -2.725       6.176\n",
      "family_importance       -0.0995      0.088     -1.127      0.260      -0.273       0.074\n",
      "==============================================================================\n",
      "Omnibus:                      605.120   Durbin-Watson:                   1.989\n",
      "Prob(Omnibus):                  0.000   Jarque-Bera (JB):             3091.112\n",
      "Skew:                           0.155   Prob(JB):                         0.00\n",
      "Kurtosis:                       6.030   Cond. No.                     1.03e+16\n",
      "==============================================================================\n",
      "\n",
      "Notes:\n",
      "[1] Standard Errors assume that the covariance matrix of the errors is correctly specified.\n",
      "[2] The smallest eigenvalue is 3.21e-25. This might indicate that there are\n",
      "strong multicollinearity problems or that the design matrix is singular.\n"
     ]
    }
   ],
   "source": [
    "# create list of covariate columns\n",
    "covariates = ANES.columns.tolist()\n",
    "removed = ['trumpft', 'trumpft_post', 'pocket', 'retro', 'pocketEval', 'econEval', 'votepres',\n",
    "           'bidenft', 'bidenft_post', 'pid_lean', 'pid_strong', 'pid3', 'pid7']\n",
    "for col in removed:\n",
    "    covariates.remove(col)\n",
    "\n",
    "# run the OLS regression for the simultaneous pocket and econ evaluations with the covariates\n",
    "regression_cols = ['pocketEval', 'econEval'] + covariates\n",
    "X_ols_covs = ANES[regression_cols]\n",
    "X_ols_covs = sm.add_constant(X_ols_covs)\n",
    "model_ols_covs = sm.OLS(y, X_ols_covs).fit()\n",
    "print(model_ols_covs.summary())\n",
    "\n",
    "# export the results to a .tex file\n",
    "with open('outputs/ols_covs_results.tex', 'w') as tf:\n",
    "    tf.write(model_ols_covs.summary().as_latex())"
   ]
  },
  {
   "cell_type": "markdown",
   "metadata": {},
   "source": [
    "## Train/Test Split"
   ]
  },
  {
   "cell_type": "code",
   "execution_count": 95,
   "metadata": {},
   "outputs": [],
   "source": [
    "# define X pocket_cov and X econ_cov\n",
    "X_pocket_cov = ANES[['pocketEval'] + covariates]\n",
    "X_econ_cov = ANES[['econEval'] + covariates]\n",
    "\n",
    "# train test split the pocket and econ + covariate data\n",
    "X_pocket_cov_train, X_pocket_cov_test, y_train_pocket, y_test_pocket = train_test_split(X_pocket_cov, y, test_size=0.2, random_state=25)\n",
    "X_econ_cov_train, X_econ_cov_test, y_train_econ, y_test_econ = train_test_split(X_econ_cov, y, test_size=0.2, random_state=25)\n",
    "\n",
    "# standardize the data\n",
    "scaler = MinMaxScaler(feature_range=(-1, 1))\n",
    "X_pocket_cov_train = scaler.fit_transform(X_pocket_cov_train)\n",
    "X_pocket_cov_test = scaler.transform(X_pocket_cov_test)\n",
    "X_econ_cov_train = scaler.fit_transform(X_econ_cov_train)\n",
    "X_econ_cov_test = scaler.transform(X_econ_cov_test)\n",
    "\n",
    "# Put back into a pandas dataframe\n",
    "X_pocket_cov_train = pd.DataFrame(X_pocket_cov_train, columns=X_pocket_cov.columns)\n",
    "X_pocket_cov_test = pd.DataFrame(X_pocket_cov_test, columns=X_pocket_cov.columns)\n",
    "X_econ_cov_train = pd.DataFrame(X_econ_cov_train, columns=X_econ_cov.columns)\n",
    "X_econ_cov_test = pd.DataFrame(X_econ_cov_test, columns=X_econ_cov.columns)\n",
    "\n",
    "scaler_y = MinMaxScaler(feature_range=(-1, 1))\n",
    "y_train_pocket = scaler_y.fit_transform(y_train_pocket.values.reshape(-1, 1))\n",
    "y_test_pocket = scaler_y.transform(y_test_pocket.values.reshape(-1, 1))\n",
    "y_train_econ = scaler_y.fit_transform(y_train_econ.values.reshape(-1, 1))\n",
    "y_test_econ = scaler_y.transform(y_test_econ.values.reshape(-1, 1))\n",
    "\n",
    "y_train_pocket = pd.DataFrame(y_train_pocket, columns=['trumpft'])\n",
    "y_test_pocket = pd.DataFrame(y_test_pocket, columns=['trumpft'])\n",
    "y_train_econ = pd.DataFrame(y_train_econ, columns=['trumpft'])\n",
    "y_test_econ = pd.DataFrame(y_test_econ, columns=['trumpft'])\n",
    "#'''\n"
   ]
  },
  {
   "cell_type": "markdown",
   "metadata": {},
   "source": [
    "## LASSO Regression"
   ]
  },
  {
   "cell_type": "code",
   "execution_count": 96,
   "metadata": {},
   "outputs": [
    {
     "name": "stdout",
     "output_type": "stream",
     "text": [
      "Lasso Pocket Model:\n",
      "Intercept: [-0.02034677]\n",
      "Number of Nonzero Coefficients: 8\n",
      "Nonzero Coefficients: ['envir_business', 'covid_approval', 'mail_in_attitude', 'repro', 'ideology', 'trans', 'immigration', 'gun_diff']\n",
      "Accuracy: 0.8543858395871623\n",
      "\n",
      "Lasso Econ Model:\n",
      "Intercept: [-0.02031254]\n",
      "Number of Nonzero Coefficients: 9\n",
      "Nonzero Coefficients: ['econEval', 'envir_business', 'covid_approval', 'mail_in_attitude', 'repro', 'ideology', 'trans', 'immigration', 'gun_diff']\n",
      "Accuracy: 0.8543833698545613\n"
     ]
    }
   ],
   "source": [
    "\n",
    "# fit LASSO models\n",
    "lasso_pocket = Lasso(alpha=0.05, random_state=25)\n",
    "lasso_pocket.fit(X_pocket_cov_train, y_train_pocket)\n",
    "\n",
    "lasso_econ = Lasso(alpha=0.05, random_state=25)\n",
    "lasso_econ.fit(X_econ_cov_train, y_train_econ)\n",
    "\n",
    "# predict the test set\n",
    "y_pred_pocket = lasso_pocket.predict(X_pocket_cov_test)\n",
    "y_pred_econ = lasso_econ.predict(X_econ_cov_test)\n",
    "\n",
    "# print the intercept, number of nonzero coefficients, and the names of nonzero coefficients\n",
    "print('Lasso Pocket Model:')\n",
    "print('Intercept:', lasso_pocket.intercept_)\n",
    "print('Number of Nonzero Coefficients:', np.count_nonzero(lasso_pocket.coef_))\n",
    "print('Nonzero Coefficients:', X_pocket_cov.columns[lasso_pocket.coef_ != 0].tolist())\n",
    "print('Accuracy:', r2_score(y_test_pocket, y_pred_pocket))\n",
    "\n",
    "print('\\nLasso Econ Model:')\n",
    "print('Intercept:', lasso_econ.intercept_)\n",
    "print('Number of Nonzero Coefficients:', np.count_nonzero(lasso_econ.coef_))\n",
    "print('Nonzero Coefficients:', X_econ_cov.columns[lasso_econ.coef_ != 0].tolist())\n",
    "print('Accuracy:', r2_score(y_test_econ, y_pred_econ))\n",
    "\n",
    "\n"
   ]
  },
  {
   "cell_type": "markdown",
   "metadata": {},
   "source": [
    "## Neural Network (?)"
   ]
  },
  {
   "cell_type": "code",
   "execution_count": 97,
   "metadata": {},
   "outputs": [
    {
     "name": "stdout",
     "output_type": "stream",
     "text": [
      "Epoch 1, Train Loss: 0.39457745909690856, Test Loss: 0.11676014751195908\n",
      "Epoch 2, Train Loss: 0.19340961799025536, Test Loss: 0.089843370616436\n",
      "Epoch 3, Train Loss: 0.15732367284595966, Test Loss: 0.08411342844367027\n",
      "Epoch 4, Train Loss: 0.14100192502140999, Test Loss: 0.08445868209004402\n",
      "Epoch 5, Train Loss: 0.1301916578412056, Test Loss: 0.08467676475644112\n",
      "Epoch 6, Train Loss: 0.12660981878638267, Test Loss: 0.0831114773452282\n",
      "Epoch 7, Train Loss: 0.12542599745094776, Test Loss: 0.08685723543167115\n",
      "Epoch 8, Train Loss: 0.12130874387919903, Test Loss: 0.08626403644680977\n",
      "Epoch 9, Train Loss: 0.12022503100335598, Test Loss: 0.08053894713521004\n",
      "Epoch 10, Train Loss: 0.11490254774689675, Test Loss: 0.08456091955304146\n",
      "Epoch 11, Train Loss: 0.11810235381126404, Test Loss: 0.08390209943056107\n",
      "Epoch 12, Train Loss: 0.12052426375448703, Test Loss: 0.08432817950844765\n",
      "Epoch 13, Train Loss: 0.11101614277809858, Test Loss: 0.08464387208223342\n",
      "Epoch 14, Train Loss: 0.11083856727927924, Test Loss: 0.08390462845563888\n",
      "Epoch 15, Train Loss: 0.10853581361472607, Test Loss: 0.07925255045294761\n",
      "Epoch 16, Train Loss: 0.10815560344606638, Test Loss: 0.08008409053087234\n",
      "Epoch 17, Train Loss: 0.1068994079902768, Test Loss: 0.07943885147571564\n",
      "Epoch 18, Train Loss: 0.10986211568117142, Test Loss: 0.08282896623015404\n",
      "Epoch 19, Train Loss: 0.1089914783090353, Test Loss: 0.07953247040510178\n",
      "Epoch 20, Train Loss: 0.10590634487569332, Test Loss: 0.07881868734955788\n",
      "Epoch 21, Train Loss: 0.10431026749312877, Test Loss: 0.07875087469816208\n",
      "Epoch 22, Train Loss: 0.11241636849939823, Test Loss: 0.08069345876574516\n",
      "Epoch 23, Train Loss: 0.10633691076189279, Test Loss: 0.07950377240777015\n",
      "Epoch 24, Train Loss: 0.10353673841804266, Test Loss: 0.07994306087493896\n",
      "Epoch 25, Train Loss: 0.09847169008105994, Test Loss: 0.07752583652734757\n",
      "Epoch 26, Train Loss: 0.10404638789594173, Test Loss: 0.07850678786635398\n",
      "Epoch 27, Train Loss: 0.10328108571469784, Test Loss: 0.07819639086723328\n",
      "Epoch 28, Train Loss: 0.10125467922538518, Test Loss: 0.08102442219853401\n",
      "Epoch 29, Train Loss: 0.10524631656706333, Test Loss: 0.07926899462938308\n",
      "Epoch 30, Train Loss: 0.09947517160326243, Test Loss: 0.07841962724924087\n",
      "Epoch 31, Train Loss: 0.10032782584428787, Test Loss: 0.07745396614074707\n",
      "Epoch 32, Train Loss: 0.09920591160655022, Test Loss: 0.07721518725156784\n",
      "Epoch 33, Train Loss: 0.09855720467865467, Test Loss: 0.08136379763484002\n",
      "Epoch 34, Train Loss: 0.09656997330486775, Test Loss: 0.08013358011841774\n",
      "Epoch 35, Train Loss: 0.09835108567029238, Test Loss: 0.07888757035136224\n",
      "Epoch 36, Train Loss: 0.09482224952429533, Test Loss: 0.07926505535840989\n",
      "Epoch 37, Train Loss: 0.0997423480451107, Test Loss: 0.07861176311969757\n",
      "Epoch 38, Train Loss: 0.09709394797682762, Test Loss: 0.08287783846259117\n",
      "Epoch 39, Train Loss: 0.09593339335173369, Test Loss: 0.07760490700602532\n",
      "Epoch 40, Train Loss: 0.09125404570251704, Test Loss: 0.07771622791886329\n",
      "Epoch 41, Train Loss: 0.09549931254237891, Test Loss: 0.0776193080842495\n",
      "Epoch 42, Train Loss: 0.09487199902534485, Test Loss: 0.07753471568226815\n",
      "Epoch 43, Train Loss: 0.09744291570037604, Test Loss: 0.08063440158963203\n",
      "Epoch 44, Train Loss: 0.09261138740926982, Test Loss: 0.07803982257843017\n",
      "Epoch 45, Train Loss: 0.09814437076449395, Test Loss: 0.0816848061978817\n",
      "Epoch 46, Train Loss: 0.09535135511308908, Test Loss: 0.0783980618417263\n",
      "Epoch 47, Train Loss: 0.09246880620718002, Test Loss: 0.07748359188437462\n",
      "Epoch 48, Train Loss: 0.09317467730492353, Test Loss: 0.07703496292233467\n",
      "Epoch 49, Train Loss: 0.092339568734169, Test Loss: 0.07712708130478858\n",
      "Epoch 50, Train Loss: 0.08654958214610815, Test Loss: 0.0772789977490902\n"
     ]
    }
   ],
   "source": [
    "#\n",
    "class ANESDataset(Dataset):\n",
    "    '''Formats the dataset for the neural network'''\n",
    "    def __init__(self, X, y):\n",
    "        self.X = torch.tensor(X.values, dtype=torch.float32)\n",
    "        self.y = torch.tensor(y.values, dtype=torch.float32).reshape(-1, 1)\n",
    "\n",
    "    def __len__(self):\n",
    "        return len(self.X)\n",
    "\n",
    "    def __getitem__(self, idx):\n",
    "        return self.X[idx], self.y[idx]\n",
    "\n",
    "class ANESNet(nn.Module):\n",
    "    '''Creates a neural network model with 3 hidden layers'''\n",
    "    def __init__(self, input_dim, hidden_dim, output_dim):\n",
    "        super(ANESNet, self).__init__()\n",
    "        self.fc1 = nn.Linear(input_dim, hidden_dim)\n",
    "        self.bn1 = nn.BatchNorm1d(hidden_dim)\n",
    "        self.fc2 = nn.Linear(hidden_dim, hidden_dim)\n",
    "        self.bn2 = nn.BatchNorm1d(hidden_dim)\n",
    "        self.fc3 = nn.Linear(hidden_dim, hidden_dim)\n",
    "        self.bn3 = nn.BatchNorm1d(hidden_dim)\n",
    "        self.fc4 = nn.Linear(hidden_dim, output_dim)\n",
    "        self.relu = nn.ReLU()\n",
    "        self.dropout = nn.Dropout(0.5)\n",
    "\n",
    "    def forward(self, x):\n",
    "        x = self.relu(self.bn1(self.fc1(x)))\n",
    "        x = self.dropout(x)\n",
    "        x = self.relu(self.bn2(self.fc2(x)))\n",
    "        x = self.dropout(x)\n",
    "        x = self.relu(self.bn3(self.fc3(x)))\n",
    "        x = self.dropout(x)\n",
    "        x = self.fc4(x)\n",
    "        return x\n",
    "\n",
    "input_dim = X_pocket_cov_train.shape[1]\n",
    "hidden_dim = 100\n",
    "output_dim = 1\n",
    "\n",
    "\n",
    "\n",
    "def train_model(X_train_model, y_train_model, X_test_model, y_test_model, input_dim, hidden_dim, output_dim, n_epochs=50):\n",
    "    '''Creates and trains a neural network model given the data, the input and output dimensions, and the number of epochs'''\n",
    "    anes_net = ANESNet(input_dim, hidden_dim, output_dim)\n",
    "\n",
    "    criterion = nn.MSELoss()\n",
    "    optimizer = optim.Adam(anes_net.parameters(), lr=0.001)\n",
    "\n",
    "    anes_train = ANESDataset(X_train_model, y_train_model)\n",
    "    anes_test = ANESDataset(X_test_model, y_test_model)\n",
    "\n",
    "    train_loader = DataLoader(anes_train, batch_size=64, shuffle=True)\n",
    "    test_loader = DataLoader(anes_test, batch_size=64, shuffle=False)\n",
    "\n",
    "\n",
    "    train_losses = []\n",
    "    test_losses = []\n",
    "    for epoch in range(n_epochs):\n",
    "        anes_net.train()\n",
    "        train_loss = 0\n",
    "        for X_batch, y_batch in train_loader:\n",
    "            optimizer.zero_grad()\n",
    "            output = anes_net(X_batch)\n",
    "            loss = criterion(output, y_batch)\n",
    "            loss.backward()\n",
    "            optimizer.step()\n",
    "            train_loss += loss.item()\n",
    "        train_losses.append(train_loss / len(train_loader))\n",
    "\n",
    "        anes_net.eval()\n",
    "        test_loss = 0\n",
    "        with torch.no_grad():\n",
    "            for X_batch, y_batch in test_loader:\n",
    "                output = anes_net(X_batch)\n",
    "                loss = criterion(output, y_batch)\n",
    "                test_loss += loss.item()\n",
    "            print(f'Epoch {epoch + 1}, Train Loss: {train_losses[-1]}, Test Loss: {test_loss / len(test_loader)}')\n",
    "            test_losses.append(test_loss / len(test_loader))\n",
    "    return anes_net, test_loader\n",
    "\n",
    "\n",
    "# Train the pocket eval model\n",
    "input_dim = X_pocket_cov_train.shape[1]\n",
    "anes_net_pocket, anes_loader = train_model(X_pocket_cov_train, y_train_pocket, X_pocket_cov_test, y_test_pocket, input_dim, hidden_dim, output_dim)"
   ]
  },
  {
   "cell_type": "code",
   "execution_count": 98,
   "metadata": {},
   "outputs": [
    {
     "data": {
      "image/png": "[encoded data removed]",
      "text/plain": [
       "<Figure size 640x480 with 1 Axes>"
      ]
     },
     "metadata": {},
     "output_type": "display_data"
    },
    {
     "name": "stdout",
     "output_type": "stream",
     "text": [
      "R^2 value for pocketEval model: 0.881340901540358\n",
      "MSE for pocketEval model: 0.07727899608426889\n"
     ]
    }
   ],
   "source": [
    "# Show the predictions and mean squared error\n",
    "anes_net_pocket.eval()\n",
    "pocket_predictions = []\n",
    "with torch.no_grad():\n",
    "    for X_batch, y_batch in anes_loader:\n",
    "        output = anes_net_pocket(X_batch)\n",
    "        pocket_predictions.extend(output.numpy().flatten())\n",
    "\n",
    "# plot the predictions vs. true values\n",
    "plt.scatter(y_test_pocket, pocket_predictions)\n",
    "plt.xlabel('True Values')\n",
    "plt.ylabel('Predictions')\n",
    "plt.title('PocketEval Predictions vs. True Values')\n",
    "plt.show()\n",
    "y_test_pocket_graph = np.array(y_test_pocket)\n",
    "pocket_predictions = np.array(pocket_predictions).reshape(-1, 1)\n",
    "print('R^2 value for pocketEval model:', r2_score(y_test_pocket_graph, pocket_predictions))\n",
    "print('MSE for pocketEval model:', np.mean((y_test_pocket_graph - pocket_predictions) ** 2))"
   ]
  },
  {
   "cell_type": "code",
   "execution_count": 99,
   "metadata": {},
   "outputs": [
    {
     "name": "stdout",
     "output_type": "stream",
     "text": [
      "Epoch 1, Train Loss: 0.3849448277056217, Test Loss: 0.1008381462097168\n",
      "Epoch 2, Train Loss: 0.1898269545286894, Test Loss: 0.08746827781200409\n",
      "Epoch 3, Train Loss: 0.14432914435863495, Test Loss: 0.08701423808932304\n",
      "Epoch 4, Train Loss: 0.13413152039051057, Test Loss: 0.08937623053789139\n",
      "Epoch 5, Train Loss: 0.12852402195334434, Test Loss: 0.08691994637250901\n",
      "Epoch 6, Train Loss: 0.12415719255805016, Test Loss: 0.08653881683945656\n",
      "Epoch 7, Train Loss: 0.12030641660094261, Test Loss: 0.08386558905243874\n",
      "Epoch 8, Train Loss: 0.11481926444917917, Test Loss: 0.08507157400250435\n",
      "Epoch 9, Train Loss: 0.11644685696810483, Test Loss: 0.08290052443742751\n",
      "Epoch 10, Train Loss: 0.11423983465880155, Test Loss: 0.08338205337524414\n",
      "Epoch 11, Train Loss: 0.11202732931822539, Test Loss: 0.08547543987631798\n",
      "Epoch 12, Train Loss: 0.11443056460469961, Test Loss: 0.08340145647525787\n",
      "Epoch 13, Train Loss: 0.11063657522201538, Test Loss: 0.08605935618281364\n",
      "Epoch 14, Train Loss: 0.10596626449376345, Test Loss: 0.08194518476724624\n",
      "Epoch 15, Train Loss: 0.10910530578345061, Test Loss: 0.08108578011393547\n",
      "Epoch 16, Train Loss: 0.11421996288001537, Test Loss: 0.08244924157857896\n",
      "Epoch 17, Train Loss: 0.10695870958268643, Test Loss: 0.08193825766444206\n",
      "Epoch 18, Train Loss: 0.10603440780192613, Test Loss: 0.0819738657772541\n",
      "Epoch 19, Train Loss: 0.10294810075312853, Test Loss: 0.0810772405564785\n",
      "Epoch 20, Train Loss: 0.10504343315958976, Test Loss: 0.08099738895893097\n",
      "Epoch 21, Train Loss: 0.10378321036696433, Test Loss: 0.08230509579181672\n",
      "Epoch 22, Train Loss: 0.10329390406608581, Test Loss: 0.08267436504364013\n",
      "Epoch 23, Train Loss: 0.10614746894687414, Test Loss: 0.08261053666472434\n",
      "Epoch 24, Train Loss: 0.10326947163790465, Test Loss: 0.08144736185669899\n",
      "Epoch 25, Train Loss: 0.09994668267667293, Test Loss: 0.08174159571528435\n",
      "Epoch 26, Train Loss: 0.10233508162200451, Test Loss: 0.08133860662579537\n",
      "Epoch 27, Train Loss: 0.10415617227554322, Test Loss: 0.08400914579629898\n",
      "Epoch 28, Train Loss: 0.10005437348037959, Test Loss: 0.08081181481480598\n",
      "Epoch 29, Train Loss: 0.09810081604868173, Test Loss: 0.08109014451503754\n",
      "Epoch 30, Train Loss: 0.09880620922893285, Test Loss: 0.08024346306920052\n",
      "Epoch 31, Train Loss: 0.09765452966094017, Test Loss: 0.08152366295456887\n",
      "Epoch 32, Train Loss: 0.09783044002950192, Test Loss: 0.08400339245796204\n",
      "Epoch 33, Train Loss: 0.09657542802393436, Test Loss: 0.09107084780931472\n",
      "Epoch 34, Train Loss: 0.09644440222531557, Test Loss: 0.08183427050709724\n",
      "Epoch 35, Train Loss: 0.09958124790340663, Test Loss: 0.08146486461162566\n",
      "Epoch 36, Train Loss: 0.10013373546302319, Test Loss: 0.08255505353212357\n",
      "Epoch 37, Train Loss: 0.09274513840675354, Test Loss: 0.08482727110385894\n",
      "Epoch 38, Train Loss: 0.09768605940043926, Test Loss: 0.08146355956792832\n",
      "Epoch 39, Train Loss: 0.09697087053209544, Test Loss: 0.08169816955924034\n",
      "Epoch 40, Train Loss: 0.09151468079537153, Test Loss: 0.08286953404545784\n",
      "Epoch 41, Train Loss: 0.09592737298458814, Test Loss: 0.08062391117215156\n",
      "Epoch 42, Train Loss: 0.09586613219231367, Test Loss: 0.08049615785479546\n",
      "Epoch 43, Train Loss: 0.09071090709418059, Test Loss: 0.08340219348669052\n",
      "Epoch 44, Train Loss: 0.09813539121299981, Test Loss: 0.0804548305273056\n",
      "Epoch 45, Train Loss: 0.09898114707320929, Test Loss: 0.08054560512304305\n",
      "Epoch 46, Train Loss: 0.0948508470878005, Test Loss: 0.08012127667665482\n",
      "Epoch 47, Train Loss: 0.09334768764674664, Test Loss: 0.08028201878070831\n",
      "Epoch 48, Train Loss: 0.0943622986599803, Test Loss: 0.08007770195603371\n",
      "Epoch 49, Train Loss: 0.09114660803228616, Test Loss: 0.08092344850301743\n",
      "Epoch 50, Train Loss: 0.09450265612453222, Test Loss: 0.0832995294034481\n"
     ]
    }
   ],
   "source": [
    "# train a neural network on econEval model\n",
    "input_dim = X_econ_cov_train.shape[1]\n",
    "anes_net_econ, anes_loader = train_model(X_econ_cov_train, y_train_econ, X_econ_cov_test, y_test_econ, input_dim, hidden_dim, output_dim)"
   ]
  },
  {
   "cell_type": "code",
   "execution_count": 100,
   "metadata": {},
   "outputs": [
    {
     "data": {
      "image/png": "[encoded data removed]",
      "text/plain": [
       "<Figure size 640x480 with 1 Axes>"
      ]
     },
     "metadata": {},
     "output_type": "display_data"
    }
   ],
   "source": [
    "# Show the predictions and mean squared error for the econEval model\n",
    "anes_net_econ.eval()\n",
    "econ_predictions = []\n",
    "with torch.no_grad():\n",
    "    for X_batch, y_batch in anes_loader:\n",
    "        output = anes_net_econ(X_batch)\n",
    "        econ_predictions.extend(output.numpy().flatten())\n",
    "\n",
    "# plot the predictions vs. true values\n",
    "plt.scatter(y_test_econ, econ_predictions)\n",
    "plt.xlabel('True Values')\n",
    "plt.ylabel('Predictions')\n",
    "plt.title('EconEval Predictions vs. True Values')\n",
    "plt.show()\n",
    "\n",
    "y_test_econ = np.array(y_test_econ)\n",
    "econ_predictions = np.array(econ_predictions).reshape(-1, 1)\n"
   ]
  },
  {
   "cell_type": "code",
   "execution_count": 101,
   "metadata": {},
   "outputs": [
    {
     "name": "stdout",
     "output_type": "stream",
     "text": [
      "Epoch 1, Train Loss: 0.38424277529120443, Test Loss: 0.10405176728963852\n",
      "Epoch 2, Train Loss: 0.20211494997143745, Test Loss: 0.08952540948987008\n",
      "Epoch 3, Train Loss: 0.15226918317377566, Test Loss: 0.08589883476495742\n",
      "Epoch 4, Train Loss: 0.13918150253593922, Test Loss: 0.08504931956529617\n",
      "Epoch 5, Train Loss: 0.13349108070135116, Test Loss: 0.0840979640185833\n",
      "Epoch 6, Train Loss: 0.12858392141759395, Test Loss: 0.08479026928544045\n",
      "Epoch 7, Train Loss: 0.12748956434428693, Test Loss: 0.08491209149360657\n",
      "Epoch 8, Train Loss: 0.12153553858399391, Test Loss: 0.08391253277659416\n",
      "Epoch 9, Train Loss: 0.1178772858902812, Test Loss: 0.08535862922668457\n",
      "Epoch 10, Train Loss: 0.11691631138324737, Test Loss: 0.08487013190984725\n",
      "Epoch 11, Train Loss: 0.11313014168292285, Test Loss: 0.08473162949085236\n",
      "Epoch 12, Train Loss: 0.11199137102812529, Test Loss: 0.0845879690349102\n",
      "Epoch 13, Train Loss: 0.1156685384362936, Test Loss: 0.08186738893389701\n",
      "Epoch 14, Train Loss: 0.11089970458298921, Test Loss: 0.08358664602041245\n",
      "Epoch 15, Train Loss: 0.11397379886358977, Test Loss: 0.08354556262493133\n",
      "Epoch 16, Train Loss: 0.11150051590055227, Test Loss: 0.08361954391002654\n",
      "Epoch 17, Train Loss: 0.10766750544309617, Test Loss: 0.08616956904530525\n",
      "Epoch 18, Train Loss: 0.10849519811570645, Test Loss: 0.0850521719455719\n",
      "Epoch 19, Train Loss: 0.11023867342621088, Test Loss: 0.08094731166958809\n",
      "Epoch 20, Train Loss: 0.10279005289077758, Test Loss: 0.08006270974874496\n",
      "Epoch 21, Train Loss: 0.10338834803551436, Test Loss: 0.07936925038695336\n",
      "Epoch 22, Train Loss: 0.10111514687538146, Test Loss: 0.081221424639225\n",
      "Epoch 23, Train Loss: 0.10277283132076263, Test Loss: 0.08134753331542015\n",
      "Epoch 24, Train Loss: 0.10260358419269323, Test Loss: 0.07939213111996651\n",
      "Epoch 25, Train Loss: 0.10282811585813761, Test Loss: 0.07914452254772186\n",
      "Epoch 26, Train Loss: 0.1008316246047616, Test Loss: 0.07923702910542488\n",
      "Epoch 27, Train Loss: 0.10959541846066713, Test Loss: 0.07969867989420891\n",
      "Epoch 28, Train Loss: 0.10123908802866936, Test Loss: 0.08136522009968758\n",
      "Epoch 29, Train Loss: 0.10120397415012121, Test Loss: 0.07895093694329262\n",
      "Epoch 30, Train Loss: 0.09842952534556389, Test Loss: 0.07855253174901008\n",
      "Epoch 31, Train Loss: 0.10238904751837254, Test Loss: 0.07933322578668595\n",
      "Epoch 32, Train Loss: 0.099442515745759, Test Loss: 0.08315769568085671\n",
      "Epoch 33, Train Loss: 0.10084557767957449, Test Loss: 0.07864758297801018\n",
      "Epoch 34, Train Loss: 0.0986236773058772, Test Loss: 0.07818616330623626\n",
      "Epoch 35, Train Loss: 0.1009395195171237, Test Loss: 0.07790368124842643\n",
      "Epoch 36, Train Loss: 0.09536292336881161, Test Loss: 0.07918037071824074\n",
      "Epoch 37, Train Loss: 0.09437395542860032, Test Loss: 0.07838756531476974\n",
      "Epoch 38, Train Loss: 0.09712197072803974, Test Loss: 0.07740241825580597\n",
      "Epoch 39, Train Loss: 0.09342858895659446, Test Loss: 0.08047562643885613\n",
      "Epoch 40, Train Loss: 0.09390724692493677, Test Loss: 0.07862936571240425\n",
      "Epoch 41, Train Loss: 0.09622129879891872, Test Loss: 0.07820717230439186\n",
      "Epoch 42, Train Loss: 0.09417504485696554, Test Loss: 0.078707335293293\n",
      "Epoch 43, Train Loss: 0.09887484576553106, Test Loss: 0.0776672799885273\n",
      "Epoch 44, Train Loss: 0.09268459219485521, Test Loss: 0.07769227519631386\n",
      "Epoch 45, Train Loss: 0.08958854969590903, Test Loss: 0.07791350796818733\n",
      "Epoch 46, Train Loss: 0.0933678125590086, Test Loss: 0.08473677456378936\n",
      "Epoch 47, Train Loss: 0.09698842711746693, Test Loss: 0.07834802448749542\n",
      "Epoch 48, Train Loss: 0.09148903213441371, Test Loss: 0.08044173374772072\n",
      "Epoch 49, Train Loss: 0.0944735474511981, Test Loss: 0.07833429783582688\n",
      "Epoch 50, Train Loss: 0.09255189966410399, Test Loss: 0.08022675052285194\n"
     ]
    }
   ],
   "source": [
    "#train a neural network on model without pocketEval and econEval\n",
    "X_without_train = X_pocket_cov_train.drop(columns=['pocketEval'])\n",
    "input_dim = X_without_train.shape[1]\n",
    "X_without_test = X_pocket_cov_test.drop(columns=['pocketEval'])\n",
    "anes_net_without, anes_loader = train_model(X_without_train, y_train_pocket, X_without_test, y_test_pocket, input_dim, hidden_dim, output_dim)"
   ]
  },
  {
   "cell_type": "code",
   "execution_count": 102,
   "metadata": {},
   "outputs": [
    {
     "data": {
      "image/png": "[encoded data removed]",
      "text/plain": [
       "<Figure size 640x480 with 1 Axes>"
      ]
     },
     "metadata": {},
     "output_type": "display_data"
    },
    {
     "name": "stdout",
     "output_type": "stream",
     "text": [
      "R^2 value for normal model: 0.8768147304382031\n",
      "MSE for normal model: 0.08022675115253389\n"
     ]
    }
   ],
   "source": [
    "# Show the predictions and mean squared error for the model without pocketEval and econEval\n",
    "anes_net_without.eval()\n",
    "econ_predictions = []\n",
    "with torch.no_grad():\n",
    "    for X_batch, y_batch in anes_loader:\n",
    "        output = anes_net_without(X_batch)\n",
    "        econ_predictions.extend(output.numpy().flatten())\n",
    "\n",
    "# plot the predictions vs. true values\n",
    "plt.scatter(y_test_econ, econ_predictions)\n",
    "plt.xlabel('True Values')\n",
    "plt.ylabel('Predictions')\n",
    "plt.title('EconEval Predictions vs. True Values')\n",
    "plt.show()\n",
    "\n",
    "y_test_graph = np.array(y_test_econ)\n",
    "econ_predictions = np.array(econ_predictions).reshape(-1, 1)\n",
    "print('R^2 value for normal model:', r2_score(y_test_graph, econ_predictions))\n",
    "print('MSE for normal model:', np.mean((y_test_graph - econ_predictions) ** 2))"
   ]
  },
  {
   "cell_type": "markdown",
   "metadata": {},
   "source": [
    "## Random Forest"
   ]
  },
  {
   "cell_type": "code",
   "execution_count": 103,
   "metadata": {},
   "outputs": [
    {
     "name": "stdout",
     "output_type": "stream",
     "text": [
      "Random Forest accuracy on pocketEval model: 0.8851968120802028\n"
     ]
    }
   ],
   "source": [
    "# run a Random Forest on pocketEval test data and covariates\n",
    "rf_pocket = RandomForestRegressor(n_estimators=500, random_state=25)\n",
    "y_train_pocket = y_train_pocket.values.ravel()\n",
    "rf_pocket.fit(X_pocket_cov_train, y_train_pocket)\n",
    "\n",
    "feature_importance_pocket = pd.DataFrame({\n",
    "    \"Feature\": X_pocket_cov.columns,\n",
    "    \"Importance\": rf_pocket.feature_importances_\n",
    "}).sort_values(by=\"Importance\", ascending=False)\n",
    "feature_importance_pocket.head(10)\n",
    "\n",
    "# get random forest prediction accuracy on pocket test\n",
    "rf_pocket.score(X_pocket_cov_test, y_test_pocket)\n",
    "print('Random Forest accuracy on pocketEval model:', rf_pocket.score(X_pocket_cov_test, y_test_pocket))"
   ]
  },
  {
   "cell_type": "code",
   "execution_count": 104,
   "metadata": {},
   "outputs": [
    {
     "name": "stdout",
     "output_type": "stream",
     "text": [
      "Random Forest accuracy on econEval model: 0.8853996721513752\n"
     ]
    }
   ],
   "source": [
    "# run a Random Forest on econEval and covariates\n",
    "rf_econ = RandomForestRegressor(n_estimators=500, random_state=25)\n",
    "y_train_econ = y_train_econ.values.ravel()\n",
    "rf_econ.fit(X_econ_cov_train, y_train_econ)\n",
    "\n",
    "feature_importance_econ = pd.DataFrame({\n",
    "    \"Feature\": X_econ_cov.columns,\n",
    "    \"Importance\": rf_econ.feature_importances_\n",
    "}).sort_values(by=\"Importance\", ascending=False)\n",
    "feature_importance_econ.head(10)\n",
    "\n",
    "# get random forest prediction accuracy on econ test\n",
    "rf_econ.score(X_econ_cov_test, y_test_econ)\n",
    "print('Random Forest accuracy on econEval model:', rf_econ.score(X_econ_cov_test, y_test_econ))"
   ]
  }
 ],
 "metadata": {
  "kernelspec": {
   "display_name": "Python 3",
   "language": "python",
   "name": "python3"
  },
  "language_info": {
   "codemirror_mode": {
    "name": "ipython",
    "version": 3
   },
   "file_extension": ".py",
   "mimetype": "text/x-python",
   "name": "python",
   "nbconvert_exporter": "python",
   "pygments_lexer": "ipython3",
   "version": "3.11.4"
  }
 },
 "nbformat": 4,
 "nbformat_minor": 2
}
