{
 "cells": [
  {
   "cell_type": "markdown",
   "metadata": {},
   "source": [
    "# ECMA 31330 Final Project\n",
    "### Abby Beckler, Miles Brown"
   ]
  },
  {
   "cell_type": "code",
   "execution_count": 128,
   "metadata": {},
   "outputs": [],
   "source": [
    "# imports\n",
    "import os\n",
    "os.environ[\"KMP_DUPLICATE_LIB_OK\"] = \"TRUE\"\n",
    "import numpy as np\n",
    "import matplotlib.pyplot as plt\n",
    "import pandas as pd\n",
    "import statsmodels.api as sm\n",
    "import torch\n",
    "import torch.nn as nn\n",
    "import torch.optim as optim\n",
    "from torch.utils.data import DataLoader, Dataset\n",
    "from sklearn.impute import KNNImputer\n",
    "from sklearn.linear_model import Lasso, LassoCV\n",
    "from sklearn.ensemble import RandomForestRegressor\n",
    "from sklearn.preprocessing import StandardScaler, MinMaxScaler\n",
    "from sklearn.model_selection import train_test_split"
   ]
  },
  {
   "cell_type": "markdown",
   "metadata": {},
   "source": [
    "## Load Data + Use KNN to Impute Missing Values"
   ]
  },
  {
   "cell_type": "code",
   "execution_count": 129,
   "metadata": {},
   "outputs": [],
   "source": [
    "# set seed to ensure reproducibility\n",
    "np.random.seed(25)\n",
    "\n",
    "# load the data\n",
    "ANES = pd.read_csv('data/ANES.csv')\n",
    "\n",
    "# remove rows with missing 'pocket', 'retro', and 'trumpft' values\n",
    "ANES = ANES.dropna(subset=['pocket', 'retro', 'trumpft'])\n",
    "\n",
    "# impute using k-nearest neighbors imputer\n",
    "imputer = KNNImputer(n_neighbors=5)\n",
    "ANES = pd.DataFrame(imputer.fit_transform(ANES), columns=ANES.columns)\n",
    "\n",
    "# add relevant columns 'pocketEval' and 'econEval'\n",
    "ANES['pocketEval'] = (ANES['pocket'] - 3) * (-1/2)\n",
    "ANES['econEval'] = (ANES['retro'] - 3) * (-1/2)"
   ]
  },
  {
   "cell_type": "markdown",
   "metadata": {},
   "source": [
    "## Perform Initial OLS Regressions (same as K&K)"
   ]
  },
  {
   "cell_type": "code",
   "execution_count": 130,
   "metadata": {},
   "outputs": [
    {
     "name": "stdout",
     "output_type": "stream",
     "text": [
      "                            OLS Regression Results                            \n",
      "==============================================================================\n",
      "Dep. Variable:                trumpft   R-squared:                       0.327\n",
      "Model:                            OLS   Adj. R-squared:                  0.326\n",
      "Method:                 Least Squares   F-statistic:                     1939.\n",
      "Date:                Fri, 14 Mar 2025   Prob (F-statistic):               0.00\n",
      "Time:                        11:50:17   Log-Likelihood:                -39332.\n",
      "No. Observations:                7998   AIC:                         7.867e+04\n",
      "Df Residuals:                    7995   BIC:                         7.869e+04\n",
      "Df Model:                           2                                         \n",
      "Covariance Type:            nonrobust                                         \n",
      "==============================================================================\n",
      "                 coef    std err          t      P>|t|      [0.025      0.975]\n",
      "------------------------------------------------------------------------------\n",
      "const         52.5503      0.426    123.293      0.000      51.715      53.386\n",
      "pocketEval     5.3749      0.781      6.880      0.000       3.844       6.906\n",
      "econEval      33.8847      0.577     58.678      0.000      32.753      35.017\n",
      "==============================================================================\n",
      "Omnibus:                      283.666   Durbin-Watson:                   1.980\n",
      "Prob(Omnibus):                  0.000   Jarque-Bera (JB):              274.702\n",
      "Skew:                           0.413   Prob(JB):                     2.23e-60\n",
      "Kurtosis:                       2.621   Cond. No.                         2.41\n",
      "==============================================================================\n",
      "\n",
      "Notes:\n",
      "[1] Standard Errors assume that the covariance matrix of the errors is correctly specified.\n"
     ]
    }
   ],
   "source": [
    "# isolate the independent and dependent variables\n",
    "X_pocket = ANES[['pocketEval']]\n",
    "X_econ = ANES[['econEval']]\n",
    "X_ols = ANES[['pocketEval', 'econEval']]\n",
    "y = ANES['trumpft']\n",
    "\n",
    "# run the OLS regression for the pocket and econ evaluations\n",
    "X_ols = sm.add_constant(X_ols)\n",
    "model_ols = sm.OLS(y, X_ols).fit()\n",
    "print(model_ols.summary())\n",
    "\n",
    "# export the results to a .tex file\n",
    "with open('outputs/ols_results.tex', 'w') as tf:\n",
    "    tf.write(model_ols.summary().as_latex())\n"
   ]
  },
  {
   "cell_type": "markdown",
   "metadata": {},
   "source": [
    "## More Complex OLS Regressions (+ Covariates)"
   ]
  },
  {
   "cell_type": "code",
   "execution_count": 131,
   "metadata": {},
   "outputs": [
    {
     "name": "stdout",
     "output_type": "stream",
     "text": [
      "                            OLS Regression Results                            \n",
      "==============================================================================\n",
      "Dep. Variable:                trumpft   R-squared:                       0.874\n",
      "Model:                            OLS   Adj. R-squared:                  0.874\n",
      "Method:                 Least Squares   F-statistic:                     1153.\n",
      "Date:                Fri, 14 Mar 2025   Prob (F-statistic):               0.00\n",
      "Time:                        11:50:17   Log-Likelihood:                -32617.\n",
      "No. Observations:                7998   AIC:                         6.533e+04\n",
      "Df Residuals:                    7949   BIC:                         6.567e+04\n",
      "Df Model:                          48                                         \n",
      "Covariance Type:            nonrobust                                         \n",
      "========================================================================================\n",
      "                           coef    std err          t      P>|t|      [0.025      0.975]\n",
      "----------------------------------------------------------------------------------------\n",
      "const                   35.5316      2.232     15.919      0.000      31.156      39.907\n",
      "pocketEval               0.3642      0.356      1.022      0.307      -0.334       1.062\n",
      "econEval                43.4219      2.681     16.196      0.000      38.166      48.678\n",
      "mode                    -0.4723      0.381     -1.241      0.215      -1.218       0.274\n",
      "prepost                  0.8758      0.643      1.361      0.174      -0.386       2.137\n",
      "sp_serv                 -0.1628      0.136     -1.193      0.233      -0.430       0.105\n",
      "sp_serv_biden           -0.7088      0.114     -6.243      0.000      -0.931      -0.486\n",
      "sp_serv_trump            0.6436      0.112      5.743      0.000       0.424       0.863\n",
      "jobs_living              0.1109      0.123      0.900      0.368      -0.131       0.353\n",
      "jobs_living_biden       -0.2042      0.126     -1.621      0.105      -0.451       0.043\n",
      "jobs_living_trump       -0.1953      0.129     -1.514      0.130      -0.448       0.058\n",
      "envir_business           1.3809      0.128     10.811      0.000       1.130       1.631\n",
      "envir_business_biden    -0.2280      0.129     -1.774      0.076      -0.480       0.024\n",
      "envir_business_trump    -0.7760      0.130     -5.971      0.000      -1.031      -0.521\n",
      "abortion                -0.6234      0.188     -3.314      0.001      -0.992      -0.255\n",
      "abortion_salience        0.1242      0.132      0.944      0.345      -0.134       0.382\n",
      "abortion_biden          -0.7885      0.205     -3.843      0.000      -1.191      -0.386\n",
      "abortion_trump           0.4399      0.193      2.281      0.023       0.062       0.818\n",
      "bible                   -0.6253      0.322     -1.939      0.053      -1.257       0.007\n",
      "adjust_change           -0.1111      0.145     -0.764      0.445      -0.396       0.174\n",
      "family_ties             -0.0995      0.088     -1.127      0.260      -0.273       0.074\n",
      "covid_approval          -9.8876      0.248    -39.897      0.000     -10.373      -9.402\n",
      "covid_response_speed    -1.0427      0.236     -4.416      0.000      -1.506      -0.580\n",
      "mail_in_attitude         0.6811      0.101      6.721      0.000       0.482       0.880\n",
      "police_treat             1.3278      0.171      7.777      0.000       0.993       1.662\n",
      "repro                   19.7508      1.341     14.731      0.000      17.123      22.379\n",
      "turnout                 -4.6926      1.610     -2.915      0.004      -7.848      -1.537\n",
      "mail_in                 -0.5477      0.225     -2.438      0.015      -0.988      -0.107\n",
      "stateFIPS               -0.0114      0.010     -1.120      0.263      -0.031       0.009\n",
      "attention_poli          -0.5025      0.176     -2.862      0.004      -0.847      -0.158\n",
      "age                     -0.0369      0.012     -3.147      0.002      -0.060      -0.014\n",
      "marital                 -0.0693      0.095     -0.728      0.467      -0.256       0.117\n",
      "educ                    -0.4157      0.282     -1.477      0.140      -0.968       0.136\n",
      "educ5                    0.9405      0.519      1.811      0.070      -0.078       1.959\n",
      "race                     0.1217      0.136      0.893      0.372      -0.145       0.389\n",
      "gender                   0.6101      0.349      1.746      0.081      -0.075       1.295\n",
      "income                  -0.0361      0.030     -1.214      0.225      -0.094       0.022\n",
      "ideology                 2.4434      0.173     14.115      0.000       2.104       2.783\n",
      "religion                 0.3251      0.154      2.112      0.035       0.023       0.627\n",
      "union                   -0.4667      0.474     -0.984      0.325      -1.397       0.463\n",
      "trans                   -0.1062      0.111     -0.960      0.337      -0.323       0.111\n",
      "immigration             -9.6936      0.235    -41.198      0.000     -10.155      -9.232\n",
      "gun_diff                 1.6220      0.214      7.566      0.000       1.202       2.042\n",
      "offensive_language       0.6154      0.185      3.331      0.001       0.253       0.978\n",
      "harassment              -0.1704      0.221     -0.770      0.441      -0.604       0.263\n",
      "no_children             -0.3251      0.438     -0.742      0.458      -1.184       0.534\n",
      "arrested                -0.8247      0.443     -1.862      0.063      -1.693       0.043\n",
      "feminist                 0.3310      0.239      1.384      0.166      -0.138       0.800\n",
      "flag                    -1.0303      0.380     -2.710      0.007      -1.775      -0.285\n",
      "shark                    1.7255      2.270      0.760      0.447      -2.725       6.176\n",
      "family_importance       -0.0995      0.088     -1.127      0.260      -0.273       0.074\n",
      "==============================================================================\n",
      "Omnibus:                      605.120   Durbin-Watson:                   1.989\n",
      "Prob(Omnibus):                  0.000   Jarque-Bera (JB):             3091.112\n",
      "Skew:                           0.155   Prob(JB):                         0.00\n",
      "Kurtosis:                       6.030   Cond. No.                     1.03e+16\n",
      "==============================================================================\n",
      "\n",
      "Notes:\n",
      "[1] Standard Errors assume that the covariance matrix of the errors is correctly specified.\n",
      "[2] The smallest eigenvalue is 3.21e-25. This might indicate that there are\n",
      "strong multicollinearity problems or that the design matrix is singular.\n"
     ]
    }
   ],
   "source": [
    "# create list of covariate columns\n",
    "covariates = ANES.columns.tolist()\n",
    "removed = ['trumpft', 'trumpft_post', 'pocket', 'retro', 'pocketEval', 'econEval', 'votepres',\n",
    "           'bidenft', 'bidenft_post', 'pid_lean', 'pid_strong', 'pid3', 'pid7']\n",
    "for col in removed:\n",
    "    covariates.remove(col)\n",
    "\n",
    "# run the OLS regression for the simultaneous pocket and econ evaluations with covariates\n",
    "regression_cols = ['pocketEval', 'econEval'] + covariates\n",
    "X_ols_covs = ANES[regression_cols]\n",
    "X_ols_covs = sm.add_constant(X_ols_covs)\n",
    "model_ols_covs = sm.OLS(y, X_ols_covs).fit()\n",
    "print(model_ols_covs.summary())\n",
    "\n",
    "# export the results to a .tex file\n",
    "with open('outputs/ols_covs_results.tex', 'w') as tf:\n",
    "    tf.write(model_ols_covs.summary().as_latex())"
   ]
  },
  {
   "cell_type": "markdown",
   "metadata": {},
   "source": [
    "## Train/Test Split"
   ]
  },
  {
   "cell_type": "code",
   "execution_count": null,
   "metadata": {},
   "outputs": [
    {
     "name": "stdout",
     "output_type": "stream",
     "text": [
      "   const  pocketEval  mode  prepost   sp_serv  sp_serv_biden  sp_serv_trump  \\\n",
      "0   -1.0         1.0   1.0      1.0  0.066667       1.000000       0.000000   \n",
      "1   -1.0        -1.0   1.0     -1.0  0.600000       1.000000      -1.000000   \n",
      "2   -1.0         0.0   1.0      1.0 -0.333333       1.000000      -0.666667   \n",
      "3   -1.0         0.5   1.0      1.0  1.000000      -0.333333      -1.000000   \n",
      "4   -1.0         1.0   1.0      1.0  0.333333       0.000000      -0.666667   \n",
      "\n",
      "   jobs_living  jobs_living_biden  jobs_living_trump  ...  immigration  \\\n",
      "0     0.000000           0.000000           0.000000  ...    -1.000000   \n",
      "1     0.666667          -0.333333          -1.000000  ...     1.000000   \n",
      "2     0.000000          -1.000000           0.666667  ...     0.333333   \n",
      "3     0.000000           0.000000           1.000000  ...     1.000000   \n",
      "4    -0.666667           0.000000           0.666667  ...     1.000000   \n",
      "\n",
      "   gun_diff  offensive_language  harassment  no_children  arrested  feminist  \\\n",
      "0       1.0            1.000000         1.0          1.0       1.0       1.0   \n",
      "1      -0.2           -1.000000         0.6          0.6       0.6      -0.2   \n",
      "2      -1.0            1.000000        -1.0         -1.0      -1.0       1.0   \n",
      "3      -1.0           -0.333333         1.0          1.0       1.0       1.0   \n",
      "4      -1.0           -0.333333         0.0          1.0       1.0      -1.0   \n",
      "\n",
      "   flag  shark  family_importance  \n",
      "0  -1.0    1.0               -1.0  \n",
      "1   0.6    1.0                0.3  \n",
      "2   1.0    1.0                0.0  \n",
      "3   1.0    1.0                0.5  \n",
      "4   1.0    1.0                1.0  \n",
      "\n",
      "[5 rows x 50 columns]\n",
      "   const  econEval  mode  prepost   sp_serv  sp_serv_biden  sp_serv_trump  \\\n",
      "0   -1.0      -0.5   1.0      1.0  0.066667       1.000000       0.000000   \n",
      "1   -1.0      -1.0   1.0     -1.0  0.600000       1.000000      -1.000000   \n",
      "2   -1.0      -1.0   1.0      1.0 -0.333333       1.000000      -0.666667   \n",
      "3   -1.0      -1.0   1.0      1.0  1.000000      -0.333333      -1.000000   \n",
      "4   -1.0      -1.0   1.0      1.0  0.333333       0.000000      -0.666667   \n",
      "\n",
      "   jobs_living  jobs_living_biden  jobs_living_trump  ...  immigration  \\\n",
      "0     0.000000           0.000000           0.000000  ...    -1.000000   \n",
      "1     0.666667          -0.333333          -1.000000  ...     1.000000   \n",
      "2     0.000000          -1.000000           0.666667  ...     0.333333   \n",
      "3     0.000000           0.000000           1.000000  ...     1.000000   \n",
      "4    -0.666667           0.000000           0.666667  ...     1.000000   \n",
      "\n",
      "   gun_diff  offensive_language  harassment  no_children  arrested  feminist  \\\n",
      "0       1.0            1.000000         1.0          1.0       1.0       1.0   \n",
      "1      -0.2           -1.000000         0.6          0.6       0.6      -0.2   \n",
      "2      -1.0            1.000000        -1.0         -1.0      -1.0       1.0   \n",
      "3      -1.0           -0.333333         1.0          1.0       1.0       1.0   \n",
      "4      -1.0           -0.333333         0.0          1.0       1.0      -1.0   \n",
      "\n",
      "   flag  shark  family_importance  \n",
      "0  -1.0    1.0               -1.0  \n",
      "1   0.6    1.0                0.3  \n",
      "2   1.0    1.0                0.0  \n",
      "3   1.0    1.0                0.5  \n",
      "4   1.0    1.0                1.0  \n",
      "\n",
      "[5 rows x 50 columns]\n"
     ]
    }
   ],
   "source": [
    "# train test split the pocket and econ + covariate data\n",
    "X_pocket_cov_train, X_pocket_cov_test, y_train_pocket, y_test_pocket = train_test_split(X_pocket_cov, y, test_size=0.2, random_state=25)\n",
    "X_econ_cov_train, X_econ_cov_test, y_train_econ, y_test_econ = train_test_split(X_econ_cov, y, test_size=0.2, random_state=25)\n",
    "\n",
    "\n",
    "# standardize the data\n",
    "#scaler = StandardScaler()\n",
    "scaler = MinMaxScaler(feature_range=(-1, 1))\n",
    "X_pocket_cov_train = scaler.fit_transform(X_pocket_cov_train)\n",
    "X_pocket_cov_test = scaler.transform(X_pocket_cov_test)\n",
    "X_econ_cov_train = scaler.fit_transform(X_econ_cov_train)\n",
    "X_econ_cov_test = scaler.transform(X_econ_cov_test)\n",
    "\n",
    "X_pocket_cov_train = pd.DataFrame(X_pocket_cov_train, columns=X_pocket_cov.columns)\n",
    "X_pocket_cov_test = pd.DataFrame(X_pocket_cov_test, columns=X_pocket_cov.columns)\n",
    "X_econ_cov_train = pd.DataFrame(X_econ_cov_train, columns=X_econ_cov.columns)\n",
    "X_econ_cov_test = pd.DataFrame(X_econ_cov_test, columns=X_econ_cov.columns)\n",
    "\n",
    "print(X_pocket_cov_train.head())\n",
    "print(\"now econ\")\n",
    "print(X_econ_cov_train.head())\n",
    "#scaler_y = StandardScaler()\n",
    "scaler_y = MinMaxScaler(feature_range=(-1, 1))\n",
    "y_train_pocket = scaler_y.fit_transform(y_train_pocket.values.reshape(-1, 1))\n",
    "y_test_pocket = scaler_y.transform(y_test_pocket.values.reshape(-1, 1))\n",
    "y_train_econ = scaler_y.fit_transform(y_train_econ.values.reshape(-1, 1))\n",
    "y_test_econ = scaler_y.transform(y_test_econ.values.reshape(-1, 1))\n",
    "\n",
    "y_train_pocket = pd.DataFrame(y_train_pocket, columns=['trumpft'])\n",
    "y_test_pocket = pd.DataFrame(y_test_pocket, columns=['trumpft'])\n",
    "y_train_econ = pd.DataFrame(y_train_econ, columns=['trumpft'])\n",
    "y_test_econ = pd.DataFrame(y_test_econ, columns=['trumpft'])\n",
    "#'''\n"
   ]
  },
  {
   "cell_type": "markdown",
   "metadata": {},
   "source": [
    "## LASSO Regression"
   ]
  },
  {
   "cell_type": "code",
   "execution_count": 133,
   "metadata": {},
   "outputs": [
    {
     "name": "stdout",
     "output_type": "stream",
     "text": [
      "Test accuracy for pocketEval model: 0.7598249006326835\n",
      "Test accuracy for econEval model: 0.7598249749106758\n",
      "Selected features for pocketEval model:\n",
      "Index(['covid_approval', 'immigration'], dtype='object')\n",
      "Number of selected features: 2\n",
      "Selected features for econEval model:\n",
      "Index(['covid_approval', 'immigration'], dtype='object')\n",
      "Number of selected features: 2\n"
     ]
    }
   ],
   "source": [
    "\n",
    "# fit LASSO models\n",
    "lasso_pocket = Lasso(alpha=0.2, random_state=25)\n",
    "lasso_pocket.fit(X_pocket_cov_train, y_train_pocket)\n",
    "\n",
    "lasso_econ = Lasso(alpha=0.2, random_state=25)\n",
    "lasso_econ.fit(X_econ_cov_train, y_train_econ)\n",
    "\n",
    "# compute test accuracy for the models\n",
    "print('Test accuracy for pocketEval model:', lasso_pocket.score(X_pocket_cov_test, y_test_pocket))\n",
    "print('Test accuracy for econEval model:', lasso_econ.score(X_econ_cov_test, y_test_econ))\n",
    "\n",
    "# compare the selected features for the two models\n",
    "print('Selected features for pocketEval model:')\n",
    "print(X_pocket_cov.columns[lasso_pocket.coef_ != 0])\n",
    "print('Number of selected features:', sum(lasso_pocket.coef_ != 0))\n",
    "\n",
    "print('Selected features for econEval model:')\n",
    "print(X_econ_cov.columns[lasso_econ.coef_ != 0])\n",
    "print('Number of selected features:', sum(lasso_econ.coef_ != 0))"
   ]
  },
  {
   "cell_type": "markdown",
   "metadata": {},
   "source": [
    "## Neural Network (?)"
   ]
  },
  {
   "cell_type": "code",
   "execution_count": 134,
   "metadata": {},
   "outputs": [
    {
     "name": "stdout",
     "output_type": "stream",
     "text": [
      "Epoch 1, Train Loss: 0.36593663796782494, Test Loss: 0.10001464784145356\n",
      "Epoch 2, Train Loss: 0.1842947681993246, Test Loss: 0.08996574163436889\n",
      "Epoch 3, Train Loss: 0.14501718148589135, Test Loss: 0.08542645171284675\n",
      "Epoch 4, Train Loss: 0.132281311750412, Test Loss: 0.08503642663359642\n",
      "Epoch 5, Train Loss: 0.12725434370338917, Test Loss: 0.08492849305272103\n",
      "Epoch 6, Train Loss: 0.12379619039595127, Test Loss: 0.08399122849106788\n",
      "Epoch 7, Train Loss: 0.11894869446754455, Test Loss: 0.08498134508728981\n",
      "Epoch 8, Train Loss: 0.1193293397128582, Test Loss: 0.08386074781417846\n",
      "Epoch 9, Train Loss: 0.1158386716246605, Test Loss: 0.08301637187600136\n",
      "Epoch 10, Train Loss: 0.11959499645978212, Test Loss: 0.08808642596006394\n",
      "Epoch 11, Train Loss: 0.11237325072288513, Test Loss: 0.08579444319009781\n",
      "Epoch 12, Train Loss: 0.1113365613669157, Test Loss: 0.08168346434831619\n",
      "Epoch 13, Train Loss: 0.1128555403649807, Test Loss: 0.08116506263613701\n",
      "Epoch 14, Train Loss: 0.11192374758422374, Test Loss: 0.08473993837833405\n",
      "Epoch 15, Train Loss: 0.11501223359256983, Test Loss: 0.08194695845246315\n",
      "Epoch 16, Train Loss: 0.10400457955896854, Test Loss: 0.08098905861377716\n",
      "Epoch 17, Train Loss: 0.10708038199692965, Test Loss: 0.07945272594690322\n",
      "Epoch 18, Train Loss: 0.10563882503658534, Test Loss: 0.08014775276184082\n",
      "Epoch 19, Train Loss: 0.11054831206798553, Test Loss: 0.07826598182320595\n",
      "Epoch 20, Train Loss: 0.10754568595439196, Test Loss: 0.07967567160725593\n",
      "Epoch 21, Train Loss: 0.1082848510146141, Test Loss: 0.08288249149918556\n",
      "Epoch 22, Train Loss: 0.10588512267917395, Test Loss: 0.08032134816050529\n",
      "Epoch 23, Train Loss: 0.10193000175058842, Test Loss: 0.07951892584562302\n",
      "Epoch 24, Train Loss: 0.10226529665291309, Test Loss: 0.0787749895453453\n",
      "Epoch 25, Train Loss: 0.1049092810228467, Test Loss: 0.08055396318435669\n",
      "Epoch 26, Train Loss: 0.10447626758366824, Test Loss: 0.0776693868637085\n",
      "Epoch 27, Train Loss: 0.10178071893751621, Test Loss: 0.07835044384002686\n",
      "Epoch 28, Train Loss: 0.1039539162069559, Test Loss: 0.07726765215396882\n",
      "Epoch 29, Train Loss: 0.10043369099497795, Test Loss: 0.07913927465677262\n",
      "Epoch 30, Train Loss: 0.09952130358666182, Test Loss: 0.08270950064063072\n",
      "Epoch 31, Train Loss: 0.09355478968471288, Test Loss: 0.07771757438778877\n",
      "Epoch 32, Train Loss: 0.09598610013723373, Test Loss: 0.07815253704786301\n",
      "Epoch 33, Train Loss: 0.09945045176893473, Test Loss: 0.07875684976577758\n",
      "Epoch 34, Train Loss: 0.0963085914030671, Test Loss: 0.07772830292582512\n",
      "Epoch 35, Train Loss: 0.1023175472766161, Test Loss: 0.07799034625291824\n",
      "Epoch 36, Train Loss: 0.10167547032237052, Test Loss: 0.07873977631330491\n",
      "Epoch 37, Train Loss: 0.0986134086176753, Test Loss: 0.0803543308377266\n",
      "Epoch 38, Train Loss: 0.09785153158009052, Test Loss: 0.07941339060664176\n",
      "Epoch 39, Train Loss: 0.09324539478868246, Test Loss: 0.0809948068857193\n",
      "Epoch 40, Train Loss: 0.1025048453733325, Test Loss: 0.08003360778093338\n",
      "Epoch 41, Train Loss: 0.0928005290403962, Test Loss: 0.07947468727827073\n",
      "Epoch 42, Train Loss: 0.09664460033178329, Test Loss: 0.07861513271927834\n",
      "Epoch 43, Train Loss: 0.09386865969747304, Test Loss: 0.07838501125574111\n",
      "Epoch 44, Train Loss: 0.0976356578618288, Test Loss: 0.08054879352450371\n",
      "Epoch 45, Train Loss: 0.0928453465551138, Test Loss: 0.08023459538817405\n",
      "Epoch 46, Train Loss: 0.09612360756844282, Test Loss: 0.08087820261716842\n",
      "Epoch 47, Train Loss: 0.09239185363054275, Test Loss: 0.07832236275076866\n",
      "Epoch 48, Train Loss: 0.0899840022996068, Test Loss: 0.08074828177690506\n",
      "Epoch 49, Train Loss: 0.09669512066990137, Test Loss: 0.0774884943664074\n",
      "Epoch 50, Train Loss: 0.09581434726715088, Test Loss: 0.07893294036388397\n"
     ]
    }
   ],
   "source": [
    "# train a neural network on pocketEval model\n",
    "class ANESDataset(Dataset):\n",
    "    def __init__(self, X, y):\n",
    "        self.X = torch.tensor(X.values, dtype=torch.float32)\n",
    "        self.y = torch.tensor(y.values, dtype=torch.float32).reshape(-1, 1)\n",
    "\n",
    "    def __len__(self):\n",
    "        return len(self.X)\n",
    "\n",
    "    def __getitem__(self, idx):\n",
    "        return self.X[idx], self.y[idx]\n",
    "\n",
    "class ANESNet(nn.Module):\n",
    "    def __init__(self, input_dim, hidden_dim, output_dim):\n",
    "        super(ANESNet, self).__init__()\n",
    "        self.fc1 = nn.Linear(input_dim, hidden_dim)\n",
    "        self.bn1 = nn.BatchNorm1d(hidden_dim)\n",
    "        self.fc2 = nn.Linear(hidden_dim, hidden_dim)\n",
    "        self.bn2 = nn.BatchNorm1d(hidden_dim)\n",
    "        self.fc3 = nn.Linear(hidden_dim, hidden_dim)\n",
    "        self.bn3 = nn.BatchNorm1d(hidden_dim)\n",
    "        self.fc4 = nn.Linear(hidden_dim, output_dim)\n",
    "        self.relu = nn.ReLU()\n",
    "        self.dropout = nn.Dropout(0.5)\n",
    "\n",
    "    def forward(self, x):\n",
    "        x = self.relu(self.bn1(self.fc1(x)))\n",
    "        x = self.dropout(x)\n",
    "        x = self.relu(self.bn2(self.fc2(x)))\n",
    "        x = self.dropout(x)\n",
    "        x = self.relu(self.bn3(self.fc3(x)))\n",
    "        x = self.dropout(x)\n",
    "        x = self.fc4(x)\n",
    "        return x\n",
    "\n",
    "input_dim = X_pocket_cov_train.shape[1]\n",
    "hidden_dim = 100\n",
    "output_dim = 1\n",
    "\n",
    "\n",
    "\n",
    "def train_model(X_train_model, y_train_model, X_test_model, y_test_model, input_dim, hidden_dim, output_dim, n_epochs=50):\n",
    "    anes_net = ANESNet(input_dim, hidden_dim, output_dim)\n",
    "\n",
    "    criterion = nn.MSELoss()\n",
    "    optimizer = optim.Adam(anes_net.parameters(), lr=0.001)\n",
    "\n",
    "    anes_train = ANESDataset(X_train_model, y_train_model)\n",
    "    anes_test = ANESDataset(X_test_model, y_test_model)\n",
    "\n",
    "    train_loader = DataLoader(anes_train, batch_size=64, shuffle=True)\n",
    "    test_loader = DataLoader(anes_test, batch_size=64, shuffle=False)\n",
    "\n",
    "\n",
    "    train_losses = []\n",
    "    test_losses = []\n",
    "    for epoch in range(n_epochs):\n",
    "        anes_net.train()\n",
    "        train_loss = 0\n",
    "        for X_batch, y_batch in train_loader:\n",
    "            optimizer.zero_grad()\n",
    "            output = anes_net(X_batch)\n",
    "            loss = criterion(output, y_batch)\n",
    "            loss.backward()\n",
    "            optimizer.step()\n",
    "            train_loss += loss.item()\n",
    "        train_losses.append(train_loss / len(train_loader))\n",
    "\n",
    "        anes_net.eval()\n",
    "        test_loss = 0\n",
    "        with torch.no_grad():\n",
    "            for X_batch, y_batch in test_loader:\n",
    "                output = anes_net(X_batch)\n",
    "                loss = criterion(output, y_batch)\n",
    "                test_loss += loss.item()\n",
    "            print(f'Epoch {epoch + 1}, Train Loss: {train_losses[-1]}, Test Loss: {test_loss / len(test_loader)}')\n",
    "            test_losses.append(test_loss / len(test_loader))\n",
    "    return anes_net, test_loader\n",
    "\n",
    "anes_net_pocket, anes_loader = train_model(X_pocket_cov_train, y_train_pocket, X_pocket_cov_test, y_test_pocket, input_dim, hidden_dim, output_dim)"
   ]
  },
  {
   "cell_type": "code",
   "execution_count": 135,
   "metadata": {},
   "outputs": [
    {
     "data": {
      "image/png": "[encoded data removed]",
      "text/plain": [
       "<Figure size 640x480 with 1 Axes>"
      ]
     },
     "metadata": {},
     "output_type": "display_data"
    }
   ],
   "source": [
    "anes_net_pocket.eval()\n",
    "pocket_predictions = []\n",
    "with torch.no_grad():\n",
    "    for X_batch, y_batch in anes_loader:\n",
    "        output = anes_net_pocket(X_batch)\n",
    "        pocket_predictions.extend(output.numpy().flatten())\n",
    "\n",
    "# plot the predictions vs. true values\n",
    "plt.scatter(y_test_pocket, pocket_predictions)\n",
    "plt.xlabel('True Values')\n",
    "plt.ylabel('Predictions')\n",
    "plt.title('Predictions vs. True Values')\n",
    "plt.show()\n"
   ]
  },
  {
   "cell_type": "code",
   "execution_count": 136,
   "metadata": {},
   "outputs": [
    {
     "name": "stdout",
     "output_type": "stream",
     "text": [
      "Epoch 1, Train Loss: 0.3836562855541706, Test Loss: 0.10783642888069153\n",
      "Epoch 2, Train Loss: 0.1887717428803444, Test Loss: 0.0972711780667305\n",
      "Epoch 3, Train Loss: 0.15210762836039066, Test Loss: 0.0854552611708641\n",
      "Epoch 4, Train Loss: 0.13300313375890255, Test Loss: 0.0833703926205635\n",
      "Epoch 5, Train Loss: 0.1303735288977623, Test Loss: 0.08599131792783737\n",
      "Epoch 6, Train Loss: 0.12476773779839277, Test Loss: 0.08512328937649727\n",
      "Epoch 7, Train Loss: 0.1204043498262763, Test Loss: 0.08586966782808304\n",
      "Epoch 8, Train Loss: 0.12372257649898528, Test Loss: 0.08298837676644326\n",
      "Epoch 9, Train Loss: 0.11471765927970409, Test Loss: 0.08233359590172767\n",
      "Epoch 10, Train Loss: 0.11513378843665123, Test Loss: 0.08266286447644233\n",
      "Epoch 11, Train Loss: 0.11285767011344433, Test Loss: 0.08431855887174607\n",
      "Epoch 12, Train Loss: 0.11764588341116905, Test Loss: 0.08506596654653549\n",
      "Epoch 13, Train Loss: 0.11057177901268006, Test Loss: 0.08013625174760819\n",
      "Epoch 14, Train Loss: 0.10964325737208128, Test Loss: 0.0807708066701889\n",
      "Epoch 15, Train Loss: 0.11244608588516712, Test Loss: 0.08338286980986595\n",
      "Epoch 16, Train Loss: 0.10738180637359619, Test Loss: 0.08066879540681839\n",
      "Epoch 17, Train Loss: 0.1082473486661911, Test Loss: 0.08127222269773483\n",
      "Epoch 18, Train Loss: 0.1079432425275445, Test Loss: 0.07899749457836151\n",
      "Epoch 19, Train Loss: 0.10551129195839166, Test Loss: 0.08132595375180245\n",
      "Epoch 20, Train Loss: 0.10832282014191151, Test Loss: 0.07942088633775711\n",
      "Epoch 21, Train Loss: 0.10529524154961109, Test Loss: 0.07955919310450554\n",
      "Epoch 22, Train Loss: 0.10360622450709343, Test Loss: 0.08081350848078728\n",
      "Epoch 23, Train Loss: 0.10336370933800935, Test Loss: 0.08083707064390183\n",
      "Epoch 24, Train Loss: 0.09943310793489218, Test Loss: 0.0774515999853611\n",
      "Epoch 25, Train Loss: 0.10041598908603191, Test Loss: 0.08119326949119568\n",
      "Epoch 26, Train Loss: 0.10321539904922247, Test Loss: 0.07807680696249009\n",
      "Epoch 27, Train Loss: 0.10281836442649364, Test Loss: 0.08200091719627381\n",
      "Epoch 28, Train Loss: 0.10336752511560916, Test Loss: 0.07898658633232117\n",
      "Epoch 29, Train Loss: 0.10049136240035296, Test Loss: 0.07760775044560432\n",
      "Epoch 30, Train Loss: 0.10513822928071022, Test Loss: 0.07758764863014221\n",
      "Epoch 31, Train Loss: 0.10030417408794165, Test Loss: 0.079720608741045\n",
      "Epoch 32, Train Loss: 0.09878066163510084, Test Loss: 0.0795575326681137\n",
      "Epoch 33, Train Loss: 0.1029576475918293, Test Loss: 0.0777627743780613\n",
      "Epoch 34, Train Loss: 0.10049679070711136, Test Loss: 0.07806249156594276\n",
      "Epoch 35, Train Loss: 0.09956657525151968, Test Loss: 0.0803011777997017\n",
      "Epoch 36, Train Loss: 0.10090220764279366, Test Loss: 0.08166781842708587\n",
      "Epoch 37, Train Loss: 0.09567594312131406, Test Loss: 0.07913476780056954\n",
      "Epoch 38, Train Loss: 0.09677727591246367, Test Loss: 0.07870066985487938\n",
      "Epoch 39, Train Loss: 0.09909514557570219, Test Loss: 0.07986496046185493\n",
      "Epoch 40, Train Loss: 0.09616315264254809, Test Loss: 0.07866904005408287\n",
      "Epoch 41, Train Loss: 0.09501977179199457, Test Loss: 0.08554844841361046\n",
      "Epoch 42, Train Loss: 0.0973779483884573, Test Loss: 0.07847264602780342\n",
      "Epoch 43, Train Loss: 0.09540817961096763, Test Loss: 0.07844486728310585\n",
      "Epoch 44, Train Loss: 0.09155602168291807, Test Loss: 0.07848444133996964\n",
      "Epoch 45, Train Loss: 0.09312787678092718, Test Loss: 0.07925500646233559\n",
      "Epoch 46, Train Loss: 0.10327064383774996, Test Loss: 0.08587789490818977\n",
      "Epoch 47, Train Loss: 0.09867675576359033, Test Loss: 0.08021671682596207\n",
      "Epoch 48, Train Loss: 0.09715233314782382, Test Loss: 0.07967117235064507\n",
      "Epoch 49, Train Loss: 0.09491124805063009, Test Loss: 0.07958057031035423\n",
      "Epoch 50, Train Loss: 0.09351293165236711, Test Loss: 0.08499268114566803\n"
     ]
    }
   ],
   "source": [
    "# train a neural network on econEval model\n",
    "input_dim = X_econ_cov_train.shape[1]\n",
    "anes_net_econ, anes_loader = train_model(X_econ_cov_train, y_train_econ, X_econ_cov_test, y_test_econ, input_dim, hidden_dim, output_dim)"
   ]
  },
  {
   "cell_type": "code",
   "execution_count": 137,
   "metadata": {},
   "outputs": [
    {
     "data": {
      "image/png": "[encoded data removed]",
      "text/plain": [
       "<Figure size 640x480 with 1 Axes>"
      ]
     },
     "metadata": {},
     "output_type": "display_data"
    },
    {
     "name": "stdout",
     "output_type": "stream",
     "text": [
      "R^2 value for pocketEval model: 0.878801331356377\n",
      "R^2 value for econEval model: 0.8694968173978082\n"
     ]
    }
   ],
   "source": [
    "anes_net_econ.eval()\n",
    "econ_predictions = []\n",
    "with torch.no_grad():\n",
    "    for X_batch, y_batch in anes_loader:\n",
    "        output = anes_net_econ(X_batch)\n",
    "        econ_predictions.extend(output.numpy().flatten())\n",
    "\n",
    "# plot the predictions vs. true values\n",
    "plt.scatter(y_test_econ, econ_predictions)\n",
    "plt.xlabel('True Values')\n",
    "plt.ylabel('Predictions')\n",
    "plt.title('Predictions vs. True Values Econmodel')\n",
    "plt.show()\n",
    "\n",
    "from sklearn.metrics import r2_score\n",
    "print('R^2 value for pocketEval model:', r2_score(y_test_pocket, pocket_predictions))\n",
    "print('R^2 value for econEval model:', r2_score(y_test_econ, econ_predictions))"
   ]
  },
  {
   "cell_type": "markdown",
   "metadata": {},
   "source": [
    "## Random Forest"
   ]
  },
  {
   "cell_type": "code",
   "execution_count": 138,
   "metadata": {},
   "outputs": [
    {
     "name": "stderr",
     "output_type": "stream",
     "text": [
      "c:\\Users\\miles\\anaconda3\\Lib\\site-packages\\sklearn\\base.py:1473: DataConversionWarning: A column-vector y was passed when a 1d array was expected. Please change the shape of y to (n_samples,), for example using ravel().\n",
      "  return fit_method(estimator, *args, **kwargs)\n"
     ]
    },
    {
     "name": "stdout",
     "output_type": "stream",
     "text": [
      "Random Forest accuracy on pocketEval model: 0.8855357833615936\n"
     ]
    }
   ],
   "source": [
    "# run a Random Forest on pocketEval test data and covariates\n",
    "rf_pocket = RandomForestRegressor(n_estimators=500, random_state=25)\n",
    "rf_pocket.fit(X_pocket_cov_train, y_train_pocket)\n",
    "\n",
    "feature_importance_pocket = pd.DataFrame({\n",
    "    \"Feature\": X_pocket_cov.columns,\n",
    "    \"Importance\": rf_pocket.feature_importances_\n",
    "}).sort_values(by=\"Importance\", ascending=False)\n",
    "feature_importance_pocket.head(10)\n",
    "\n",
    "# get random forest prediction accuracy on pocket test\n",
    "rf_pocket.score(X_pocket_cov_test, y_test_pocket)\n",
    "print('Random Forest accuracy on pocketEval model:', rf_pocket.score(X_pocket_cov_test, y_test_pocket))"
   ]
  },
  {
   "cell_type": "code",
   "execution_count": 139,
   "metadata": {},
   "outputs": [
    {
     "name": "stderr",
     "output_type": "stream",
     "text": [
      "c:\\Users\\miles\\anaconda3\\Lib\\site-packages\\sklearn\\base.py:1473: DataConversionWarning: A column-vector y was passed when a 1d array was expected. Please change the shape of y to (n_samples,), for example using ravel().\n",
      "  return fit_method(estimator, *args, **kwargs)\n"
     ]
    },
    {
     "name": "stdout",
     "output_type": "stream",
     "text": [
      "Random Forest accuracy on econEval model: 0.8852674563206064\n"
     ]
    }
   ],
   "source": [
    "# run a Random Forest on econEval and covariates\n",
    "rf_econ = RandomForestRegressor(n_estimators=500, random_state=25)\n",
    "rf_econ.fit(X_econ_cov_train, y_train_econ)\n",
    "\n",
    "feature_importance_econ = pd.DataFrame({\n",
    "    \"Feature\": X_econ_cov.columns,\n",
    "    \"Importance\": rf_econ.feature_importances_\n",
    "}).sort_values(by=\"Importance\", ascending=False)\n",
    "feature_importance_econ.head(10)\n",
    "\n",
    "# get random forest prediction accuracy on econ test\n",
    "rf_econ.score(X_econ_cov_test, y_test_econ)\n",
    "print('Random Forest accuracy on econEval model:', rf_econ.score(X_econ_cov_test, y_test_econ))"
   ]
  }
 ],
 "metadata": {
  "kernelspec": {
   "display_name": "Python 3",
   "language": "python",
   "name": "python3"
  },
  "language_info": {
   "codemirror_mode": {
    "name": "ipython",
    "version": 3
   },
   "file_extension": ".py",
   "mimetype": "text/x-python",
   "name": "python",
   "nbconvert_exporter": "python",
   "pygments_lexer": "ipython3",
   "version": "3.11.4"
  }
 },
 "nbformat": 4,
 "nbformat_minor": 2
}
