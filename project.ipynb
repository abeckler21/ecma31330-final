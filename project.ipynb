{
 "cells": [
  {
   "cell_type": "markdown",
   "metadata": {},
   "source": [
    "# ECMA 31330 Final Project\n",
    "### Abby Beckler, Miles Brown"
   ]
  },
  {
   "cell_type": "code",
   "execution_count": 5,
   "metadata": {},
   "outputs": [],
   "source": [
    "# imports\n",
    "import os\n",
    "import numpy as np\n",
    "import matplotlib.pyplot as plt\n",
    "import pandas as pd\n",
    "import statsmodels.api as sm\n",
    "import torch\n",
    "import torch.nn as nn\n",
    "import torch.optim as optim\n",
    "from torch.utils.data import DataLoader, Dataset"
   ]
  },
  {
   "cell_type": "code",
   "execution_count": 9,
   "metadata": {},
   "outputs": [
    {
     "data": {
      "text/plain": [
       "Index(['mode', 'prepost', 'pid3', 'pid_strong', 'pid_lean', 'pid7', 'sp_serv',\n",
       "       'sp_serv_biden', 'sp_serv_trump', 'jobs_living', 'jobs_living_biden',\n",
       "       'jobs_living_trump', 'envir_business', 'envir_business_biden',\n",
       "       'envir_business_trump', 'abortion', 'abortion_salience',\n",
       "       'abortion_biden', 'abortion_trump', 'bible', 'adjust_change',\n",
       "       'family_ties', 'covid_approval', 'covid_response_speed',\n",
       "       'mail_in_attitude', 'police_treat', 'bidenft', 'trumpft',\n",
       "       'bidenft_post', 'trumpft_post', 'pocket', 'repro', 'votepres',\n",
       "       'turnout', 'mail_in', 'stateFIPS', 'attention_poli', 'age', 'marital',\n",
       "       'educ', 'educ5', 'race', 'gender', 'income', 'ideology', 'retro',\n",
       "       'religion', 'union', 'trans', 'immigration', 'gun_diff',\n",
       "       'offensive_language', 'harassment', 'no_children', 'arrested',\n",
       "       'feminist', 'flag', 'family_importance'],\n",
       "      dtype='object')"
      ]
     },
     "execution_count": 9,
     "metadata": {},
     "output_type": "execute_result"
    }
   ],
   "source": [
    "# load the data\n",
    "ANES = pd.read_csv('data/ANES.csv')\n",
    "ANES.columns"
   ]
  }
 ],
 "metadata": {
  "kernelspec": {
   "display_name": "Python 3",
   "language": "python",
   "name": "python3"
  },
  "language_info": {
   "codemirror_mode": {
    "name": "ipython",
    "version": 3
   },
   "file_extension": ".py",
   "mimetype": "text/x-python",
   "name": "python",
   "nbconvert_exporter": "python",
   "pygments_lexer": "ipython3",
   "version": "3.11.4"
  }
 },
 "nbformat": 4,
 "nbformat_minor": 2
}
