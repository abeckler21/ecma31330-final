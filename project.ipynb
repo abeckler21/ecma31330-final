{
 "cells": [
  {
   "cell_type": "markdown",
   "metadata": {},
   "source": [
    "# ECMA 31330 Final Project\n",
    "### Abby Beckler, Miles Brown"
   ]
  },
  {
   "cell_type": "code",
   "execution_count": 164,
   "metadata": {},
   "outputs": [],
   "source": [
    "# imports\n",
    "import os\n",
    "os.environ[\"KMP_DUPLICATE_LIB_OK\"] = \"TRUE\"\n",
    "import numpy as np\n",
    "import matplotlib.pyplot as plt\n",
    "import pandas as pd\n",
    "import statsmodels.api as sm\n",
    "import torch\n",
    "import torch.nn as nn\n",
    "import torch.optim as optim\n",
    "from torch.utils.data import DataLoader, Dataset\n",
    "from sklearn.impute import KNNImputer\n",
    "from sklearn.linear_model import Lasso, LassoCV\n",
    "from sklearn.ensemble import RandomForestRegressor\n",
    "from sklearn.preprocessing import StandardScaler, MinMaxScaler\n",
    "from sklearn.model_selection import train_test_split"
   ]
  },
  {
   "cell_type": "markdown",
   "metadata": {},
   "source": [
    "## Load Data + Use KNN to Impute Missing Values"
   ]
  },
  {
   "cell_type": "code",
   "execution_count": 165,
   "metadata": {},
   "outputs": [
    {
     "ename": "KeyboardInterrupt",
     "evalue": "",
     "output_type": "error",
     "traceback": [
      "\u001b[1;31m---------------------------------------------------------------------------\u001b[0m",
      "\u001b[1;31mKeyboardInterrupt\u001b[0m                         Traceback (most recent call last)",
      "Cell \u001b[1;32mIn[165], line 12\u001b[0m\n\u001b[0;32m     10\u001b[0m \u001b[38;5;66;03m# impute using k-nearest neighbors imputer\u001b[39;00m\n\u001b[0;32m     11\u001b[0m imputer \u001b[38;5;241m=\u001b[39m KNNImputer(n_neighbors\u001b[38;5;241m=\u001b[39m\u001b[38;5;241m5\u001b[39m)\n\u001b[1;32m---> 12\u001b[0m ANES \u001b[38;5;241m=\u001b[39m pd\u001b[38;5;241m.\u001b[39mDataFrame(imputer\u001b[38;5;241m.\u001b[39mfit_transform(ANES), columns\u001b[38;5;241m=\u001b[39mANES\u001b[38;5;241m.\u001b[39mcolumns)\n\u001b[0;32m     14\u001b[0m \u001b[38;5;66;03m# add relevant columns 'pocketEval' and 'econEval'\u001b[39;00m\n\u001b[0;32m     15\u001b[0m ANES[\u001b[38;5;124m'\u001b[39m\u001b[38;5;124mpocketEval\u001b[39m\u001b[38;5;124m'\u001b[39m] \u001b[38;5;241m=\u001b[39m (ANES[\u001b[38;5;124m'\u001b[39m\u001b[38;5;124mpocket\u001b[39m\u001b[38;5;124m'\u001b[39m] \u001b[38;5;241m-\u001b[39m \u001b[38;5;241m3\u001b[39m) \u001b[38;5;241m*\u001b[39m (\u001b[38;5;241m-\u001b[39m\u001b[38;5;241m1\u001b[39m\u001b[38;5;241m/\u001b[39m\u001b[38;5;241m2\u001b[39m)\n",
      "File \u001b[1;32mc:\\Users\\miles\\anaconda3\\Lib\\site-packages\\sklearn\\utils\\_set_output.py:313\u001b[0m, in \u001b[0;36m_wrap_method_output.<locals>.wrapped\u001b[1;34m(self, X, *args, **kwargs)\u001b[0m\n\u001b[0;32m    311\u001b[0m \u001b[38;5;129m@wraps\u001b[39m(f)\n\u001b[0;32m    312\u001b[0m \u001b[38;5;28;01mdef\u001b[39;00m \u001b[38;5;21mwrapped\u001b[39m(\u001b[38;5;28mself\u001b[39m, X, \u001b[38;5;241m*\u001b[39margs, \u001b[38;5;241m*\u001b[39m\u001b[38;5;241m*\u001b[39mkwargs):\n\u001b[1;32m--> 313\u001b[0m     data_to_wrap \u001b[38;5;241m=\u001b[39m f(\u001b[38;5;28mself\u001b[39m, X, \u001b[38;5;241m*\u001b[39margs, \u001b[38;5;241m*\u001b[39m\u001b[38;5;241m*\u001b[39mkwargs)\n\u001b[0;32m    314\u001b[0m     \u001b[38;5;28;01mif\u001b[39;00m \u001b[38;5;28misinstance\u001b[39m(data_to_wrap, \u001b[38;5;28mtuple\u001b[39m):\n\u001b[0;32m    315\u001b[0m         \u001b[38;5;66;03m# only wrap the first output for cross decomposition\u001b[39;00m\n\u001b[0;32m    316\u001b[0m         return_tuple \u001b[38;5;241m=\u001b[39m (\n\u001b[0;32m    317\u001b[0m             _wrap_data_with_container(method, data_to_wrap[\u001b[38;5;241m0\u001b[39m], X, \u001b[38;5;28mself\u001b[39m),\n\u001b[0;32m    318\u001b[0m             \u001b[38;5;241m*\u001b[39mdata_to_wrap[\u001b[38;5;241m1\u001b[39m:],\n\u001b[0;32m    319\u001b[0m         )\n",
      "File \u001b[1;32mc:\\Users\\miles\\anaconda3\\Lib\\site-packages\\sklearn\\base.py:1098\u001b[0m, in \u001b[0;36mTransformerMixin.fit_transform\u001b[1;34m(self, X, y, **fit_params)\u001b[0m\n\u001b[0;32m   1083\u001b[0m         warnings\u001b[38;5;241m.\u001b[39mwarn(\n\u001b[0;32m   1084\u001b[0m             (\n\u001b[0;32m   1085\u001b[0m                 \u001b[38;5;124mf\u001b[39m\u001b[38;5;124m\"\u001b[39m\u001b[38;5;124mThis object (\u001b[39m\u001b[38;5;132;01m{\u001b[39;00m\u001b[38;5;28mself\u001b[39m\u001b[38;5;241m.\u001b[39m\u001b[38;5;18m__class__\u001b[39m\u001b[38;5;241m.\u001b[39m\u001b[38;5;18m__name__\u001b[39m\u001b[38;5;132;01m}\u001b[39;00m\u001b[38;5;124m) has a `transform`\u001b[39m\u001b[38;5;124m\"\u001b[39m\n\u001b[1;32m   (...)\u001b[0m\n\u001b[0;32m   1093\u001b[0m             \u001b[38;5;167;01mUserWarning\u001b[39;00m,\n\u001b[0;32m   1094\u001b[0m         )\n\u001b[0;32m   1096\u001b[0m \u001b[38;5;28;01mif\u001b[39;00m y \u001b[38;5;129;01mis\u001b[39;00m \u001b[38;5;28;01mNone\u001b[39;00m:\n\u001b[0;32m   1097\u001b[0m     \u001b[38;5;66;03m# fit method of arity 1 (unsupervised transformation)\u001b[39;00m\n\u001b[1;32m-> 1098\u001b[0m     \u001b[38;5;28;01mreturn\u001b[39;00m \u001b[38;5;28mself\u001b[39m\u001b[38;5;241m.\u001b[39mfit(X, \u001b[38;5;241m*\u001b[39m\u001b[38;5;241m*\u001b[39mfit_params)\u001b[38;5;241m.\u001b[39mtransform(X)\n\u001b[0;32m   1099\u001b[0m \u001b[38;5;28;01melse\u001b[39;00m:\n\u001b[0;32m   1100\u001b[0m     \u001b[38;5;66;03m# fit method of arity 2 (supervised transformation)\u001b[39;00m\n\u001b[0;32m   1101\u001b[0m     \u001b[38;5;28;01mreturn\u001b[39;00m \u001b[38;5;28mself\u001b[39m\u001b[38;5;241m.\u001b[39mfit(X, y, \u001b[38;5;241m*\u001b[39m\u001b[38;5;241m*\u001b[39mfit_params)\u001b[38;5;241m.\u001b[39mtransform(X)\n",
      "File \u001b[1;32mc:\\Users\\miles\\anaconda3\\Lib\\site-packages\\sklearn\\utils\\_set_output.py:313\u001b[0m, in \u001b[0;36m_wrap_method_output.<locals>.wrapped\u001b[1;34m(self, X, *args, **kwargs)\u001b[0m\n\u001b[0;32m    311\u001b[0m \u001b[38;5;129m@wraps\u001b[39m(f)\n\u001b[0;32m    312\u001b[0m \u001b[38;5;28;01mdef\u001b[39;00m \u001b[38;5;21mwrapped\u001b[39m(\u001b[38;5;28mself\u001b[39m, X, \u001b[38;5;241m*\u001b[39margs, \u001b[38;5;241m*\u001b[39m\u001b[38;5;241m*\u001b[39mkwargs):\n\u001b[1;32m--> 313\u001b[0m     data_to_wrap \u001b[38;5;241m=\u001b[39m f(\u001b[38;5;28mself\u001b[39m, X, \u001b[38;5;241m*\u001b[39margs, \u001b[38;5;241m*\u001b[39m\u001b[38;5;241m*\u001b[39mkwargs)\n\u001b[0;32m    314\u001b[0m     \u001b[38;5;28;01mif\u001b[39;00m \u001b[38;5;28misinstance\u001b[39m(data_to_wrap, \u001b[38;5;28mtuple\u001b[39m):\n\u001b[0;32m    315\u001b[0m         \u001b[38;5;66;03m# only wrap the first output for cross decomposition\u001b[39;00m\n\u001b[0;32m    316\u001b[0m         return_tuple \u001b[38;5;241m=\u001b[39m (\n\u001b[0;32m    317\u001b[0m             _wrap_data_with_container(method, data_to_wrap[\u001b[38;5;241m0\u001b[39m], X, \u001b[38;5;28mself\u001b[39m),\n\u001b[0;32m    318\u001b[0m             \u001b[38;5;241m*\u001b[39mdata_to_wrap[\u001b[38;5;241m1\u001b[39m:],\n\u001b[0;32m    319\u001b[0m         )\n",
      "File \u001b[1;32mc:\\Users\\miles\\anaconda3\\Lib\\site-packages\\sklearn\\impute\\_knn.py:367\u001b[0m, in \u001b[0;36mKNNImputer.transform\u001b[1;34m(self, X)\u001b[0m\n\u001b[0;32m    358\u001b[0m \u001b[38;5;66;03m# process in fixed-memory chunks\u001b[39;00m\n\u001b[0;32m    359\u001b[0m gen \u001b[38;5;241m=\u001b[39m pairwise_distances_chunked(\n\u001b[0;32m    360\u001b[0m     X[row_missing_idx, :],\n\u001b[0;32m    361\u001b[0m     \u001b[38;5;28mself\u001b[39m\u001b[38;5;241m.\u001b[39m_fit_X,\n\u001b[1;32m   (...)\u001b[0m\n\u001b[0;32m    365\u001b[0m     reduce_func\u001b[38;5;241m=\u001b[39mprocess_chunk,\n\u001b[0;32m    366\u001b[0m )\n\u001b[1;32m--> 367\u001b[0m \u001b[38;5;28;01mfor\u001b[39;00m chunk \u001b[38;5;129;01min\u001b[39;00m gen:\n\u001b[0;32m    368\u001b[0m     \u001b[38;5;66;03m# process_chunk modifies X in place. No return value.\u001b[39;00m\n\u001b[0;32m    369\u001b[0m     \u001b[38;5;28;01mpass\u001b[39;00m\n\u001b[0;32m    371\u001b[0m \u001b[38;5;28;01mif\u001b[39;00m \u001b[38;5;28mself\u001b[39m\u001b[38;5;241m.\u001b[39mkeep_empty_features:\n",
      "File \u001b[1;32mc:\\Users\\miles\\anaconda3\\Lib\\site-packages\\sklearn\\metrics\\pairwise.py:2172\u001b[0m, in \u001b[0;36mpairwise_distances_chunked\u001b[1;34m(X, Y, reduce_func, metric, n_jobs, working_memory, **kwds)\u001b[0m\n\u001b[0;32m   2170\u001b[0m \u001b[38;5;28;01melse\u001b[39;00m:\n\u001b[0;32m   2171\u001b[0m     X_chunk \u001b[38;5;241m=\u001b[39m X[sl]\n\u001b[1;32m-> 2172\u001b[0m D_chunk \u001b[38;5;241m=\u001b[39m pairwise_distances(X_chunk, Y, metric\u001b[38;5;241m=\u001b[39mmetric, n_jobs\u001b[38;5;241m=\u001b[39mn_jobs, \u001b[38;5;241m*\u001b[39m\u001b[38;5;241m*\u001b[39mkwds)\n\u001b[0;32m   2173\u001b[0m \u001b[38;5;28;01mif\u001b[39;00m (X \u001b[38;5;129;01mis\u001b[39;00m Y \u001b[38;5;129;01mor\u001b[39;00m Y \u001b[38;5;129;01mis\u001b[39;00m \u001b[38;5;28;01mNone\u001b[39;00m) \u001b[38;5;129;01mand\u001b[39;00m PAIRWISE_DISTANCE_FUNCTIONS\u001b[38;5;241m.\u001b[39mget(\n\u001b[0;32m   2174\u001b[0m     metric, \u001b[38;5;28;01mNone\u001b[39;00m\n\u001b[0;32m   2175\u001b[0m ) \u001b[38;5;129;01mis\u001b[39;00m euclidean_distances:\n\u001b[0;32m   2176\u001b[0m     \u001b[38;5;66;03m# zeroing diagonal, taking care of aliases of \"euclidean\",\u001b[39;00m\n\u001b[0;32m   2177\u001b[0m     \u001b[38;5;66;03m# i.e. \"l2\"\u001b[39;00m\n\u001b[0;32m   2178\u001b[0m     D_chunk\u001b[38;5;241m.\u001b[39mflat[sl\u001b[38;5;241m.\u001b[39mstart :: _num_samples(X) \u001b[38;5;241m+\u001b[39m \u001b[38;5;241m1\u001b[39m] \u001b[38;5;241m=\u001b[39m \u001b[38;5;241m0\u001b[39m\n",
      "File \u001b[1;32mc:\\Users\\miles\\anaconda3\\Lib\\site-packages\\sklearn\\utils\\_param_validation.py:213\u001b[0m, in \u001b[0;36mvalidate_params.<locals>.decorator.<locals>.wrapper\u001b[1;34m(*args, **kwargs)\u001b[0m\n\u001b[0;32m    207\u001b[0m \u001b[38;5;28;01mtry\u001b[39;00m:\n\u001b[0;32m    208\u001b[0m     \u001b[38;5;28;01mwith\u001b[39;00m config_context(\n\u001b[0;32m    209\u001b[0m         skip_parameter_validation\u001b[38;5;241m=\u001b[39m(\n\u001b[0;32m    210\u001b[0m             prefer_skip_nested_validation \u001b[38;5;129;01mor\u001b[39;00m global_skip_validation\n\u001b[0;32m    211\u001b[0m         )\n\u001b[0;32m    212\u001b[0m     ):\n\u001b[1;32m--> 213\u001b[0m         \u001b[38;5;28;01mreturn\u001b[39;00m func(\u001b[38;5;241m*\u001b[39margs, \u001b[38;5;241m*\u001b[39m\u001b[38;5;241m*\u001b[39mkwargs)\n\u001b[0;32m    214\u001b[0m \u001b[38;5;28;01mexcept\u001b[39;00m InvalidParameterError \u001b[38;5;28;01mas\u001b[39;00m e:\n\u001b[0;32m    215\u001b[0m     \u001b[38;5;66;03m# When the function is just a wrapper around an estimator, we allow\u001b[39;00m\n\u001b[0;32m    216\u001b[0m     \u001b[38;5;66;03m# the function to delegate validation to the estimator, but we replace\u001b[39;00m\n\u001b[0;32m    217\u001b[0m     \u001b[38;5;66;03m# the name of the estimator by the name of the function in the error\u001b[39;00m\n\u001b[0;32m    218\u001b[0m     \u001b[38;5;66;03m# message to avoid confusion.\u001b[39;00m\n\u001b[0;32m    219\u001b[0m     msg \u001b[38;5;241m=\u001b[39m re\u001b[38;5;241m.\u001b[39msub(\n\u001b[0;32m    220\u001b[0m         \u001b[38;5;124mr\u001b[39m\u001b[38;5;124m\"\u001b[39m\u001b[38;5;124mparameter of \u001b[39m\u001b[38;5;124m\\\u001b[39m\u001b[38;5;124mw+ must be\u001b[39m\u001b[38;5;124m\"\u001b[39m,\n\u001b[0;32m    221\u001b[0m         \u001b[38;5;124mf\u001b[39m\u001b[38;5;124m\"\u001b[39m\u001b[38;5;124mparameter of \u001b[39m\u001b[38;5;132;01m{\u001b[39;00mfunc\u001b[38;5;241m.\u001b[39m\u001b[38;5;18m__qualname__\u001b[39m\u001b[38;5;132;01m}\u001b[39;00m\u001b[38;5;124m must be\u001b[39m\u001b[38;5;124m\"\u001b[39m,\n\u001b[0;32m    222\u001b[0m         \u001b[38;5;28mstr\u001b[39m(e),\n\u001b[0;32m    223\u001b[0m     )\n",
      "File \u001b[1;32mc:\\Users\\miles\\anaconda3\\Lib\\site-packages\\sklearn\\metrics\\pairwise.py:2375\u001b[0m, in \u001b[0;36mpairwise_distances\u001b[1;34m(X, Y, metric, n_jobs, force_all_finite, **kwds)\u001b[0m\n\u001b[0;32m   2372\u001b[0m         \u001b[38;5;28;01mreturn\u001b[39;00m distance\u001b[38;5;241m.\u001b[39msquareform(distance\u001b[38;5;241m.\u001b[39mpdist(X, metric\u001b[38;5;241m=\u001b[39mmetric, \u001b[38;5;241m*\u001b[39m\u001b[38;5;241m*\u001b[39mkwds))\n\u001b[0;32m   2373\u001b[0m     func \u001b[38;5;241m=\u001b[39m partial(distance\u001b[38;5;241m.\u001b[39mcdist, metric\u001b[38;5;241m=\u001b[39mmetric, \u001b[38;5;241m*\u001b[39m\u001b[38;5;241m*\u001b[39mkwds)\n\u001b[1;32m-> 2375\u001b[0m \u001b[38;5;28;01mreturn\u001b[39;00m _parallel_pairwise(X, Y, func, n_jobs, \u001b[38;5;241m*\u001b[39m\u001b[38;5;241m*\u001b[39mkwds)\n",
      "File \u001b[1;32mc:\\Users\\miles\\anaconda3\\Lib\\site-packages\\sklearn\\metrics\\pairwise.py:1893\u001b[0m, in \u001b[0;36m_parallel_pairwise\u001b[1;34m(X, Y, func, n_jobs, **kwds)\u001b[0m\n\u001b[0;32m   1890\u001b[0m X, Y, dtype \u001b[38;5;241m=\u001b[39m _return_float_dtype(X, Y)\n\u001b[0;32m   1892\u001b[0m \u001b[38;5;28;01mif\u001b[39;00m effective_n_jobs(n_jobs) \u001b[38;5;241m==\u001b[39m \u001b[38;5;241m1\u001b[39m:\n\u001b[1;32m-> 1893\u001b[0m     \u001b[38;5;28;01mreturn\u001b[39;00m func(X, Y, \u001b[38;5;241m*\u001b[39m\u001b[38;5;241m*\u001b[39mkwds)\n\u001b[0;32m   1895\u001b[0m \u001b[38;5;66;03m# enforce a threading backend to prevent data communication overhead\u001b[39;00m\n\u001b[0;32m   1896\u001b[0m fd \u001b[38;5;241m=\u001b[39m delayed(_dist_wrapper)\n",
      "File \u001b[1;32mc:\\Users\\miles\\anaconda3\\Lib\\site-packages\\sklearn\\utils\\_param_validation.py:186\u001b[0m, in \u001b[0;36mvalidate_params.<locals>.decorator.<locals>.wrapper\u001b[1;34m(*args, **kwargs)\u001b[0m\n\u001b[0;32m    184\u001b[0m global_skip_validation \u001b[38;5;241m=\u001b[39m get_config()[\u001b[38;5;124m\"\u001b[39m\u001b[38;5;124mskip_parameter_validation\u001b[39m\u001b[38;5;124m\"\u001b[39m]\n\u001b[0;32m    185\u001b[0m \u001b[38;5;28;01mif\u001b[39;00m global_skip_validation:\n\u001b[1;32m--> 186\u001b[0m     \u001b[38;5;28;01mreturn\u001b[39;00m func(\u001b[38;5;241m*\u001b[39margs, \u001b[38;5;241m*\u001b[39m\u001b[38;5;241m*\u001b[39mkwargs)\n\u001b[0;32m    188\u001b[0m func_sig \u001b[38;5;241m=\u001b[39m signature(func)\n\u001b[0;32m    190\u001b[0m \u001b[38;5;66;03m# Map *args/**kwargs to the function signature\u001b[39;00m\n",
      "File \u001b[1;32mc:\\Users\\miles\\anaconda3\\Lib\\site-packages\\sklearn\\metrics\\pairwise.py:539\u001b[0m, in \u001b[0;36mnan_euclidean_distances\u001b[1;34m(X, Y, squared, missing_values, copy)\u001b[0m\n\u001b[0;32m    537\u001b[0m present_X \u001b[38;5;241m=\u001b[39m \u001b[38;5;241m1\u001b[39m \u001b[38;5;241m-\u001b[39m missing_X\n\u001b[0;32m    538\u001b[0m present_Y \u001b[38;5;241m=\u001b[39m present_X \u001b[38;5;28;01mif\u001b[39;00m Y \u001b[38;5;129;01mis\u001b[39;00m X \u001b[38;5;28;01melse\u001b[39;00m \u001b[38;5;241m~\u001b[39mmissing_Y\n\u001b[1;32m--> 539\u001b[0m present_count \u001b[38;5;241m=\u001b[39m np\u001b[38;5;241m.\u001b[39mdot(present_X, present_Y\u001b[38;5;241m.\u001b[39mT)\n\u001b[0;32m    540\u001b[0m distances[present_count \u001b[38;5;241m==\u001b[39m \u001b[38;5;241m0\u001b[39m] \u001b[38;5;241m=\u001b[39m np\u001b[38;5;241m.\u001b[39mnan\n\u001b[0;32m    541\u001b[0m \u001b[38;5;66;03m# avoid divide by zero\u001b[39;00m\n",
      "\u001b[1;31mKeyboardInterrupt\u001b[0m: "
     ]
    }
   ],
   "source": [
    "# set seed to ensure reproducibility\n",
    "np.random.seed(25)\n",
    "\n",
    "# load the data\n",
    "ANES = pd.read_csv('data/ANES.csv')\n",
    "\n",
    "# remove rows with missing 'pocket', 'retro', and 'trumpft' values\n",
    "ANES = ANES.dropna(subset=['pocket', 'retro', 'trumpft'])\n",
    "\n",
    "# impute using k-nearest neighbors imputer\n",
    "imputer = KNNImputer(n_neighbors=5)\n",
    "ANES = pd.DataFrame(imputer.fit_transform(ANES), columns=ANES.columns)\n",
    "\n",
    "# add relevant columns 'pocketEval' and 'econEval'\n",
    "ANES['pocketEval'] = (ANES['pocket'] - 3) * (-1/2)\n",
    "ANES['econEval'] = (ANES['retro'] - 3) * (-1/2)"
   ]
  },
  {
   "cell_type": "markdown",
   "metadata": {},
   "source": [
    "## Perform Initial OLS Regressions (same as K&K)"
   ]
  },
  {
   "cell_type": "code",
   "execution_count": null,
   "metadata": {},
   "outputs": [
    {
     "name": "stdout",
     "output_type": "stream",
     "text": [
      "                            OLS Regression Results                            \n",
      "==============================================================================\n",
      "Dep. Variable:                trumpft   R-squared:                       0.327\n",
      "Model:                            OLS   Adj. R-squared:                  0.326\n",
      "Method:                 Least Squares   F-statistic:                     1939.\n",
      "Date:                Fri, 14 Mar 2025   Prob (F-statistic):               0.00\n",
      "Time:                        14:51:47   Log-Likelihood:                -39332.\n",
      "No. Observations:                7998   AIC:                         7.867e+04\n",
      "Df Residuals:                    7995   BIC:                         7.869e+04\n",
      "Df Model:                           2                                         \n",
      "Covariance Type:            nonrobust                                         \n",
      "==============================================================================\n",
      "                 coef    std err          t      P>|t|      [0.025      0.975]\n",
      "------------------------------------------------------------------------------\n",
      "const         52.5503      0.426    123.293      0.000      51.715      53.386\n",
      "pocketEval     5.3749      0.781      6.880      0.000       3.844       6.906\n",
      "econEval      33.8847      0.577     58.678      0.000      32.753      35.017\n",
      "==============================================================================\n",
      "Omnibus:                      283.666   Durbin-Watson:                   1.980\n",
      "Prob(Omnibus):                  0.000   Jarque-Bera (JB):              274.702\n",
      "Skew:                           0.413   Prob(JB):                     2.23e-60\n",
      "Kurtosis:                       2.621   Cond. No.                         2.41\n",
      "==============================================================================\n",
      "\n",
      "Notes:\n",
      "[1] Standard Errors assume that the covariance matrix of the errors is correctly specified.\n"
     ]
    }
   ],
   "source": [
    "# isolate the independent and dependent variables\n",
    "X_pocket = ANES[['pocketEval']]\n",
    "X_econ = ANES[['econEval']]\n",
    "X_ols = ANES[['pocketEval', 'econEval']]\n",
    "y = ANES['trumpft']\n",
    "\n",
    "# run the OLS regression for the pocket and econ evaluations\n",
    "X_ols = sm.add_constant(X_ols)\n",
    "model_ols = sm.OLS(y, X_ols).fit()\n",
    "print(model_ols.summary())\n",
    "\n",
    "# export the results to a .tex file\n",
    "with open('outputs/ols_results.tex', 'w') as tf:\n",
    "    tf.write(model_ols.summary().as_latex())\n"
   ]
  },
  {
   "cell_type": "markdown",
   "metadata": {},
   "source": [
    "## More Complex OLS Regressions (+ Covariates)"
   ]
  },
  {
   "cell_type": "code",
   "execution_count": null,
   "metadata": {},
   "outputs": [
    {
     "name": "stdout",
     "output_type": "stream",
     "text": [
      "                            OLS Regression Results                            \n",
      "==============================================================================\n",
      "Dep. Variable:                trumpft   R-squared:                       0.874\n",
      "Model:                            OLS   Adj. R-squared:                  0.874\n",
      "Method:                 Least Squares   F-statistic:                     1153.\n",
      "Date:                Fri, 14 Mar 2025   Prob (F-statistic):               0.00\n",
      "Time:                        14:51:48   Log-Likelihood:                -32617.\n",
      "No. Observations:                7998   AIC:                         6.533e+04\n",
      "Df Residuals:                    7949   BIC:                         6.567e+04\n",
      "Df Model:                          48                                         \n",
      "Covariance Type:            nonrobust                                         \n",
      "========================================================================================\n",
      "                           coef    std err          t      P>|t|      [0.025      0.975]\n",
      "----------------------------------------------------------------------------------------\n",
      "const                   35.5316      2.232     15.919      0.000      31.156      39.907\n",
      "pocketEval               0.3642      0.356      1.022      0.307      -0.334       1.062\n",
      "econEval                43.4219      2.681     16.196      0.000      38.166      48.678\n",
      "mode                    -0.4723      0.381     -1.241      0.215      -1.218       0.274\n",
      "prepost                  0.8758      0.643      1.361      0.174      -0.386       2.137\n",
      "sp_serv                 -0.1628      0.136     -1.193      0.233      -0.430       0.105\n",
      "sp_serv_biden           -0.7088      0.114     -6.243      0.000      -0.931      -0.486\n",
      "sp_serv_trump            0.6436      0.112      5.743      0.000       0.424       0.863\n",
      "jobs_living              0.1109      0.123      0.900      0.368      -0.131       0.353\n",
      "jobs_living_biden       -0.2042      0.126     -1.621      0.105      -0.451       0.043\n",
      "jobs_living_trump       -0.1953      0.129     -1.514      0.130      -0.448       0.058\n",
      "envir_business           1.3809      0.128     10.811      0.000       1.130       1.631\n",
      "envir_business_biden    -0.2280      0.129     -1.774      0.076      -0.480       0.024\n",
      "envir_business_trump    -0.7760      0.130     -5.971      0.000      -1.031      -0.521\n",
      "abortion                -0.6234      0.188     -3.314      0.001      -0.992      -0.255\n",
      "abortion_salience        0.1242      0.132      0.944      0.345      -0.134       0.382\n",
      "abortion_biden          -0.7885      0.205     -3.843      0.000      -1.191      -0.386\n",
      "abortion_trump           0.4399      0.193      2.281      0.023       0.062       0.818\n",
      "bible                   -0.6253      0.322     -1.939      0.053      -1.257       0.007\n",
      "adjust_change           -0.1111      0.145     -0.764      0.445      -0.396       0.174\n",
      "family_ties             -0.0995      0.088     -1.127      0.260      -0.273       0.074\n",
      "covid_approval          -9.8876      0.248    -39.897      0.000     -10.373      -9.402\n",
      "covid_response_speed    -1.0427      0.236     -4.416      0.000      -1.506      -0.580\n",
      "mail_in_attitude         0.6811      0.101      6.721      0.000       0.482       0.880\n",
      "police_treat             1.3278      0.171      7.777      0.000       0.993       1.662\n",
      "repro                   19.7508      1.341     14.731      0.000      17.123      22.379\n",
      "turnout                 -4.6926      1.610     -2.915      0.004      -7.848      -1.537\n",
      "mail_in                 -0.5477      0.225     -2.438      0.015      -0.988      -0.107\n",
      "stateFIPS               -0.0114      0.010     -1.120      0.263      -0.031       0.009\n",
      "attention_poli          -0.5025      0.176     -2.862      0.004      -0.847      -0.158\n",
      "age                     -0.0369      0.012     -3.147      0.002      -0.060      -0.014\n",
      "marital                 -0.0693      0.095     -0.728      0.467      -0.256       0.117\n",
      "educ                    -0.4157      0.282     -1.477      0.140      -0.968       0.136\n",
      "educ5                    0.9405      0.519      1.811      0.070      -0.078       1.959\n",
      "race                     0.1217      0.136      0.893      0.372      -0.145       0.389\n",
      "gender                   0.6101      0.349      1.746      0.081      -0.075       1.295\n",
      "income                  -0.0361      0.030     -1.214      0.225      -0.094       0.022\n",
      "ideology                 2.4434      0.173     14.115      0.000       2.104       2.783\n",
      "religion                 0.3251      0.154      2.112      0.035       0.023       0.627\n",
      "union                   -0.4667      0.474     -0.984      0.325      -1.397       0.463\n",
      "trans                   -0.1062      0.111     -0.960      0.337      -0.323       0.111\n",
      "immigration             -9.6936      0.235    -41.198      0.000     -10.155      -9.232\n",
      "gun_diff                 1.6220      0.214      7.566      0.000       1.202       2.042\n",
      "offensive_language       0.6154      0.185      3.331      0.001       0.253       0.978\n",
      "harassment              -0.1704      0.221     -0.770      0.441      -0.604       0.263\n",
      "no_children             -0.3251      0.438     -0.742      0.458      -1.184       0.534\n",
      "arrested                -0.8247      0.443     -1.862      0.063      -1.693       0.043\n",
      "feminist                 0.3310      0.239      1.384      0.166      -0.138       0.800\n",
      "flag                    -1.0303      0.380     -2.710      0.007      -1.775      -0.285\n",
      "shark                    1.7255      2.270      0.760      0.447      -2.725       6.176\n",
      "family_importance       -0.0995      0.088     -1.127      0.260      -0.273       0.074\n",
      "==============================================================================\n",
      "Omnibus:                      605.120   Durbin-Watson:                   1.989\n",
      "Prob(Omnibus):                  0.000   Jarque-Bera (JB):             3091.112\n",
      "Skew:                           0.155   Prob(JB):                         0.00\n",
      "Kurtosis:                       6.030   Cond. No.                     1.03e+16\n",
      "==============================================================================\n",
      "\n",
      "Notes:\n",
      "[1] Standard Errors assume that the covariance matrix of the errors is correctly specified.\n",
      "[2] The smallest eigenvalue is 3.21e-25. This might indicate that there are\n",
      "strong multicollinearity problems or that the design matrix is singular.\n"
     ]
    }
   ],
   "source": [
    "# create list of covariate columns\n",
    "covariates = ANES.columns.tolist()\n",
    "removed = ['trumpft', 'trumpft_post', 'pocket', 'retro', 'pocketEval', 'econEval', 'votepres',\n",
    "           'bidenft', 'bidenft_post', 'pid_lean', 'pid_strong', 'pid3', 'pid7']\n",
    "for col in removed:\n",
    "    covariates.remove(col)\n",
    "\n",
    "# run the OLS regression for the simultaneous pocket and econ evaluations with covariates\n",
    "regression_cols = ['pocketEval', 'econEval'] + covariates\n",
    "X_ols_covs = ANES[regression_cols]\n",
    "X_ols_covs = sm.add_constant(X_ols_covs)\n",
    "model_ols_covs = sm.OLS(y, X_ols_covs).fit()\n",
    "print(model_ols_covs.summary())\n",
    "\n",
    "# export the results to a .tex file\n",
    "with open('outputs/ols_covs_results.tex', 'w') as tf:\n",
    "    tf.write(model_ols_covs.summary().as_latex())"
   ]
  },
  {
   "cell_type": "markdown",
   "metadata": {},
   "source": [
    "## Train/Test Split"
   ]
  },
  {
   "cell_type": "code",
   "execution_count": null,
   "metadata": {},
   "outputs": [
    {
     "name": "stdout",
     "output_type": "stream",
     "text": [
      "   pocketEval  mode  prepost   sp_serv  sp_serv_biden  sp_serv_trump  \\\n",
      "0         1.0   1.0      1.0  0.066667       1.000000       0.000000   \n",
      "1        -1.0   1.0     -1.0  0.600000       1.000000      -1.000000   \n",
      "2         0.0   1.0      1.0 -0.333333       1.000000      -0.666667   \n",
      "3         0.5   1.0      1.0  1.000000      -0.333333      -1.000000   \n",
      "4         1.0   1.0      1.0  0.333333       0.000000      -0.666667   \n",
      "\n",
      "   jobs_living  jobs_living_biden  jobs_living_trump  envir_business  ...  \\\n",
      "0     0.000000           0.000000           0.000000       -0.066667  ...   \n",
      "1     0.666667          -0.333333          -1.000000       -1.000000  ...   \n",
      "2     0.000000          -1.000000           0.666667        0.333333  ...   \n",
      "3     0.000000           0.000000           1.000000       -0.333333  ...   \n",
      "4    -0.666667           0.000000           0.666667       -1.000000  ...   \n",
      "\n",
      "   immigration  gun_diff  offensive_language  harassment  no_children  \\\n",
      "0    -1.000000       1.0            1.000000         1.0          1.0   \n",
      "1     1.000000      -0.2           -1.000000         0.6          0.6   \n",
      "2     0.333333      -1.0            1.000000        -1.0         -1.0   \n",
      "3     1.000000      -1.0           -0.333333         1.0          1.0   \n",
      "4     1.000000      -1.0           -0.333333         0.0          1.0   \n",
      "\n",
      "   arrested  feminist  flag  shark  family_importance  \n",
      "0       1.0       1.0  -1.0    1.0               -1.0  \n",
      "1       0.6      -0.2   0.6    1.0                0.3  \n",
      "2      -1.0       1.0   1.0    1.0                0.0  \n",
      "3       1.0       1.0   1.0    1.0                0.5  \n",
      "4       1.0      -1.0   1.0    1.0                1.0  \n",
      "\n",
      "[5 rows x 49 columns]\n",
      "now econ\n",
      "   econEval  mode  prepost   sp_serv  sp_serv_biden  sp_serv_trump  \\\n",
      "0      -0.5   1.0      1.0  0.066667       1.000000       0.000000   \n",
      "1      -1.0   1.0     -1.0  0.600000       1.000000      -1.000000   \n",
      "2      -1.0   1.0      1.0 -0.333333       1.000000      -0.666667   \n",
      "3      -1.0   1.0      1.0  1.000000      -0.333333      -1.000000   \n",
      "4      -1.0   1.0      1.0  0.333333       0.000000      -0.666667   \n",
      "\n",
      "   jobs_living  jobs_living_biden  jobs_living_trump  envir_business  ...  \\\n",
      "0     0.000000           0.000000           0.000000       -0.066667  ...   \n",
      "1     0.666667          -0.333333          -1.000000       -1.000000  ...   \n",
      "2     0.000000          -1.000000           0.666667        0.333333  ...   \n",
      "3     0.000000           0.000000           1.000000       -0.333333  ...   \n",
      "4    -0.666667           0.000000           0.666667       -1.000000  ...   \n",
      "\n",
      "   immigration  gun_diff  offensive_language  harassment  no_children  \\\n",
      "0    -1.000000       1.0            1.000000         1.0          1.0   \n",
      "1     1.000000      -0.2           -1.000000         0.6          0.6   \n",
      "2     0.333333      -1.0            1.000000        -1.0         -1.0   \n",
      "3     1.000000      -1.0           -0.333333         1.0          1.0   \n",
      "4     1.000000      -1.0           -0.333333         0.0          1.0   \n",
      "\n",
      "   arrested  feminist  flag  shark  family_importance  \n",
      "0       1.0       1.0  -1.0    1.0               -1.0  \n",
      "1       0.6      -0.2   0.6    1.0                0.3  \n",
      "2      -1.0       1.0   1.0    1.0                0.0  \n",
      "3       1.0       1.0   1.0    1.0                0.5  \n",
      "4       1.0      -1.0   1.0    1.0                1.0  \n",
      "\n",
      "[5 rows x 49 columns]\n"
     ]
    }
   ],
   "source": [
    "# define X pocket_cov and X econ_cov\n",
    "X_pocket_cov = ANES[['pocketEval'] + covariates]\n",
    "X_econ_cov = ANES[['econEval'] + covariates]\n",
    "\n",
    "# train test split the pocket and econ + covariate data\n",
    "X_pocket_cov_train, X_pocket_cov_test, y_train_pocket, y_test_pocket = train_test_split(X_pocket_cov, y, test_size=0.2, random_state=25)\n",
    "X_econ_cov_train, X_econ_cov_test, y_train_econ, y_test_econ = train_test_split(X_econ_cov, y, test_size=0.2, random_state=25)\n",
    "\n",
    "# standardize the data\n",
    "#scaler = StandardScaler()\n",
    "scaler = MinMaxScaler(feature_range=(-1, 1))\n",
    "X_pocket_cov_train = scaler.fit_transform(X_pocket_cov_train)\n",
    "X_pocket_cov_test = scaler.transform(X_pocket_cov_test)\n",
    "X_econ_cov_train = scaler.fit_transform(X_econ_cov_train)\n",
    "X_econ_cov_test = scaler.transform(X_econ_cov_test)\n",
    "\n",
    "X_pocket_cov_train = pd.DataFrame(X_pocket_cov_train, columns=X_pocket_cov.columns)\n",
    "X_pocket_cov_test = pd.DataFrame(X_pocket_cov_test, columns=X_pocket_cov.columns)\n",
    "X_econ_cov_train = pd.DataFrame(X_econ_cov_train, columns=X_econ_cov.columns)\n",
    "X_econ_cov_test = pd.DataFrame(X_econ_cov_test, columns=X_econ_cov.columns)\n",
    "\n",
    "print(X_pocket_cov_train.head())\n",
    "print(\"now econ\")\n",
    "print(X_econ_cov_train.head())\n",
    "#scaler_y = StandardScaler()\n",
    "scaler_y = MinMaxScaler(feature_range=(-1, 1))\n",
    "y_train_pocket = scaler_y.fit_transform(y_train_pocket.values.reshape(-1, 1))\n",
    "y_test_pocket = scaler_y.transform(y_test_pocket.values.reshape(-1, 1))\n",
    "y_train_econ = scaler_y.fit_transform(y_train_econ.values.reshape(-1, 1))\n",
    "y_test_econ = scaler_y.transform(y_test_econ.values.reshape(-1, 1))\n",
    "\n",
    "y_train_pocket = pd.DataFrame(y_train_pocket, columns=['trumpft'])\n",
    "y_test_pocket = pd.DataFrame(y_test_pocket, columns=['trumpft'])\n",
    "y_train_econ = pd.DataFrame(y_train_econ, columns=['trumpft'])\n",
    "y_test_econ = pd.DataFrame(y_test_econ, columns=['trumpft'])\n",
    "#'''\n"
   ]
  },
  {
   "cell_type": "markdown",
   "metadata": {},
   "source": [
    "## LASSO Regression"
   ]
  },
  {
   "cell_type": "code",
   "execution_count": null,
   "metadata": {},
   "outputs": [
    {
     "name": "stdout",
     "output_type": "stream",
     "text": [
      "Test accuracy for pocketEval model: 0.8426387636790768\n",
      "Test accuracy for econEval model: 0.8426388156435495\n",
      "Selected features for pocketEval model:\n",
      "Index(['envir_business', 'covid_approval', 'ideology', 'trans', 'immigration',\n",
      "       'gun_diff'],\n",
      "      dtype='object')\n",
      "Number of selected features: 6\n",
      "Selected features for econEval model:\n",
      "Index(['envir_business', 'covid_approval', 'ideology', 'trans', 'immigration',\n",
      "       'gun_diff'],\n",
      "      dtype='object')\n",
      "Number of selected features: 6\n"
     ]
    }
   ],
   "source": [
    "\n",
    "# fit LASSO models\n",
    "lasso_pocket = Lasso(alpha=0.05, random_state=25)\n",
    "lasso_pocket.fit(X_pocket_cov_train, y_train_pocket)\n",
    "\n",
    "lasso_econ = Lasso(alpha=0.05, random_state=25)\n",
    "lasso_econ.fit(X_econ_cov_train, y_train_econ)\n",
    "\n",
    "# compute test accuracy for the models\n",
    "print('Test accuracy for pocketEval model:', lasso_pocket.score(X_pocket_cov_test, y_test_pocket))\n",
    "print('Test accuracy for econEval model:', lasso_econ.score(X_econ_cov_test, y_test_econ))\n",
    "\n",
    "# compare the selected features for the two models\n",
    "print('Selected features for pocketEval model:')\n",
    "print(X_pocket_cov.columns[lasso_pocket.coef_ != 0])\n",
    "print('Number of selected features:', sum(lasso_pocket.coef_ != 0))\n",
    "\n",
    "print('Selected features for econEval model:')\n",
    "print(X_econ_cov.columns[lasso_econ.coef_ != 0])\n",
    "print('Number of selected features:', sum(lasso_econ.coef_ != 0))"
   ]
  },
  {
   "cell_type": "markdown",
   "metadata": {},
   "source": [
    "## Neural Network (?)"
   ]
  },
  {
   "cell_type": "code",
   "execution_count": null,
   "metadata": {},
   "outputs": [
    {
     "name": "stdout",
     "output_type": "stream",
     "text": [
      "Epoch 1, Train Loss: 0.38449468836188316, Test Loss: 0.09906375542283058\n",
      "Epoch 2, Train Loss: 0.1901361807435751, Test Loss: 0.08979073822498322\n"
     ]
    },
    {
     "ename": "KeyboardInterrupt",
     "evalue": "",
     "output_type": "error",
     "traceback": [
      "\u001b[1;31m---------------------------------------------------------------------------\u001b[0m",
      "\u001b[1;31mKeyboardInterrupt\u001b[0m                         Traceback (most recent call last)",
      "Cell \u001b[1;32mIn[161], line 80\u001b[0m\n\u001b[0;32m     77\u001b[0m             test_losses\u001b[38;5;241m.\u001b[39mappend(test_loss \u001b[38;5;241m/\u001b[39m \u001b[38;5;28mlen\u001b[39m(test_loader))\n\u001b[0;32m     78\u001b[0m     \u001b[38;5;28;01mreturn\u001b[39;00m anes_net, test_loader\n\u001b[1;32m---> 80\u001b[0m anes_net_pocket, anes_loader \u001b[38;5;241m=\u001b[39m train_model(X_pocket_cov_train, y_train_pocket, X_pocket_cov_test, y_test_pocket, input_dim, hidden_dim, output_dim)\n",
      "Cell \u001b[1;32mIn[161], line 65\u001b[0m, in \u001b[0;36mtrain_model\u001b[1;34m(X_train_model, y_train_model, X_test_model, y_test_model, input_dim, hidden_dim, output_dim, n_epochs)\u001b[0m\n\u001b[0;32m     63\u001b[0m     loss \u001b[38;5;241m=\u001b[39m criterion(output, y_batch)\n\u001b[0;32m     64\u001b[0m     loss\u001b[38;5;241m.\u001b[39mbackward()\n\u001b[1;32m---> 65\u001b[0m     optimizer\u001b[38;5;241m.\u001b[39mstep()\n\u001b[0;32m     66\u001b[0m     train_loss \u001b[38;5;241m+\u001b[39m\u001b[38;5;241m=\u001b[39m loss\u001b[38;5;241m.\u001b[39mitem()\n\u001b[0;32m     67\u001b[0m train_losses\u001b[38;5;241m.\u001b[39mappend(train_loss \u001b[38;5;241m/\u001b[39m \u001b[38;5;28mlen\u001b[39m(train_loader))\n",
      "File \u001b[1;32mc:\\Users\\miles\\anaconda3\\Lib\\site-packages\\torch\\optim\\optimizer.py:487\u001b[0m, in \u001b[0;36mOptimizer.profile_hook_step.<locals>.wrapper\u001b[1;34m(*args, **kwargs)\u001b[0m\n\u001b[0;32m    482\u001b[0m         \u001b[38;5;28;01melse\u001b[39;00m:\n\u001b[0;32m    483\u001b[0m             \u001b[38;5;28;01mraise\u001b[39;00m \u001b[38;5;167;01mRuntimeError\u001b[39;00m(\n\u001b[0;32m    484\u001b[0m                 \u001b[38;5;124mf\u001b[39m\u001b[38;5;124m\"\u001b[39m\u001b[38;5;132;01m{\u001b[39;00mfunc\u001b[38;5;132;01m}\u001b[39;00m\u001b[38;5;124m must return None or a tuple of (new_args, new_kwargs), but got \u001b[39m\u001b[38;5;132;01m{\u001b[39;00mresult\u001b[38;5;132;01m}\u001b[39;00m\u001b[38;5;124m.\u001b[39m\u001b[38;5;124m\"\u001b[39m\n\u001b[0;32m    485\u001b[0m             )\n\u001b[1;32m--> 487\u001b[0m out \u001b[38;5;241m=\u001b[39m func(\u001b[38;5;241m*\u001b[39margs, \u001b[38;5;241m*\u001b[39m\u001b[38;5;241m*\u001b[39mkwargs)\n\u001b[0;32m    488\u001b[0m \u001b[38;5;28mself\u001b[39m\u001b[38;5;241m.\u001b[39m_optimizer_step_code()\n\u001b[0;32m    490\u001b[0m \u001b[38;5;66;03m# call optimizer step post hooks\u001b[39;00m\n",
      "File \u001b[1;32mc:\\Users\\miles\\anaconda3\\Lib\\site-packages\\torch\\optim\\optimizer.py:91\u001b[0m, in \u001b[0;36m_use_grad_for_differentiable.<locals>._use_grad\u001b[1;34m(self, *args, **kwargs)\u001b[0m\n\u001b[0;32m     89\u001b[0m     torch\u001b[38;5;241m.\u001b[39mset_grad_enabled(\u001b[38;5;28mself\u001b[39m\u001b[38;5;241m.\u001b[39mdefaults[\u001b[38;5;124m\"\u001b[39m\u001b[38;5;124mdifferentiable\u001b[39m\u001b[38;5;124m\"\u001b[39m])\n\u001b[0;32m     90\u001b[0m     torch\u001b[38;5;241m.\u001b[39m_dynamo\u001b[38;5;241m.\u001b[39mgraph_break()\n\u001b[1;32m---> 91\u001b[0m     ret \u001b[38;5;241m=\u001b[39m func(\u001b[38;5;28mself\u001b[39m, \u001b[38;5;241m*\u001b[39margs, \u001b[38;5;241m*\u001b[39m\u001b[38;5;241m*\u001b[39mkwargs)\n\u001b[0;32m     92\u001b[0m \u001b[38;5;28;01mfinally\u001b[39;00m:\n\u001b[0;32m     93\u001b[0m     torch\u001b[38;5;241m.\u001b[39m_dynamo\u001b[38;5;241m.\u001b[39mgraph_break()\n",
      "File \u001b[1;32mc:\\Users\\miles\\anaconda3\\Lib\\site-packages\\torch\\optim\\adam.py:223\u001b[0m, in \u001b[0;36mAdam.step\u001b[1;34m(self, closure)\u001b[0m\n\u001b[0;32m    211\u001b[0m     beta1, beta2 \u001b[38;5;241m=\u001b[39m group[\u001b[38;5;124m\"\u001b[39m\u001b[38;5;124mbetas\u001b[39m\u001b[38;5;124m\"\u001b[39m]\n\u001b[0;32m    213\u001b[0m     has_complex \u001b[38;5;241m=\u001b[39m \u001b[38;5;28mself\u001b[39m\u001b[38;5;241m.\u001b[39m_init_group(\n\u001b[0;32m    214\u001b[0m         group,\n\u001b[0;32m    215\u001b[0m         params_with_grad,\n\u001b[1;32m   (...)\u001b[0m\n\u001b[0;32m    220\u001b[0m         state_steps,\n\u001b[0;32m    221\u001b[0m     )\n\u001b[1;32m--> 223\u001b[0m     adam(\n\u001b[0;32m    224\u001b[0m         params_with_grad,\n\u001b[0;32m    225\u001b[0m         grads,\n\u001b[0;32m    226\u001b[0m         exp_avgs,\n\u001b[0;32m    227\u001b[0m         exp_avg_sqs,\n\u001b[0;32m    228\u001b[0m         max_exp_avg_sqs,\n\u001b[0;32m    229\u001b[0m         state_steps,\n\u001b[0;32m    230\u001b[0m         amsgrad\u001b[38;5;241m=\u001b[39mgroup[\u001b[38;5;124m\"\u001b[39m\u001b[38;5;124mamsgrad\u001b[39m\u001b[38;5;124m\"\u001b[39m],\n\u001b[0;32m    231\u001b[0m         has_complex\u001b[38;5;241m=\u001b[39mhas_complex,\n\u001b[0;32m    232\u001b[0m         beta1\u001b[38;5;241m=\u001b[39mbeta1,\n\u001b[0;32m    233\u001b[0m         beta2\u001b[38;5;241m=\u001b[39mbeta2,\n\u001b[0;32m    234\u001b[0m         lr\u001b[38;5;241m=\u001b[39mgroup[\u001b[38;5;124m\"\u001b[39m\u001b[38;5;124mlr\u001b[39m\u001b[38;5;124m\"\u001b[39m],\n\u001b[0;32m    235\u001b[0m         weight_decay\u001b[38;5;241m=\u001b[39mgroup[\u001b[38;5;124m\"\u001b[39m\u001b[38;5;124mweight_decay\u001b[39m\u001b[38;5;124m\"\u001b[39m],\n\u001b[0;32m    236\u001b[0m         eps\u001b[38;5;241m=\u001b[39mgroup[\u001b[38;5;124m\"\u001b[39m\u001b[38;5;124meps\u001b[39m\u001b[38;5;124m\"\u001b[39m],\n\u001b[0;32m    237\u001b[0m         maximize\u001b[38;5;241m=\u001b[39mgroup[\u001b[38;5;124m\"\u001b[39m\u001b[38;5;124mmaximize\u001b[39m\u001b[38;5;124m\"\u001b[39m],\n\u001b[0;32m    238\u001b[0m         foreach\u001b[38;5;241m=\u001b[39mgroup[\u001b[38;5;124m\"\u001b[39m\u001b[38;5;124mforeach\u001b[39m\u001b[38;5;124m\"\u001b[39m],\n\u001b[0;32m    239\u001b[0m         capturable\u001b[38;5;241m=\u001b[39mgroup[\u001b[38;5;124m\"\u001b[39m\u001b[38;5;124mcapturable\u001b[39m\u001b[38;5;124m\"\u001b[39m],\n\u001b[0;32m    240\u001b[0m         differentiable\u001b[38;5;241m=\u001b[39mgroup[\u001b[38;5;124m\"\u001b[39m\u001b[38;5;124mdifferentiable\u001b[39m\u001b[38;5;124m\"\u001b[39m],\n\u001b[0;32m    241\u001b[0m         fused\u001b[38;5;241m=\u001b[39mgroup[\u001b[38;5;124m\"\u001b[39m\u001b[38;5;124mfused\u001b[39m\u001b[38;5;124m\"\u001b[39m],\n\u001b[0;32m    242\u001b[0m         grad_scale\u001b[38;5;241m=\u001b[39m\u001b[38;5;28mgetattr\u001b[39m(\u001b[38;5;28mself\u001b[39m, \u001b[38;5;124m\"\u001b[39m\u001b[38;5;124mgrad_scale\u001b[39m\u001b[38;5;124m\"\u001b[39m, \u001b[38;5;28;01mNone\u001b[39;00m),\n\u001b[0;32m    243\u001b[0m         found_inf\u001b[38;5;241m=\u001b[39m\u001b[38;5;28mgetattr\u001b[39m(\u001b[38;5;28mself\u001b[39m, \u001b[38;5;124m\"\u001b[39m\u001b[38;5;124mfound_inf\u001b[39m\u001b[38;5;124m\"\u001b[39m, \u001b[38;5;28;01mNone\u001b[39;00m),\n\u001b[0;32m    244\u001b[0m     )\n\u001b[0;32m    246\u001b[0m \u001b[38;5;28;01mreturn\u001b[39;00m loss\n",
      "File \u001b[1;32mc:\\Users\\miles\\anaconda3\\Lib\\site-packages\\torch\\optim\\optimizer.py:154\u001b[0m, in \u001b[0;36m_disable_dynamo_if_unsupported.<locals>.wrapper.<locals>.maybe_fallback\u001b[1;34m(*args, **kwargs)\u001b[0m\n\u001b[0;32m    152\u001b[0m     \u001b[38;5;28;01mreturn\u001b[39;00m disabled_func(\u001b[38;5;241m*\u001b[39margs, \u001b[38;5;241m*\u001b[39m\u001b[38;5;241m*\u001b[39mkwargs)\n\u001b[0;32m    153\u001b[0m \u001b[38;5;28;01melse\u001b[39;00m:\n\u001b[1;32m--> 154\u001b[0m     \u001b[38;5;28;01mreturn\u001b[39;00m func(\u001b[38;5;241m*\u001b[39margs, \u001b[38;5;241m*\u001b[39m\u001b[38;5;241m*\u001b[39mkwargs)\n",
      "File \u001b[1;32mc:\\Users\\miles\\anaconda3\\Lib\\site-packages\\torch\\optim\\adam.py:784\u001b[0m, in \u001b[0;36madam\u001b[1;34m(params, grads, exp_avgs, exp_avg_sqs, max_exp_avg_sqs, state_steps, foreach, capturable, differentiable, fused, grad_scale, found_inf, has_complex, amsgrad, beta1, beta2, lr, weight_decay, eps, maximize)\u001b[0m\n\u001b[0;32m    781\u001b[0m \u001b[38;5;28;01melse\u001b[39;00m:\n\u001b[0;32m    782\u001b[0m     func \u001b[38;5;241m=\u001b[39m _single_tensor_adam\n\u001b[1;32m--> 784\u001b[0m func(\n\u001b[0;32m    785\u001b[0m     params,\n\u001b[0;32m    786\u001b[0m     grads,\n\u001b[0;32m    787\u001b[0m     exp_avgs,\n\u001b[0;32m    788\u001b[0m     exp_avg_sqs,\n\u001b[0;32m    789\u001b[0m     max_exp_avg_sqs,\n\u001b[0;32m    790\u001b[0m     state_steps,\n\u001b[0;32m    791\u001b[0m     amsgrad\u001b[38;5;241m=\u001b[39mamsgrad,\n\u001b[0;32m    792\u001b[0m     has_complex\u001b[38;5;241m=\u001b[39mhas_complex,\n\u001b[0;32m    793\u001b[0m     beta1\u001b[38;5;241m=\u001b[39mbeta1,\n\u001b[0;32m    794\u001b[0m     beta2\u001b[38;5;241m=\u001b[39mbeta2,\n\u001b[0;32m    795\u001b[0m     lr\u001b[38;5;241m=\u001b[39mlr,\n\u001b[0;32m    796\u001b[0m     weight_decay\u001b[38;5;241m=\u001b[39mweight_decay,\n\u001b[0;32m    797\u001b[0m     eps\u001b[38;5;241m=\u001b[39meps,\n\u001b[0;32m    798\u001b[0m     maximize\u001b[38;5;241m=\u001b[39mmaximize,\n\u001b[0;32m    799\u001b[0m     capturable\u001b[38;5;241m=\u001b[39mcapturable,\n\u001b[0;32m    800\u001b[0m     differentiable\u001b[38;5;241m=\u001b[39mdifferentiable,\n\u001b[0;32m    801\u001b[0m     grad_scale\u001b[38;5;241m=\u001b[39mgrad_scale,\n\u001b[0;32m    802\u001b[0m     found_inf\u001b[38;5;241m=\u001b[39mfound_inf,\n\u001b[0;32m    803\u001b[0m )\n",
      "File \u001b[1;32mc:\\Users\\miles\\anaconda3\\Lib\\site-packages\\torch\\optim\\adam.py:414\u001b[0m, in \u001b[0;36m_single_tensor_adam\u001b[1;34m(params, grads, exp_avgs, exp_avg_sqs, max_exp_avg_sqs, state_steps, grad_scale, found_inf, amsgrad, has_complex, beta1, beta2, lr, weight_decay, eps, maximize, capturable, differentiable)\u001b[0m\n\u001b[0;32m    412\u001b[0m     param\u001b[38;5;241m.\u001b[39maddcdiv_(exp_avg, denom)\n\u001b[0;32m    413\u001b[0m \u001b[38;5;28;01melse\u001b[39;00m:\n\u001b[1;32m--> 414\u001b[0m     step \u001b[38;5;241m=\u001b[39m _get_value(step_t)\n\u001b[0;32m    416\u001b[0m     bias_correction1 \u001b[38;5;241m=\u001b[39m \u001b[38;5;241m1\u001b[39m \u001b[38;5;241m-\u001b[39m beta1\u001b[38;5;241m*\u001b[39m\u001b[38;5;241m*\u001b[39mstep\n\u001b[0;32m    417\u001b[0m     bias_correction2 \u001b[38;5;241m=\u001b[39m \u001b[38;5;241m1\u001b[39m \u001b[38;5;241m-\u001b[39m beta2\u001b[38;5;241m*\u001b[39m\u001b[38;5;241m*\u001b[39mstep\n",
      "File \u001b[1;32mc:\\Users\\miles\\anaconda3\\Lib\\site-packages\\torch\\optim\\optimizer.py:106\u001b[0m, in \u001b[0;36m_get_value\u001b[1;34m(x)\u001b[0m\n\u001b[0;32m    104\u001b[0m     \u001b[38;5;28;01mreturn\u001b[39;00m x\n\u001b[0;32m    105\u001b[0m \u001b[38;5;28;01melse\u001b[39;00m:\n\u001b[1;32m--> 106\u001b[0m     \u001b[38;5;28;01mreturn\u001b[39;00m x\u001b[38;5;241m.\u001b[39mitem() \u001b[38;5;28;01mif\u001b[39;00m \u001b[38;5;28misinstance\u001b[39m(x, torch\u001b[38;5;241m.\u001b[39mTensor) \u001b[38;5;28;01melse\u001b[39;00m x\n",
      "\u001b[1;31mKeyboardInterrupt\u001b[0m: "
     ]
    }
   ],
   "source": [
    "# train a neural network on pocketEval model\n",
    "class ANESDataset(Dataset):\n",
    "    def __init__(self, X, y):\n",
    "        self.X = torch.tensor(X.values, dtype=torch.float32)\n",
    "        self.y = torch.tensor(y.values, dtype=torch.float32).reshape(-1, 1)\n",
    "\n",
    "    def __len__(self):\n",
    "        return len(self.X)\n",
    "\n",
    "    def __getitem__(self, idx):\n",
    "        return self.X[idx], self.y[idx]\n",
    "\n",
    "class ANESNet(nn.Module):\n",
    "    def __init__(self, input_dim, hidden_dim, output_dim):\n",
    "        super(ANESNet, self).__init__()\n",
    "        self.fc1 = nn.Linear(input_dim, hidden_dim)\n",
    "        self.bn1 = nn.BatchNorm1d(hidden_dim)\n",
    "        self.fc2 = nn.Linear(hidden_dim, hidden_dim)\n",
    "        self.bn2 = nn.BatchNorm1d(hidden_dim)\n",
    "        self.fc3 = nn.Linear(hidden_dim, hidden_dim)\n",
    "        self.bn3 = nn.BatchNorm1d(hidden_dim)\n",
    "        self.fc4 = nn.Linear(hidden_dim, output_dim)\n",
    "        self.relu = nn.ReLU()\n",
    "        self.dropout = nn.Dropout(0.5)\n",
    "\n",
    "    def forward(self, x):\n",
    "        x = self.relu(self.bn1(self.fc1(x)))\n",
    "        x = self.dropout(x)\n",
    "        x = self.relu(self.bn2(self.fc2(x)))\n",
    "        x = self.dropout(x)\n",
    "        x = self.relu(self.bn3(self.fc3(x)))\n",
    "        x = self.dropout(x)\n",
    "        x = self.fc4(x)\n",
    "        return x\n",
    "\n",
    "input_dim = X_pocket_cov_train.shape[1]\n",
    "hidden_dim = 100\n",
    "output_dim = 1\n",
    "\n",
    "\n",
    "\n",
    "def train_model(X_train_model, y_train_model, X_test_model, y_test_model, input_dim, hidden_dim, output_dim, n_epochs=50):\n",
    "    anes_net = ANESNet(input_dim, hidden_dim, output_dim)\n",
    "\n",
    "    criterion = nn.MSELoss()\n",
    "    optimizer = optim.Adam(anes_net.parameters(), lr=0.001)\n",
    "\n",
    "    anes_train = ANESDataset(X_train_model, y_train_model)\n",
    "    anes_test = ANESDataset(X_test_model, y_test_model)\n",
    "\n",
    "    train_loader = DataLoader(anes_train, batch_size=64, shuffle=True)\n",
    "    test_loader = DataLoader(anes_test, batch_size=64, shuffle=False)\n",
    "\n",
    "\n",
    "    train_losses = []\n",
    "    test_losses = []\n",
    "    for epoch in range(n_epochs):\n",
    "        anes_net.train()\n",
    "        train_loss = 0\n",
    "        for X_batch, y_batch in train_loader:\n",
    "            optimizer.zero_grad()\n",
    "            output = anes_net(X_batch)\n",
    "            loss = criterion(output, y_batch)\n",
    "            loss.backward()\n",
    "            optimizer.step()\n",
    "            train_loss += loss.item()\n",
    "        train_losses.append(train_loss / len(train_loader))\n",
    "\n",
    "        anes_net.eval()\n",
    "        test_loss = 0\n",
    "        with torch.no_grad():\n",
    "            for X_batch, y_batch in test_loader:\n",
    "                output = anes_net(X_batch)\n",
    "                loss = criterion(output, y_batch)\n",
    "                test_loss += loss.item()\n",
    "            print(f'Epoch {epoch + 1}, Train Loss: {train_losses[-1]}, Test Loss: {test_loss / len(test_loader)}')\n",
    "            test_losses.append(test_loss / len(test_loader))\n",
    "    return anes_net, test_loader\n",
    "\n",
    "anes_net_pocket, anes_loader = train_model(X_pocket_cov_train, y_train_pocket, X_pocket_cov_test, y_test_pocket, input_dim, hidden_dim, output_dim)"
   ]
  },
  {
   "cell_type": "code",
   "execution_count": null,
   "metadata": {},
   "outputs": [
    {
     "data": {
      "image/png": "[encoded data removed]",
      "text/plain": [
       "<Figure size 640x480 with 1 Axes>"
      ]
     },
     "metadata": {},
     "output_type": "display_data"
    }
   ],
   "source": [
    "anes_net_pocket.eval()\n",
    "pocket_predictions = []\n",
    "with torch.no_grad():\n",
    "    for X_batch, y_batch in anes_loader:\n",
    "        output = anes_net_pocket(X_batch)\n",
    "        pocket_predictions.extend(output.numpy().flatten())\n",
    "\n",
    "# plot the predictions vs. true values\n",
    "plt.scatter(y_test_pocket, pocket_predictions)\n",
    "plt.xlabel('True Values')\n",
    "plt.ylabel('Predictions')\n",
    "plt.title('Predictions vs. True Values')\n",
    "plt.show()\n"
   ]
  },
  {
   "cell_type": "code",
   "execution_count": null,
   "metadata": {},
   "outputs": [
    {
     "name": "stdout",
     "output_type": "stream",
     "text": [
      "Epoch 1, Train Loss: 0.3755370868742466, Test Loss: 0.10413898885250092\n",
      "Epoch 2, Train Loss: 0.19457285307347774, Test Loss: 0.08734277918934823\n",
      "Epoch 3, Train Loss: 0.14640294663608075, Test Loss: 0.08557519480586052\n",
      "Epoch 4, Train Loss: 0.13054918736219406, Test Loss: 0.08648271590471268\n",
      "Epoch 5, Train Loss: 0.13301377207040788, Test Loss: 0.08827482208609581\n",
      "Epoch 6, Train Loss: 0.12705309301614762, Test Loss: 0.09014478474855422\n",
      "Epoch 7, Train Loss: 0.12346332833170891, Test Loss: 0.08661933168768883\n",
      "Epoch 8, Train Loss: 0.11509611118584871, Test Loss: 0.08413646891713142\n",
      "Epoch 9, Train Loss: 0.11439930751919747, Test Loss: 0.08417053654789924\n",
      "Epoch 10, Train Loss: 0.11265776157379151, Test Loss: 0.08411642253398895\n",
      "Epoch 11, Train Loss: 0.1162235001474619, Test Loss: 0.08903722643852234\n",
      "Epoch 12, Train Loss: 0.11155523460358381, Test Loss: 0.08391730904579163\n",
      "Epoch 13, Train Loss: 0.11097091622650623, Test Loss: 0.08243642300367356\n",
      "Epoch 14, Train Loss: 0.10602866627275943, Test Loss: 0.08359700173139573\n",
      "Epoch 15, Train Loss: 0.11068338476121425, Test Loss: 0.08249160096049309\n",
      "Epoch 16, Train Loss: 0.10989342406392097, Test Loss: 0.08434758931398392\n",
      "Epoch 17, Train Loss: 0.10498695719987154, Test Loss: 0.08255610898137093\n",
      "Epoch 18, Train Loss: 0.10502119909971952, Test Loss: 0.08065327361226082\n",
      "Epoch 19, Train Loss: 0.10861891314387322, Test Loss: 0.08061507925391197\n",
      "Epoch 20, Train Loss: 0.10738332401961088, Test Loss: 0.08235060319304466\n",
      "Epoch 21, Train Loss: 0.10262586180120707, Test Loss: 0.08344975784420967\n",
      "Epoch 22, Train Loss: 0.101677384711802, Test Loss: 0.08118566781282426\n",
      "Epoch 23, Train Loss: 0.10093049496412278, Test Loss: 0.08184498265385627\n",
      "Epoch 24, Train Loss: 0.09962230142205954, Test Loss: 0.08130297794938088\n",
      "Epoch 25, Train Loss: 0.10015076331794262, Test Loss: 0.08078089758753776\n",
      "Epoch 26, Train Loss: 0.0984313352778554, Test Loss: 0.08142800837755203\n",
      "Epoch 27, Train Loss: 0.1047236831113696, Test Loss: 0.07982145205140113\n",
      "Epoch 28, Train Loss: 0.09872146304696798, Test Loss: 0.08060976311564445\n",
      "Epoch 29, Train Loss: 0.09956471506506205, Test Loss: 0.08696943402290344\n",
      "Epoch 30, Train Loss: 0.09979301162064075, Test Loss: 0.08021904096007347\n",
      "Epoch 31, Train Loss: 0.10102396108210086, Test Loss: 0.08409012079238892\n",
      "Epoch 32, Train Loss: 0.10125492572784424, Test Loss: 0.0810896810889244\n",
      "Epoch 33, Train Loss: 0.09750191945582629, Test Loss: 0.08015931665897369\n",
      "Epoch 34, Train Loss: 0.09500709943473339, Test Loss: 0.08139586895704269\n",
      "Epoch 35, Train Loss: 0.09683719255030156, Test Loss: 0.0814136616885662\n",
      "Epoch 36, Train Loss: 0.10003280736505986, Test Loss: 0.08401954412460327\n",
      "Epoch 37, Train Loss: 0.09664840310811997, Test Loss: 0.0809655487537384\n",
      "Epoch 38, Train Loss: 0.09650809407234191, Test Loss: 0.0795862352848053\n",
      "Epoch 39, Train Loss: 0.09732735026627778, Test Loss: 0.08139086931943894\n",
      "Epoch 40, Train Loss: 0.09319085456430912, Test Loss: 0.0807807870209217\n",
      "Epoch 41, Train Loss: 0.09540583312511444, Test Loss: 0.08227280572056771\n",
      "Epoch 42, Train Loss: 0.09448991648852825, Test Loss: 0.08118239060044288\n",
      "Epoch 43, Train Loss: 0.09537173323333263, Test Loss: 0.08183061242103577\n",
      "Epoch 44, Train Loss: 0.09305937580764294, Test Loss: 0.07928437650203705\n",
      "Epoch 45, Train Loss: 0.09332212891429663, Test Loss: 0.08081070631742478\n",
      "Epoch 46, Train Loss: 0.09469730332493782, Test Loss: 0.08290454655885697\n",
      "Epoch 47, Train Loss: 0.09631572782993317, Test Loss: 0.08010062620043755\n",
      "Epoch 48, Train Loss: 0.09338911294937134, Test Loss: 0.08167724952101707\n",
      "Epoch 49, Train Loss: 0.09940235581248999, Test Loss: 0.08674528032541275\n",
      "Epoch 50, Train Loss: 0.09033040672540665, Test Loss: 0.08029021993279457\n"
     ]
    }
   ],
   "source": [
    "# train a neural network on econEval model\n",
    "input_dim = X_econ_cov_train.shape[1]\n",
    "anes_net_econ, anes_loader = train_model(X_econ_cov_train, y_train_econ, X_econ_cov_test, y_test_econ, input_dim, hidden_dim, output_dim)"
   ]
  },
  {
   "cell_type": "code",
   "execution_count": null,
   "metadata": {},
   "outputs": [
    {
     "data": {
      "image/png": "[encoded data removed]",
      "text/plain": [
       "<Figure size 640x480 with 1 Axes>"
      ]
     },
     "metadata": {},
     "output_type": "display_data"
    },
    {
     "name": "stdout",
     "output_type": "stream",
     "text": [
      "R^2 value for pocketEval model: 0.8793520436864589\n",
      "R^2 value for econEval model: 0.8767172750476289\n"
     ]
    }
   ],
   "source": [
    "anes_net_econ.eval()\n",
    "econ_predictions = []\n",
    "with torch.no_grad():\n",
    "    for X_batch, y_batch in anes_loader:\n",
    "        output = anes_net_econ(X_batch)\n",
    "        econ_predictions.extend(output.numpy().flatten())\n",
    "\n",
    "# plot the predictions vs. true values\n",
    "plt.scatter(y_test_econ, econ_predictions)\n",
    "plt.xlabel('True Values')\n",
    "plt.ylabel('Predictions')\n",
    "plt.title('Predictions vs. True Values Econmodel')\n",
    "plt.show()\n",
    "\n",
    "from sklearn.metrics import r2_score\n",
    "print('R^2 value for pocketEval model:', r2_score(y_test_pocket, pocket_predictions))\n",
    "print('R^2 value for econEval model:', r2_score(y_test_econ, econ_predictions))"
   ]
  },
  {
   "cell_type": "markdown",
   "metadata": {},
   "source": [
    "## Random Forest"
   ]
  },
  {
   "cell_type": "code",
   "execution_count": null,
   "metadata": {},
   "outputs": [
    {
     "name": "stderr",
     "output_type": "stream",
     "text": [
      "c:\\Users\\miles\\anaconda3\\Lib\\site-packages\\sklearn\\base.py:1473: DataConversionWarning: A column-vector y was passed when a 1d array was expected. Please change the shape of y to (n_samples,), for example using ravel().\n",
      "  return fit_method(estimator, *args, **kwargs)\n"
     ]
    },
    {
     "name": "stdout",
     "output_type": "stream",
     "text": [
      "Random Forest accuracy on pocketEval model: 0.8851968120802028\n"
     ]
    }
   ],
   "source": [
    "# run a Random Forest on pocketEval test data and covariates\n",
    "rf_pocket = RandomForestRegressor(n_estimators=500, random_state=25)\n",
    "rf_pocket.fit(X_pocket_cov_train, y_train_pocket)\n",
    "\n",
    "feature_importance_pocket = pd.DataFrame({\n",
    "    \"Feature\": X_pocket_cov.columns,\n",
    "    \"Importance\": rf_pocket.feature_importances_\n",
    "}).sort_values(by=\"Importance\", ascending=False)\n",
    "feature_importance_pocket.head(10)\n",
    "\n",
    "# get random forest prediction accuracy on pocket test\n",
    "rf_pocket.score(X_pocket_cov_test, y_test_pocket)\n",
    "print('Random Forest accuracy on pocketEval model:', rf_pocket.score(X_pocket_cov_test, y_test_pocket))"
   ]
  },
  {
   "cell_type": "code",
   "execution_count": null,
   "metadata": {},
   "outputs": [
    {
     "name": "stderr",
     "output_type": "stream",
     "text": [
      "c:\\Users\\miles\\anaconda3\\Lib\\site-packages\\sklearn\\base.py:1473: DataConversionWarning: A column-vector y was passed when a 1d array was expected. Please change the shape of y to (n_samples,), for example using ravel().\n",
      "  return fit_method(estimator, *args, **kwargs)\n"
     ]
    },
    {
     "name": "stdout",
     "output_type": "stream",
     "text": [
      "Random Forest accuracy on econEval model: 0.8853996721513752\n"
     ]
    }
   ],
   "source": [
    "# run a Random Forest on econEval and covariates\n",
    "rf_econ = RandomForestRegressor(n_estimators=500, random_state=25)\n",
    "rf_econ.fit(X_econ_cov_train, y_train_econ)\n",
    "\n",
    "feature_importance_econ = pd.DataFrame({\n",
    "    \"Feature\": X_econ_cov.columns,\n",
    "    \"Importance\": rf_econ.feature_importances_\n",
    "}).sort_values(by=\"Importance\", ascending=False)\n",
    "feature_importance_econ.head(10)\n",
    "\n",
    "# get random forest prediction accuracy on econ test\n",
    "rf_econ.score(X_econ_cov_test, y_test_econ)\n",
    "print('Random Forest accuracy on econEval model:', rf_econ.score(X_econ_cov_test, y_test_econ))"
   ]
  }
 ],
 "metadata": {
  "kernelspec": {
   "display_name": "Python 3",
   "language": "python",
   "name": "python3"
  },
  "language_info": {
   "codemirror_mode": {
    "name": "ipython",
    "version": 3
   },
   "file_extension": ".py",
   "mimetype": "text/x-python",
   "name": "python",
   "nbconvert_exporter": "python",
   "pygments_lexer": "ipython3",
   "version": "3.11.4"
  }
 },
 "nbformat": 4,
 "nbformat_minor": 2
}
